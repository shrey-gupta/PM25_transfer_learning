{
 "cells": [
  {
   "cell_type": "code",
   "execution_count": 33,
   "metadata": {},
   "outputs": [
    {
     "name": "stdout",
     "output_type": "stream",
     "text": [
      "Repositories uploaded!!\n"
     ]
    }
   ],
   "source": [
    "import pandas as pd\n",
    "import sys\n",
    "import numpy as np\n",
    "from pandas import DataFrame\n",
    "from sklearn.model_selection import train_test_split, KFold\n",
    "from sklearn.tree import DecisionTreeRegressor\n",
    "from sklearn.ensemble import AdaBoostRegressor, GradientBoostingRegressor\n",
    "from sklearn.metrics import mean_squared_error, r2_score\n",
    "from sklearn.preprocessing import StandardScaler \n",
    "from sklearn.linear_model import LinearRegression, Ridge\n",
    "from sklearn.cluster import KMeans\n",
    "\n",
    "import matplotlib.pyplot as plt\n",
    "import matplotlib.lines as mlines\n",
    "import seaborn as sns\n",
    "\n",
    "from scipy.stats.stats import pearsonr\n",
    "from math import sqrt\n",
    "import statistics \n",
    "from scipy.stats import *\n",
    "from scipy.spatial import distance\n",
    "\n",
    "############################################################\n",
    "import tensorflow as tf\n",
    "from tensorflow import keras\n",
    "from tensorflow.keras import layers\n",
    "\n",
    "from matplotlib.colors import ListedColormap\n",
    "from matplotlib import cm\n",
    "import geopandas as gpd\n",
    "\n",
    "print(\"Repositories uploaded!!\")"
   ]
  },
  {
   "cell_type": "code",
   "execution_count": null,
   "metadata": {},
   "outputs": [],
   "source": [
    "###################### Creating the GRID dataset ######################"
   ]
  },
  {
   "cell_type": "code",
   "execution_count": null,
   "metadata": {},
   "outputs": [],
   "source": [
    "### cmaq_id is to be removed.\n",
    "### day can be left out."
   ]
  },
  {
   "cell_type": "code",
   "execution_count": 74,
   "metadata": {},
   "outputs": [
    {
     "name": "stderr",
     "output_type": "stream",
     "text": [
      "<ipython-input-74-dfd3f0f990a3>:2: DtypeWarning: Columns (91,94,118) have mixed types. Specify dtype option on import or set low_memory=False.\n",
      "  df_pm25small = pd.read_csv(\"US_data/BigUS/pm25small_lut.csv\", index_col=None)\n"
     ]
    }
   ],
   "source": [
    "#### import small training dataset\n",
    "df_pm25small = pd.read_csv(\"US_data/BigUS/pm25small_lut.csv\", index_col=None)\n",
    "df_pm25small = df_pm25small.drop(['Unnamed: 0'], axis = 1)"
   ]
  },
  {
   "cell_type": "code",
   "execution_count": 75,
   "metadata": {},
   "outputs": [],
   "source": [
    "##### replacing NaN values with mean values\n",
    "mean_value = df_pm25small['elev'].mean()\n",
    "df_pm25small['elev'].fillna(value = mean_value, inplace=True)\n",
    "\n",
    "mean_value = df_pm25small['forest_cover'].mean()\n",
    "df_pm25small['forest_cover'].fillna(value = mean_value, inplace=True)\n",
    "\n",
    "mean_value = df_pm25small['is'].mean()\n",
    "df_pm25small['is'].fillna(value = mean_value, inplace=True)"
   ]
  },
  {
   "cell_type": "code",
   "execution_count": 76,
   "metadata": {},
   "outputs": [],
   "source": [
    "### split into features to be standardized and the ones not to be standardizes.\n",
    "\n",
    "df_pm25_noscale = df_pm25small[['day', 'pm_x', 'pm_y', 'cmaq_id', 'pm25_value']]\n",
    "df_pm25_scale = df_pm25small[['elev', 'forest_cover', 'pd', 'local', 'limi', 'high', 'is', 'nldas_pevapsfc', 'nldas_pressfc', 'nldas_cape',\n",
    "                            'nldas_ugrd10m', 'nldas_vgrd10m', 'nldas_tmp2m', 'nldas_rh2m', 'nldas_dlwrfsfc', 'nldas_dswrfsfc', 'nldas_pcpsfc', 'nldas_fpcsfc',\n",
    "                            'aod_value', 'emissi11_pm25']]"
   ]
  },
  {
   "cell_type": "code",
   "execution_count": 77,
   "metadata": {},
   "outputs": [
    {
     "name": "stderr",
     "output_type": "stream",
     "text": [
      "<ipython-input-77-4815c174be26>:9: SettingWithCopyWarning: \n",
      "A value is trying to be set on a copy of a slice from a DataFrame.\n",
      "Try using .loc[row_indexer,col_indexer] = value instead\n",
      "\n",
      "See the caveats in the documentation: https://pandas.pydata.org/pandas-docs/stable/user_guide/indexing.html#returning-a-view-versus-a-copy\n",
      "  df_pm25_scale[scale_cols] = ss.fit_transform(df_pm25_scale[scale_cols])\n"
     ]
    }
   ],
   "source": [
    "### Run the standard scaler.\n",
    "\n",
    "from sklearn.preprocessing import StandardScaler\n",
    "\n",
    "scale_cols = ['elev', 'forest_cover', 'pd', 'local', 'limi', 'high', 'is', 'nldas_pevapsfc', 'nldas_pressfc', 'nldas_cape',\n",
    "                            'nldas_ugrd10m', 'nldas_vgrd10m', 'nldas_tmp2m', 'nldas_rh2m', 'nldas_dlwrfsfc', 'nldas_dswrfsfc', 'nldas_pcpsfc', 'nldas_fpcsfc',\n",
    "                            'aod_value', 'emissi11_pm25']\n",
    "ss = StandardScaler()\n",
    "df_pm25_scale[scale_cols] = ss.fit_transform(df_pm25_scale[scale_cols])"
   ]
  },
  {
   "cell_type": "code",
   "execution_count": 78,
   "metadata": {},
   "outputs": [],
   "source": [
    "### concatenate the 'standardized + non-standardized'\n",
    "\n",
    "df_small_fs = pd.concat([df_pm25_scale, df_pm25_noscale], axis=1)\n",
    "df_small_fs = df_small_fs.reset_index(drop = True)"
   ]
  },
  {
   "cell_type": "code",
   "execution_count": 199,
   "metadata": {},
   "outputs": [],
   "source": [
    "### concatenate the 'standardized + non-standardized' -- remove id and location,time features\n",
    "\n",
    "df_small_nid = pd.concat([df_pm25_scale, df_pm25_noscale['pm25_value']], axis=1)\n",
    "df_small_nid = df_small_nid.reset_index(drop = True)"
   ]
  },
  {
   "cell_type": "code",
   "execution_count": null,
   "metadata": {},
   "outputs": [],
   "source": [
    "### run prediction model on smaller dataset -- RF"
   ]
  },
  {
   "cell_type": "code",
   "execution_count": 79,
   "metadata": {},
   "outputs": [],
   "source": [
    "### removing outliers\n",
    "df_small_fs = df_small_fs[df_small_fs.pm25_value < 40]\n",
    "df_small_fs = df_small_fs.reset_index(drop = True)"
   ]
  },
  {
   "cell_type": "code",
   "execution_count": 80,
   "metadata": {},
   "outputs": [
    {
     "data": {
      "text/html": [
       "<div>\n",
       "<style scoped>\n",
       "    .dataframe tbody tr th:only-of-type {\n",
       "        vertical-align: middle;\n",
       "    }\n",
       "\n",
       "    .dataframe tbody tr th {\n",
       "        vertical-align: top;\n",
       "    }\n",
       "\n",
       "    .dataframe thead th {\n",
       "        text-align: right;\n",
       "    }\n",
       "</style>\n",
       "<table border=\"1\" class=\"dataframe\">\n",
       "  <thead>\n",
       "    <tr style=\"text-align: right;\">\n",
       "      <th></th>\n",
       "      <th>elev</th>\n",
       "      <th>forest_cover</th>\n",
       "      <th>pd</th>\n",
       "      <th>local</th>\n",
       "      <th>limi</th>\n",
       "      <th>high</th>\n",
       "      <th>is</th>\n",
       "      <th>nldas_pevapsfc</th>\n",
       "      <th>nldas_pressfc</th>\n",
       "      <th>nldas_cape</th>\n",
       "      <th>...</th>\n",
       "      <th>nldas_dswrfsfc</th>\n",
       "      <th>nldas_pcpsfc</th>\n",
       "      <th>nldas_fpcsfc</th>\n",
       "      <th>aod_value</th>\n",
       "      <th>emissi11_pm25</th>\n",
       "      <th>day</th>\n",
       "      <th>pm_x</th>\n",
       "      <th>pm_y</th>\n",
       "      <th>cmaq_id</th>\n",
       "      <th>pm25_value</th>\n",
       "    </tr>\n",
       "  </thead>\n",
       "  <tbody>\n",
       "    <tr>\n",
       "      <th>0</th>\n",
       "      <td>-0.103999</td>\n",
       "      <td>-0.585101</td>\n",
       "      <td>0.493962</td>\n",
       "      <td>-0.216977</td>\n",
       "      <td>-0.351019</td>\n",
       "      <td>-0.460546</td>\n",
       "      <td>1.073763</td>\n",
       "      <td>-1.613532</td>\n",
       "      <td>0.281213</td>\n",
       "      <td>-0.378959</td>\n",
       "      <td>...</td>\n",
       "      <td>-1.445129</td>\n",
       "      <td>-0.094654</td>\n",
       "      <td>-0.180297</td>\n",
       "      <td>0.330120</td>\n",
       "      <td>-0.058709</td>\n",
       "      <td>4</td>\n",
       "      <td>-1.482817e+06</td>\n",
       "      <td>1.283559e+06</td>\n",
       "      <td>55167</td>\n",
       "      <td>13.2</td>\n",
       "    </tr>\n",
       "    <tr>\n",
       "      <th>1</th>\n",
       "      <td>-0.103999</td>\n",
       "      <td>-0.585101</td>\n",
       "      <td>0.493962</td>\n",
       "      <td>-0.216977</td>\n",
       "      <td>-0.351019</td>\n",
       "      <td>-0.460546</td>\n",
       "      <td>1.073763</td>\n",
       "      <td>-1.583365</td>\n",
       "      <td>0.309005</td>\n",
       "      <td>-0.378959</td>\n",
       "      <td>...</td>\n",
       "      <td>-1.438081</td>\n",
       "      <td>-0.094654</td>\n",
       "      <td>-0.180297</td>\n",
       "      <td>-0.548720</td>\n",
       "      <td>-0.058709</td>\n",
       "      <td>5</td>\n",
       "      <td>-1.482817e+06</td>\n",
       "      <td>1.283559e+06</td>\n",
       "      <td>55167</td>\n",
       "      <td>18.1</td>\n",
       "    </tr>\n",
       "    <tr>\n",
       "      <th>2</th>\n",
       "      <td>-0.103999</td>\n",
       "      <td>-0.585101</td>\n",
       "      <td>0.493962</td>\n",
       "      <td>-0.216977</td>\n",
       "      <td>-0.351019</td>\n",
       "      <td>-0.460546</td>\n",
       "      <td>1.073763</td>\n",
       "      <td>-1.528579</td>\n",
       "      <td>0.173102</td>\n",
       "      <td>-0.378959</td>\n",
       "      <td>...</td>\n",
       "      <td>-1.391815</td>\n",
       "      <td>-0.094654</td>\n",
       "      <td>-0.180297</td>\n",
       "      <td>-0.094056</td>\n",
       "      <td>-0.058709</td>\n",
       "      <td>7</td>\n",
       "      <td>-1.482817e+06</td>\n",
       "      <td>1.283559e+06</td>\n",
       "      <td>55167</td>\n",
       "      <td>20.3</td>\n",
       "    </tr>\n",
       "    <tr>\n",
       "      <th>3</th>\n",
       "      <td>-0.103999</td>\n",
       "      <td>-0.585101</td>\n",
       "      <td>0.493962</td>\n",
       "      <td>-0.216977</td>\n",
       "      <td>-0.351019</td>\n",
       "      <td>-0.460546</td>\n",
       "      <td>1.073763</td>\n",
       "      <td>-1.492576</td>\n",
       "      <td>0.090508</td>\n",
       "      <td>-0.378959</td>\n",
       "      <td>...</td>\n",
       "      <td>-1.409396</td>\n",
       "      <td>-0.094654</td>\n",
       "      <td>-0.180297</td>\n",
       "      <td>0.024137</td>\n",
       "      <td>-0.058709</td>\n",
       "      <td>8</td>\n",
       "      <td>-1.482817e+06</td>\n",
       "      <td>1.283559e+06</td>\n",
       "      <td>55167</td>\n",
       "      <td>22.6</td>\n",
       "    </tr>\n",
       "    <tr>\n",
       "      <th>4</th>\n",
       "      <td>-0.103999</td>\n",
       "      <td>-0.585101</td>\n",
       "      <td>0.493962</td>\n",
       "      <td>-0.216977</td>\n",
       "      <td>-0.351019</td>\n",
       "      <td>-0.460546</td>\n",
       "      <td>1.073763</td>\n",
       "      <td>-1.609856</td>\n",
       "      <td>0.207823</td>\n",
       "      <td>-0.378959</td>\n",
       "      <td>...</td>\n",
       "      <td>-1.416048</td>\n",
       "      <td>-0.094654</td>\n",
       "      <td>-0.180297</td>\n",
       "      <td>0.157799</td>\n",
       "      <td>-0.058709</td>\n",
       "      <td>10</td>\n",
       "      <td>-1.482817e+06</td>\n",
       "      <td>1.283559e+06</td>\n",
       "      <td>55167</td>\n",
       "      <td>17.6</td>\n",
       "    </tr>\n",
       "    <tr>\n",
       "      <th>...</th>\n",
       "      <td>...</td>\n",
       "      <td>...</td>\n",
       "      <td>...</td>\n",
       "      <td>...</td>\n",
       "      <td>...</td>\n",
       "      <td>...</td>\n",
       "      <td>...</td>\n",
       "      <td>...</td>\n",
       "      <td>...</td>\n",
       "      <td>...</td>\n",
       "      <td>...</td>\n",
       "      <td>...</td>\n",
       "      <td>...</td>\n",
       "      <td>...</td>\n",
       "      <td>...</td>\n",
       "      <td>...</td>\n",
       "      <td>...</td>\n",
       "      <td>...</td>\n",
       "      <td>...</td>\n",
       "      <td>...</td>\n",
       "      <td>...</td>\n",
       "    </tr>\n",
       "    <tr>\n",
       "      <th>80070</th>\n",
       "      <td>-0.669105</td>\n",
       "      <td>0.162381</td>\n",
       "      <td>-0.308963</td>\n",
       "      <td>-0.960418</td>\n",
       "      <td>-0.351019</td>\n",
       "      <td>-0.460546</td>\n",
       "      <td>-0.173255</td>\n",
       "      <td>-1.963143</td>\n",
       "      <td>1.064133</td>\n",
       "      <td>-0.378959</td>\n",
       "      <td>...</td>\n",
       "      <td>-2.457914</td>\n",
       "      <td>-0.094654</td>\n",
       "      <td>-0.180297</td>\n",
       "      <td>-0.670670</td>\n",
       "      <td>-0.058709</td>\n",
       "      <td>350</td>\n",
       "      <td>-2.245780e+06</td>\n",
       "      <td>2.601795e+06</td>\n",
       "      <td>103055</td>\n",
       "      <td>5.8</td>\n",
       "    </tr>\n",
       "    <tr>\n",
       "      <th>80071</th>\n",
       "      <td>-0.669105</td>\n",
       "      <td>0.162381</td>\n",
       "      <td>-0.308963</td>\n",
       "      <td>-0.960418</td>\n",
       "      <td>-0.351019</td>\n",
       "      <td>-0.460546</td>\n",
       "      <td>-0.173255</td>\n",
       "      <td>-1.886009</td>\n",
       "      <td>0.906985</td>\n",
       "      <td>-0.378959</td>\n",
       "      <td>...</td>\n",
       "      <td>-2.414124</td>\n",
       "      <td>-0.094654</td>\n",
       "      <td>-0.180297</td>\n",
       "      <td>-0.646373</td>\n",
       "      <td>-0.058709</td>\n",
       "      <td>351</td>\n",
       "      <td>-2.245780e+06</td>\n",
       "      <td>2.601795e+06</td>\n",
       "      <td>103055</td>\n",
       "      <td>7.9</td>\n",
       "    </tr>\n",
       "    <tr>\n",
       "      <th>80072</th>\n",
       "      <td>-0.669105</td>\n",
       "      <td>0.162381</td>\n",
       "      <td>-0.308963</td>\n",
       "      <td>-0.960418</td>\n",
       "      <td>-0.351019</td>\n",
       "      <td>-0.460546</td>\n",
       "      <td>-0.173255</td>\n",
       "      <td>-1.781162</td>\n",
       "      <td>1.012660</td>\n",
       "      <td>-0.378959</td>\n",
       "      <td>...</td>\n",
       "      <td>-2.435467</td>\n",
       "      <td>-0.094654</td>\n",
       "      <td>-0.180297</td>\n",
       "      <td>-0.312772</td>\n",
       "      <td>-0.058709</td>\n",
       "      <td>356</td>\n",
       "      <td>-2.245780e+06</td>\n",
       "      <td>2.601795e+06</td>\n",
       "      <td>103055</td>\n",
       "      <td>5.7</td>\n",
       "    </tr>\n",
       "    <tr>\n",
       "      <th>80073</th>\n",
       "      <td>-0.669105</td>\n",
       "      <td>0.162381</td>\n",
       "      <td>-0.308963</td>\n",
       "      <td>-0.960418</td>\n",
       "      <td>-0.351019</td>\n",
       "      <td>-0.460546</td>\n",
       "      <td>-0.173255</td>\n",
       "      <td>-1.902227</td>\n",
       "      <td>1.098145</td>\n",
       "      <td>-0.378959</td>\n",
       "      <td>...</td>\n",
       "      <td>-2.501039</td>\n",
       "      <td>-0.094654</td>\n",
       "      <td>-0.180297</td>\n",
       "      <td>-0.591137</td>\n",
       "      <td>-0.058709</td>\n",
       "      <td>358</td>\n",
       "      <td>-2.245780e+06</td>\n",
       "      <td>2.601795e+06</td>\n",
       "      <td>103055</td>\n",
       "      <td>7.5</td>\n",
       "    </tr>\n",
       "    <tr>\n",
       "      <th>80074</th>\n",
       "      <td>-0.784441</td>\n",
       "      <td>-0.585101</td>\n",
       "      <td>-0.080028</td>\n",
       "      <td>0.558186</td>\n",
       "      <td>-0.351019</td>\n",
       "      <td>-0.460546</td>\n",
       "      <td>0.640419</td>\n",
       "      <td>-0.631268</td>\n",
       "      <td>1.014479</td>\n",
       "      <td>-0.378959</td>\n",
       "      <td>...</td>\n",
       "      <td>-0.449279</td>\n",
       "      <td>-0.094654</td>\n",
       "      <td>-0.180297</td>\n",
       "      <td>-0.650787</td>\n",
       "      <td>-0.058709</td>\n",
       "      <td>335</td>\n",
       "      <td>5.805801e+05</td>\n",
       "      <td>7.816557e+05</td>\n",
       "      <td>36692</td>\n",
       "      <td>16.5</td>\n",
       "    </tr>\n",
       "  </tbody>\n",
       "</table>\n",
       "<p>80075 rows × 25 columns</p>\n",
       "</div>"
      ],
      "text/plain": [
       "           elev  forest_cover        pd     local      limi      high  \\\n",
       "0     -0.103999     -0.585101  0.493962 -0.216977 -0.351019 -0.460546   \n",
       "1     -0.103999     -0.585101  0.493962 -0.216977 -0.351019 -0.460546   \n",
       "2     -0.103999     -0.585101  0.493962 -0.216977 -0.351019 -0.460546   \n",
       "3     -0.103999     -0.585101  0.493962 -0.216977 -0.351019 -0.460546   \n",
       "4     -0.103999     -0.585101  0.493962 -0.216977 -0.351019 -0.460546   \n",
       "...         ...           ...       ...       ...       ...       ...   \n",
       "80070 -0.669105      0.162381 -0.308963 -0.960418 -0.351019 -0.460546   \n",
       "80071 -0.669105      0.162381 -0.308963 -0.960418 -0.351019 -0.460546   \n",
       "80072 -0.669105      0.162381 -0.308963 -0.960418 -0.351019 -0.460546   \n",
       "80073 -0.669105      0.162381 -0.308963 -0.960418 -0.351019 -0.460546   \n",
       "80074 -0.784441     -0.585101 -0.080028  0.558186 -0.351019 -0.460546   \n",
       "\n",
       "             is  nldas_pevapsfc  nldas_pressfc  nldas_cape  ...  \\\n",
       "0      1.073763       -1.613532       0.281213   -0.378959  ...   \n",
       "1      1.073763       -1.583365       0.309005   -0.378959  ...   \n",
       "2      1.073763       -1.528579       0.173102   -0.378959  ...   \n",
       "3      1.073763       -1.492576       0.090508   -0.378959  ...   \n",
       "4      1.073763       -1.609856       0.207823   -0.378959  ...   \n",
       "...         ...             ...            ...         ...  ...   \n",
       "80070 -0.173255       -1.963143       1.064133   -0.378959  ...   \n",
       "80071 -0.173255       -1.886009       0.906985   -0.378959  ...   \n",
       "80072 -0.173255       -1.781162       1.012660   -0.378959  ...   \n",
       "80073 -0.173255       -1.902227       1.098145   -0.378959  ...   \n",
       "80074  0.640419       -0.631268       1.014479   -0.378959  ...   \n",
       "\n",
       "       nldas_dswrfsfc  nldas_pcpsfc  nldas_fpcsfc  aod_value  emissi11_pm25  \\\n",
       "0           -1.445129     -0.094654     -0.180297   0.330120      -0.058709   \n",
       "1           -1.438081     -0.094654     -0.180297  -0.548720      -0.058709   \n",
       "2           -1.391815     -0.094654     -0.180297  -0.094056      -0.058709   \n",
       "3           -1.409396     -0.094654     -0.180297   0.024137      -0.058709   \n",
       "4           -1.416048     -0.094654     -0.180297   0.157799      -0.058709   \n",
       "...               ...           ...           ...        ...            ...   \n",
       "80070       -2.457914     -0.094654     -0.180297  -0.670670      -0.058709   \n",
       "80071       -2.414124     -0.094654     -0.180297  -0.646373      -0.058709   \n",
       "80072       -2.435467     -0.094654     -0.180297  -0.312772      -0.058709   \n",
       "80073       -2.501039     -0.094654     -0.180297  -0.591137      -0.058709   \n",
       "80074       -0.449279     -0.094654     -0.180297  -0.650787      -0.058709   \n",
       "\n",
       "       day          pm_x          pm_y  cmaq_id  pm25_value  \n",
       "0        4 -1.482817e+06  1.283559e+06    55167        13.2  \n",
       "1        5 -1.482817e+06  1.283559e+06    55167        18.1  \n",
       "2        7 -1.482817e+06  1.283559e+06    55167        20.3  \n",
       "3        8 -1.482817e+06  1.283559e+06    55167        22.6  \n",
       "4       10 -1.482817e+06  1.283559e+06    55167        17.6  \n",
       "...    ...           ...           ...      ...         ...  \n",
       "80070  350 -2.245780e+06  2.601795e+06   103055         5.8  \n",
       "80071  351 -2.245780e+06  2.601795e+06   103055         7.9  \n",
       "80072  356 -2.245780e+06  2.601795e+06   103055         5.7  \n",
       "80073  358 -2.245780e+06  2.601795e+06   103055         7.5  \n",
       "80074  335  5.805801e+05  7.816557e+05    36692        16.5  \n",
       "\n",
       "[80075 rows x 25 columns]"
      ]
     },
     "execution_count": 80,
     "metadata": {},
     "output_type": "execute_result"
    }
   ],
   "source": [
    "df_small_fs"
   ]
  },
  {
   "cell_type": "code",
   "execution_count": 81,
   "metadata": {},
   "outputs": [
    {
     "data": {
      "text/plain": [
       "elev              0\n",
       "forest_cover      0\n",
       "pd                0\n",
       "local             0\n",
       "limi              0\n",
       "high              0\n",
       "is                0\n",
       "nldas_pevapsfc    0\n",
       "nldas_pressfc     0\n",
       "nldas_cape        0\n",
       "nldas_ugrd10m     0\n",
       "nldas_vgrd10m     0\n",
       "nldas_tmp2m       0\n",
       "nldas_rh2m        0\n",
       "nldas_dlwrfsfc    0\n",
       "nldas_dswrfsfc    0\n",
       "nldas_pcpsfc      0\n",
       "nldas_fpcsfc      0\n",
       "aod_value         0\n",
       "emissi11_pm25     0\n",
       "day               0\n",
       "pm_x              0\n",
       "pm_y              0\n",
       "cmaq_id           0\n",
       "pm25_value        0\n",
       "dtype: int64"
      ]
     },
     "execution_count": 81,
     "metadata": {},
     "output_type": "execute_result"
    }
   ],
   "source": [
    "df_small_fs.isna().sum()"
   ]
  },
  {
   "cell_type": "code",
   "execution_count": 175,
   "metadata": {},
   "outputs": [
    {
     "data": {
      "text/html": [
       "<div>\n",
       "<style scoped>\n",
       "    .dataframe tbody tr th:only-of-type {\n",
       "        vertical-align: middle;\n",
       "    }\n",
       "\n",
       "    .dataframe tbody tr th {\n",
       "        vertical-align: top;\n",
       "    }\n",
       "\n",
       "    .dataframe thead th {\n",
       "        text-align: right;\n",
       "    }\n",
       "</style>\n",
       "<table border=\"1\" class=\"dataframe\">\n",
       "  <thead>\n",
       "    <tr style=\"text-align: right;\">\n",
       "      <th></th>\n",
       "      <th>elev</th>\n",
       "      <th>forest_cover</th>\n",
       "      <th>pd</th>\n",
       "      <th>local</th>\n",
       "      <th>limi</th>\n",
       "      <th>high</th>\n",
       "      <th>is</th>\n",
       "      <th>nldas_pevapsfc</th>\n",
       "      <th>nldas_pressfc</th>\n",
       "      <th>nldas_cape</th>\n",
       "      <th>...</th>\n",
       "      <th>nldas_dswrfsfc</th>\n",
       "      <th>nldas_pcpsfc</th>\n",
       "      <th>nldas_fpcsfc</th>\n",
       "      <th>aod_value</th>\n",
       "      <th>emissi11_pm25</th>\n",
       "      <th>day</th>\n",
       "      <th>pm_x</th>\n",
       "      <th>pm_y</th>\n",
       "      <th>cmaq_id</th>\n",
       "      <th>pm25_value</th>\n",
       "    </tr>\n",
       "  </thead>\n",
       "  <tbody>\n",
       "  </tbody>\n",
       "</table>\n",
       "<p>0 rows × 25 columns</p>\n",
       "</div>"
      ],
      "text/plain": [
       "Empty DataFrame\n",
       "Columns: [elev, forest_cover, pd, local, limi, high, is, nldas_pevapsfc, nldas_pressfc, nldas_cape, nldas_ugrd10m, nldas_vgrd10m, nldas_tmp2m, nldas_rh2m, nldas_dlwrfsfc, nldas_dswrfsfc, nldas_pcpsfc, nldas_fpcsfc, aod_value, emissi11_pm25, day, pm_x, pm_y, cmaq_id, pm25_value]\n",
       "Index: []\n",
       "\n",
       "[0 rows x 25 columns]"
      ]
     },
     "execution_count": 175,
     "metadata": {},
     "output_type": "execute_result"
    }
   ],
   "source": [
    "#### Checking the spread of NaN values\n",
    "df_small_nan = df_small_fs[df_small_fs.isna().any(axis=1)]\n",
    "df_small_nan"
   ]
  },
  {
   "cell_type": "code",
   "execution_count": null,
   "metadata": {},
   "outputs": [],
   "source": [
    "### Validate their summary statistics with the paper.\n",
    "### Check if the small nan values are randomly located in the dataset\n",
    "### interpolation technique for filling in gc_aod value -- kriging interpolation, inverse distance weighting (IDW)"
   ]
  },
  {
   "cell_type": "code",
   "execution_count": 176,
   "metadata": {},
   "outputs": [
    {
     "data": {
      "text/plain": [
       "(46, 25)"
      ]
     },
     "execution_count": 176,
     "metadata": {},
     "output_type": "execute_result"
    }
   ],
   "source": [
    "######### For Day == 1 #########\n",
    "\n",
    "df_small_fs_1 = df_small_fs[df_small_fs['day'] == 1]\n",
    "df_small_fs_1 = df_small_fs_1.reset_index(drop = True)\n",
    "# df_pm25small_1[['year', 'day', 'cmaq_id', 'cmaq_x', 'cmaq_y', 'pm_id']]\n",
    "df_small_fs_1.shape"
   ]
  },
  {
   "cell_type": "code",
   "execution_count": null,
   "metadata": {},
   "outputs": [],
   "source": [
    "################################ For all features ################################"
   ]
  },
  {
   "cell_type": "code",
   "execution_count": 58,
   "metadata": {},
   "outputs": [],
   "source": [
    "from sklearn.model_selection import train_test_split\n",
    "\n",
    "df_small_train, df_small_test = train_test_split(df_small_fs, test_size=0.2)\n",
    "\n",
    "df_small_train_y = df_small_train['pm25_value'] \n",
    "df_small_train_X = df_small_train.drop(['pm25_value'], axis = 1)\n",
    "df_small_test_y = df_small_test['pm25_value'] \n",
    "df_small_test_X = df_small_test.drop(['pm25_value'], axis = 1)"
   ]
  },
  {
   "cell_type": "code",
   "execution_count": 193,
   "metadata": {},
   "outputs": [
    {
     "name": "stdout",
     "output_type": "stream",
     "text": [
      "4.97644633884594 0.4133216480836687\n",
      "3.381477569106016 0.7266234714413612\n",
      "3.412780843872505 0.7209814069653877\n"
     ]
    }
   ],
   "source": [
    "### Trying to run on ML algorithms ###\n",
    "from sklearn.metrics import mean_squared_error, r2_score\n",
    "from sklearn.ensemble import RandomForestRegressor\n",
    "from xgboost import XGBRegressor\n",
    "\n",
    "\n",
    "RF = RandomForestRegressor(n_estimators=1000, max_depth=6)\n",
    "RF.fit(df_small_train_X, df_small_train_y)\n",
    "RF_pred = RF.predict(df_small_test_X)\n",
    "\n",
    "mse_RF = sqrt(mean_squared_error(df_small_test_y, RF_pred))\n",
    "r2_RF = pearsonr(df_small_test_y, RF_pred)\n",
    "r2_RF = (r2_RF[0])**2\n",
    "print(mse_RF, r2_RF)\n",
    "\n",
    "XGB = XGBRegressor(n_estimators=1000, max_depth=6,learning_rate = 0.1) #eta=0.1)\n",
    "XGB.fit(df_small_train_X, df_small_train_y)\n",
    "XGB_pred = XGB.predict(df_small_test_X)\n",
    "\n",
    "mse_XGB = sqrt(mean_squared_error(df_small_test_y, XGB_pred))\n",
    "r2_XGB = pearsonr(df_small_test_y, XGB_pred)\n",
    "r2_XGB = (r2_XGB[0])**2\n",
    "print(mse_XGB, r2_XGB)\n",
    "\n",
    "GBR = GradientBoostingRegressor(n_estimators = 1000, max_depth=6, learning_rate = 0.1)\n",
    "GBR.fit(df_small_train_X, df_small_train_y)\n",
    "GBR_pred = GBR.predict(df_small_test_X)\n",
    "\n",
    "mse_GBR = sqrt(mean_squared_error(df_small_test_y, GBR_pred))\n",
    "r2_GBR = pearsonr(df_small_test_y, GBR_pred)\n",
    "r2_GBR = (r2_GBR[0])**2\n",
    "print(mse_GBR, r2_GBR)\n"
   ]
  },
  {
   "cell_type": "code",
   "execution_count": null,
   "metadata": {},
   "outputs": [],
   "source": [
    "################################ Removed ID, Location, Time features ################################"
   ]
  },
  {
   "cell_type": "code",
   "execution_count": 201,
   "metadata": {},
   "outputs": [],
   "source": [
    "from sklearn.model_selection import train_test_split\n",
    "\n",
    "df_small_train, df_small_test = train_test_split(df_small_nid, test_size=0.2)\n",
    "\n",
    "df_small_train_y = df_small_train['pm25_value'] \n",
    "df_small_train_X = df_small_train.drop(['pm25_value'], axis = 1)\n",
    "df_small_test_y = df_small_test['pm25_value'] \n",
    "df_small_test_X = df_small_test.drop(['pm25_value'], axis = 1)"
   ]
  },
  {
   "cell_type": "code",
   "execution_count": 202,
   "metadata": {},
   "outputs": [
    {
     "data": {
      "text/plain": [
       "(64274, 20)"
      ]
     },
     "execution_count": 202,
     "metadata": {},
     "output_type": "execute_result"
    }
   ],
   "source": [
    "df_small_train_X.shape"
   ]
  },
  {
   "cell_type": "code",
   "execution_count": 203,
   "metadata": {},
   "outputs": [
    {
     "name": "stdout",
     "output_type": "stream",
     "text": [
      "5.024921942062186 0.3724241115657916\n",
      "3.6796856781563605 0.6616224033214968\n",
      "3.697257759480659 0.6582718271269475\n"
     ]
    }
   ],
   "source": [
    "### Trying to run on ML algorithms ###\n",
    "from sklearn.metrics import mean_squared_error, r2_score\n",
    "from sklearn.ensemble import RandomForestRegressor\n",
    "from xgboost import XGBRegressor\n",
    "\n",
    "\n",
    "RF = RandomForestRegressor(n_estimators=1000, max_depth=6)\n",
    "RF.fit(df_small_train_X, df_small_train_y)\n",
    "RF_pred = RF.predict(df_small_test_X)\n",
    "\n",
    "mse_RF = sqrt(mean_squared_error(df_small_test_y, RF_pred))\n",
    "r2_RF = pearsonr(df_small_test_y, RF_pred)\n",
    "r2_RF = (r2_RF[0])**2\n",
    "print(mse_RF, r2_RF)\n",
    "\n",
    "XGB = XGBRegressor(n_estimators=1000, max_depth=6,learning_rate = 0.1) #eta=0.1)\n",
    "XGB.fit(df_small_train_X, df_small_train_y)\n",
    "XGB_pred = XGB.predict(df_small_test_X)\n",
    "\n",
    "mse_XGB = sqrt(mean_squared_error(df_small_test_y, XGB_pred))\n",
    "r2_XGB = pearsonr(df_small_test_y, XGB_pred)\n",
    "r2_XGB = (r2_XGB[0])**2\n",
    "print(mse_XGB, r2_XGB)\n",
    "\n",
    "GBR = GradientBoostingRegressor(n_estimators = 1000, max_depth=6, learning_rate = 0.1)\n",
    "GBR.fit(df_small_train_X, df_small_train_y)\n",
    "GBR_pred = GBR.predict(df_small_test_X)\n",
    "\n",
    "mse_GBR = sqrt(mean_squared_error(df_small_test_y, GBR_pred))\n",
    "r2_GBR = pearsonr(df_small_test_y, GBR_pred)\n",
    "r2_GBR = (r2_GBR[0])**2\n",
    "print(mse_GBR, r2_GBR)\n"
   ]
  },
  {
   "cell_type": "code",
   "execution_count": 59,
   "metadata": {},
   "outputs": [],
   "source": [
    "######### import big US datasets for 12 months #########\n",
    "\n",
    "df_BUS_1 = pd.read_csv(\"US_data/BigUS/n_aod_pred_2011_new10_1.csv\")\n",
    "df_BUS_2 = pd.read_csv(\"US_data/BigUS/n_aod_pred_2011_new10_2.csv\")\n",
    "df_BUS_3 = pd.read_csv(\"US_data/BigUS/n_aod_pred_2011_new10_3.csv\")\n",
    "df_BUS_4 = pd.read_csv(\"US_data/BigUS/n_aod_pred_2011_new10_4.csv\")\n",
    "df_BUS_5 = pd.read_csv(\"US_data/BigUS/n_aod_pred_2011_new10_5.csv\")\n",
    "df_BUS_6 = pd.read_csv(\"US_data/BigUS/n_aod_pred_2011_new10_6.csv\")\n",
    "df_BUS_7 = pd.read_csv(\"US_data/BigUS/n_aod_pred_2011_new10_7.csv\")\n",
    "df_BUS_8 = pd.read_csv(\"US_data/BigUS/n_aod_pred_2011_new10_8.csv\")\n",
    "df_BUS_9 = pd.read_csv(\"US_data/BigUS/n_aod_pred_2011_new10_9.csv\")\n",
    "df_BUS_10 = pd.read_csv(\"US_data/BigUS/n_aod_pred_2011_new10_10.csv\")\n",
    "df_BUS_11 = pd.read_csv(\"US_data/BigUS/n_aod_pred_2011_new10_11.csv\")\n",
    "df_BUS_12 = pd.read_csv(\"US_data/BigUS/n_aod_pred_2011_new10_12.csv\")"
   ]
  },
  {
   "cell_type": "code",
   "execution_count": 60,
   "metadata": {},
   "outputs": [],
   "source": [
    "df_BUS = pd.concat([df_BUS_1, df_BUS_2, df_BUS_3, df_BUS_4, df_BUS_5, df_BUS_6, df_BUS_7, df_BUS_8, df_BUS_9, df_BUS_10, df_BUS_11, df_BUS_12], ignore_index = True)"
   ]
  },
  {
   "cell_type": "code",
   "execution_count": 61,
   "metadata": {},
   "outputs": [
    {
     "data": {
      "text/plain": [
       "(19639555, 77)"
      ]
     },
     "execution_count": 61,
     "metadata": {},
     "output_type": "execute_result"
    }
   ],
   "source": [
    "df_BUS.shape"
   ]
  },
  {
   "cell_type": "code",
   "execution_count": 62,
   "metadata": {},
   "outputs": [
    {
     "data": {
      "text/plain": [
       "Index(['year', 'day', 'cmaq_x', 'cmaq_y', 'elev', 'emissi11_pm25',\n",
       "       'forest_cover', 'high', 'limi', 'local', 'is', 'pd', 'lon', 'lat',\n",
       "       'rid', 'elev_k', 'emissi11_pm25_k', 'emissi11_pm10_k', 'forest_cover_k',\n",
       "       'high_k', 'limi_k', 'local_k', 'is_k', 'pd_k', 'cmaq_id',\n",
       "       'nldas_pevapsfc', 'nldas_dlwrfsfc', 'nldas_dswrfsfc', 'nldas_cape',\n",
       "       'nldas_fpcsfc', 'nldas_pcpsfc', 'nldas_rh2m', 'nldas_tmp2m',\n",
       "       'nldas_vgrd10m', 'nldas_ugrd10m', 'nldas_pressfc', 'narr_dpt',\n",
       "       'narr_vis', 'narr_hpbl', 'narr_rh2m', 'narr_tmp2m', 'narr_ugrd10m',\n",
       "       'narr_vgrd10m', 'narr_rh30mb', 'narr_rh63mb', 'narr_rh96mb',\n",
       "       'narr_rh129mb', 'narr_rh1512mb', 'narr_rh1815mb', 'narr_tmp30mb',\n",
       "       'narr_tmp63mb', 'narr_tmp96mb', 'narr_tmp129mb', 'narr_tmp1512mb',\n",
       "       'narr_tmp1815mb', 'narr_ugrd30m', 'narr_ugrd30mb', 'narr_ugrd63mb',\n",
       "       'narr_ugrd96mb', 'narr_ugrd129mb', 'narr_ugrd1512mb', 'narr_ugrd1815mb',\n",
       "       'narr_vgrd30m', 'narr_vgrd30mb', 'narr_vgrd63mb', 'narr_vgrd96mb',\n",
       "       'narr_vgrd129mb', 'narr_vgrd1512mb', 'narr_vgrd1815mb', 'narr_tmp30m',\n",
       "       'narr_pres2m', 'narr_pres10m', 'narr_pres30m', 'aod_value',\n",
       "       'pm25_value', 'gc_aod', 'pm25_value_k'],\n",
       "      dtype='object')"
      ]
     },
     "execution_count": 62,
     "metadata": {},
     "output_type": "execute_result"
    }
   ],
   "source": [
    "df_BUS.columns"
   ]
  },
  {
   "cell_type": "code",
   "execution_count": 63,
   "metadata": {},
   "outputs": [
    {
     "data": {
      "text/plain": [
       "0"
      ]
     },
     "execution_count": 63,
     "metadata": {},
     "output_type": "execute_result"
    }
   ],
   "source": [
    "## replace NaN 'aod_value' slots with values in 'gc_aod'\n",
    "df_BUS.aod_value.fillna(df_BUS.gc_aod, inplace=True)\n",
    "df_BUS['aod_value'].isna().sum()"
   ]
  },
  {
   "cell_type": "code",
   "execution_count": 64,
   "metadata": {},
   "outputs": [],
   "source": [
    "##### replacing NaN values with mean values\n",
    "mean_value = df_BUS['nldas_pevapsfc'].mean()\n",
    "df_BUS['nldas_pevapsfc'].fillna(value = mean_value, inplace=True)\n",
    "\n",
    "mean_value = df_BUS['nldas_pressfc'].mean()\n",
    "df_BUS['nldas_pressfc'].fillna(value = mean_value, inplace=True)\n",
    "\n",
    "mean_value = df_BUS['nldas_cape'].mean()\n",
    "df_BUS['nldas_cape'].fillna(value = mean_value, inplace=True)\n",
    "\n",
    "mean_value = df_BUS['nldas_ugrd10m'].mean()\n",
    "df_BUS['nldas_ugrd10m'].fillna(value = mean_value, inplace=True)\n",
    "\n",
    "mean_value = df_BUS['nldas_vgrd10m'].mean()\n",
    "df_BUS['nldas_vgrd10m'].fillna(value = mean_value, inplace=True)\n",
    "\n",
    "mean_value = df_BUS['nldas_tmp2m'].mean()\n",
    "df_BUS['nldas_tmp2m'].fillna(value = mean_value, inplace=True)\n",
    "\n",
    "mean_value = df_BUS['nldas_rh2m'].mean()\n",
    "df_BUS['nldas_rh2m'].fillna(value = mean_value, inplace=True)\n",
    "\n",
    "mean_value = df_BUS['nldas_dlwrfsfc'].mean()\n",
    "df_BUS['nldas_dlwrfsfc'].fillna(value = mean_value, inplace=True)\n",
    "\n",
    "mean_value = df_BUS['nldas_dswrfsfc'].mean()\n",
    "df_BUS['nldas_dswrfsfc'].fillna(value = mean_value, inplace=True)\n",
    "\n",
    "mean_value = df_BUS['nldas_pcpsfc'].mean()\n",
    "df_BUS['nldas_pcpsfc'].fillna(value = mean_value, inplace=True)\n",
    "\n",
    "mean_value = df_BUS['nldas_fpcsfc'].mean()\n",
    "df_BUS['nldas_fpcsfc'].fillna(value = mean_value, inplace=True)"
   ]
  },
  {
   "cell_type": "code",
   "execution_count": 65,
   "metadata": {},
   "outputs": [
    {
     "data": {
      "text/plain": [
       "aod_value    0\n",
       "gc_aod       0\n",
       "dtype: int64"
      ]
     },
     "execution_count": 65,
     "metadata": {},
     "output_type": "execute_result"
    }
   ],
   "source": [
    "df_BUS[['aod_value', 'gc_aod']].isna().sum()"
   ]
  },
  {
   "cell_type": "code",
   "execution_count": 66,
   "metadata": {},
   "outputs": [],
   "source": [
    "### split into features to be standardized and the ones not to be standardizes.\n",
    "df_BUS_noscale = df_BUS[['day', 'cmaq_x', 'cmaq_y', 'cmaq_id', 'pm25_value']]\n",
    "df_BUS_scale = df_BUS[['elev', 'forest_cover', 'pd', 'local', 'limi', 'high', 'is', 'nldas_pevapsfc', 'nldas_pressfc', 'nldas_cape',\n",
    "                            'nldas_ugrd10m', 'nldas_vgrd10m', 'nldas_tmp2m', 'nldas_rh2m', 'nldas_dlwrfsfc', 'nldas_dswrfsfc', 'nldas_pcpsfc', 'nldas_fpcsfc',\n",
    "                            'aod_value', 'emissi11_pm25']]"
   ]
  },
  {
   "cell_type": "code",
   "execution_count": 67,
   "metadata": {},
   "outputs": [
    {
     "name": "stderr",
     "output_type": "stream",
     "text": [
      "<ipython-input-67-b830b58c37cf>:8: SettingWithCopyWarning: \n",
      "A value is trying to be set on a copy of a slice from a DataFrame.\n",
      "Try using .loc[row_indexer,col_indexer] = value instead\n",
      "\n",
      "See the caveats in the documentation: https://pandas.pydata.org/pandas-docs/stable/user_guide/indexing.html#returning-a-view-versus-a-copy\n",
      "  df_BUS_scale[scale_cols] = ss.fit_transform(df_BUS_scale[scale_cols])\n"
     ]
    }
   ],
   "source": [
    "### Run the standard scaler.\n",
    "from sklearn.preprocessing import StandardScaler\n",
    "\n",
    "scale_cols = ['elev', 'forest_cover', 'pd', 'local', 'limi', 'high', 'is', 'nldas_pevapsfc', 'nldas_pressfc', 'nldas_cape',\n",
    "                            'nldas_ugrd10m', 'nldas_vgrd10m', 'nldas_tmp2m', 'nldas_rh2m', 'nldas_dlwrfsfc', 'nldas_dswrfsfc', 'nldas_pcpsfc', 'nldas_fpcsfc',\n",
    "                            'aod_value', 'emissi11_pm25']\n",
    "ss = StandardScaler()\n",
    "df_BUS_scale[scale_cols] = ss.fit_transform(df_BUS_scale[scale_cols])"
   ]
  },
  {
   "cell_type": "code",
   "execution_count": 68,
   "metadata": {},
   "outputs": [],
   "source": [
    "### concatenate the 'standardized + non-standardized'\n",
    "df_BUS_fs = pd.concat([df_BUS_scale, df_BUS_noscale], axis=1)\n",
    "df_BUS_fs = df_BUS_fs.reset_index(drop = True)"
   ]
  },
  {
   "cell_type": "code",
   "execution_count": 69,
   "metadata": {},
   "outputs": [
    {
     "data": {
      "text/plain": [
       "(19639555, 25)"
      ]
     },
     "execution_count": 69,
     "metadata": {},
     "output_type": "execute_result"
    }
   ],
   "source": [
    "df_BUS_fs.shape"
   ]
  },
  {
   "cell_type": "code",
   "execution_count": 70,
   "metadata": {},
   "outputs": [
    {
     "data": {
      "text/plain": [
       "elev                     0\n",
       "forest_cover             0\n",
       "pd                       0\n",
       "local                    0\n",
       "limi                     0\n",
       "high                     0\n",
       "is                       0\n",
       "nldas_pevapsfc           0\n",
       "nldas_pressfc            0\n",
       "nldas_cape               0\n",
       "nldas_ugrd10m            0\n",
       "nldas_vgrd10m            0\n",
       "nldas_tmp2m              0\n",
       "nldas_rh2m               0\n",
       "nldas_dlwrfsfc           0\n",
       "nldas_dswrfsfc           0\n",
       "nldas_pcpsfc             0\n",
       "nldas_fpcsfc             0\n",
       "aod_value                0\n",
       "emissi11_pm25            0\n",
       "day                      0\n",
       "cmaq_x                   0\n",
       "cmaq_y                   0\n",
       "cmaq_id                  0\n",
       "pm25_value        19390426\n",
       "dtype: int64"
      ]
     },
     "execution_count": 70,
     "metadata": {},
     "output_type": "execute_result"
    }
   ],
   "source": [
    "df_BUS_fs.isna().sum()"
   ]
  },
  {
   "cell_type": "code",
   "execution_count": 92,
   "metadata": {},
   "outputs": [
    {
     "data": {
      "text/plain": [
       "(53807, 25)"
      ]
     },
     "execution_count": 92,
     "metadata": {},
     "output_type": "execute_result"
    }
   ],
   "source": [
    "######### For Day == 1 #########\n",
    "\n",
    "df_BUS_fs_1 = df_BUS_fs[df_BUS_fs['day'] == 1]\n",
    "df_BUS_fs_1 = df_BUS_fs_1.reset_index(drop = True)\n",
    "df_BUS_fs_1.shape"
   ]
  },
  {
   "cell_type": "code",
   "execution_count": null,
   "metadata": {},
   "outputs": [],
   "source": [
    "#### small dataset has NaN samples grouped together.\n",
    "#### large dataset has NaN samples spread out."
   ]
  },
  {
   "cell_type": "code",
   "execution_count": 71,
   "metadata": {},
   "outputs": [],
   "source": [
    "######### import the rasterio file #########\n",
    "\n",
    "import rasterio as rt\n",
    "\n",
    "rast_us = rt.open('US_data/BigUS/test.tif')"
   ]
  },
  {
   "cell_type": "code",
   "execution_count": 72,
   "metadata": {},
   "outputs": [],
   "source": [
    "rast_us_1 = rast_us.read(1)\n",
    "rast_us_1[rast_us_1 == rast_us.nodata] = 0"
   ]
  },
  {
   "cell_type": "code",
   "execution_count": 15,
   "metadata": {},
   "outputs": [],
   "source": [
    "### uncomment this when you want to print the entire numpy array\n",
    "np.set_printoptions(threshold=sys.maxsize)"
   ]
  },
  {
   "cell_type": "code",
   "execution_count": 73,
   "metadata": {},
   "outputs": [
    {
     "data": {
      "text/plain": [
       "(228, 369)"
      ]
     },
     "execution_count": 73,
     "metadata": {},
     "output_type": "execute_result"
    }
   ],
   "source": [
    "rast_us_1.shape ##numpy array where the missing values are nan"
   ]
  },
  {
   "cell_type": "code",
   "execution_count": 237,
   "metadata": {},
   "outputs": [
    {
     "name": "stdout",
     "output_type": "stream",
     "text": [
      "(3, 3, 2)\n",
      "---------------------\n",
      "[[ 1 10]\n",
      " [ 4 13]\n",
      " [ 7 16]\n",
      " [ 2 11]\n",
      " [ 5 14]\n",
      " [ 8 17]\n",
      " [ 3 12]\n",
      " [ 6 15]\n",
      " [ 9 18]]\n"
     ]
    }
   ],
   "source": [
    "testarr1 = np.array([[ 1,  2,  3],\n",
    "                [ 4,  5,  6],\n",
    "                [ 7,  8,  9]])\n",
    "testarr2 = np.array([[ 10,  11,  12],\n",
    "                [ 13,  14,  15],\n",
    "                [ 16,  17,  18]])\n",
    "\n",
    "testarr = np.dstack((testarr1, testarr2))\n",
    "print(testarr.shape)\n",
    "testarr = testarr.reshape(-1,2, order='F')\n",
    "print('---------------------')\n",
    "print(testarr)"
   ]
  },
  {
   "cell_type": "code",
   "execution_count": 277,
   "metadata": {},
   "outputs": [
    {
     "data": {
      "text/plain": [
       "array([[1, 2, 3],\n",
       "       [4, 5, 6],\n",
       "       [7, 8, 9]])"
      ]
     },
     "execution_count": 277,
     "metadata": {},
     "output_type": "execute_result"
    }
   ],
   "source": [
    "testarr1 = np.array([[ 1,  2,  3],\n",
    "                [ 4,  5,  6],\n",
    "                [ 7,  8,  9]])\n",
    "testarr2 = np.array([[ 10,  11,  12],\n",
    "                [ 13,  14,  15],\n",
    "                [ 16,  17,  18]])\n",
    "\n",
    "testarr3 = np.array([[ 19,  20,  21],\n",
    "                [ 22,  23,  24],\n",
    "                [ 25,  26,  27]])\n",
    "\n",
    "\n",
    "dictarr = {}\n",
    "\n",
    "dictarr[1] = testarr1\n",
    "dictarr[1]"
   ]
  },
  {
   "cell_type": "code",
   "execution_count": null,
   "metadata": {},
   "outputs": [],
   "source": [
    "# elev, forest_cover, pd, local, limi, high, is, nldas_pevapsfc, nldas_pressfc, nldas_cape, nldas_ugrd10m, nldas_vgrd10m, nldas_tmp2m, nldas_rh2m, \n",
    "# nldas_dlwrfsfc, nldas_dswrfsfc, nldas_pcpsfc, nldas_fpcsfc, aod_value, emissi11_pm25\n"
   ]
  },
  {
   "cell_type": "code",
   "execution_count": null,
   "metadata": {},
   "outputs": [],
   "source": [
    "#### Should I use np.stack to form a numpy array that looks like 5x5x21 but has a shape 21x5x5, \n",
    "#### whereas np.dstack makes a shape 5x5x21 but looks different (like an upward view of the cube)"
   ]
  },
  {
   "cell_type": "code",
   "execution_count": 82,
   "metadata": {},
   "outputs": [
    {
     "name": "stdout",
     "output_type": "stream",
     "text": [
      "1\n",
      "2\n",
      "3\n",
      "4\n",
      "5\n",
      "6\n",
      "7\n",
      "8\n",
      "9\n",
      "10\n",
      "11\n",
      "12\n",
      "13\n",
      "14\n",
      "15\n",
      "16\n",
      "17\n",
      "18\n",
      "19\n",
      "20\n",
      "21\n",
      "22\n",
      "23\n",
      "24\n",
      "25\n",
      "26\n",
      "27\n",
      "28\n",
      "29\n",
      "30\n",
      "31\n",
      "32\n",
      "33\n",
      "34\n",
      "35\n",
      "36\n",
      "37\n",
      "38\n",
      "39\n",
      "40\n",
      "41\n",
      "42\n",
      "43\n",
      "44\n",
      "45\n",
      "46\n",
      "47\n",
      "48\n",
      "49\n",
      "50\n",
      "51\n",
      "52\n",
      "53\n",
      "54\n",
      "55\n",
      "56\n",
      "57\n",
      "58\n",
      "59\n",
      "60\n",
      "61\n",
      "62\n",
      "63\n",
      "64\n",
      "65\n",
      "66\n",
      "67\n",
      "68\n",
      "69\n",
      "70\n",
      "71\n",
      "72\n",
      "73\n",
      "74\n",
      "75\n",
      "76\n",
      "77\n",
      "78\n",
      "79\n",
      "80\n",
      "81\n",
      "82\n",
      "83\n",
      "84\n",
      "85\n",
      "86\n",
      "87\n",
      "88\n",
      "89\n",
      "90\n",
      "91\n",
      "92\n",
      "93\n",
      "94\n",
      "95\n",
      "96\n",
      "97\n",
      "98\n",
      "99\n",
      "100\n",
      "101\n",
      "102\n",
      "103\n",
      "104\n",
      "105\n",
      "106\n",
      "107\n",
      "108\n",
      "109\n",
      "110\n",
      "111\n",
      "112\n",
      "113\n",
      "114\n",
      "115\n",
      "116\n",
      "117\n",
      "118\n",
      "119\n",
      "120\n",
      "121\n",
      "122\n",
      "123\n",
      "124\n",
      "125\n",
      "126\n",
      "127\n",
      "128\n",
      "129\n",
      "130\n",
      "131\n",
      "132\n",
      "133\n",
      "134\n",
      "135\n",
      "136\n",
      "137\n",
      "138\n",
      "139\n",
      "140\n",
      "141\n",
      "142\n",
      "143\n",
      "144\n",
      "145\n",
      "146\n",
      "147\n",
      "148\n",
      "149\n",
      "150\n",
      "151\n",
      "152\n",
      "153\n",
      "154\n",
      "155\n",
      "156\n",
      "157\n",
      "158\n",
      "159\n",
      "160\n",
      "161\n",
      "162\n",
      "163\n",
      "164\n",
      "165\n",
      "166\n",
      "167\n",
      "168\n",
      "169\n",
      "170\n",
      "171\n",
      "172\n",
      "173\n",
      "174\n",
      "175\n",
      "176\n",
      "177\n",
      "178\n",
      "179\n",
      "180\n",
      "181\n",
      "182\n",
      "183\n",
      "184\n",
      "185\n",
      "186\n",
      "187\n",
      "188\n",
      "189\n",
      "190\n",
      "191\n",
      "192\n",
      "193\n",
      "194\n",
      "195\n",
      "196\n",
      "197\n",
      "198\n",
      "199\n",
      "200\n",
      "201\n",
      "202\n",
      "203\n",
      "204\n",
      "205\n",
      "206\n",
      "207\n",
      "208\n",
      "209\n",
      "210\n",
      "211\n",
      "212\n",
      "213\n",
      "214\n",
      "215\n",
      "216\n",
      "217\n",
      "218\n",
      "219\n",
      "220\n",
      "221\n",
      "222\n",
      "223\n",
      "224\n",
      "225\n",
      "226\n",
      "227\n",
      "228\n",
      "229\n",
      "230\n",
      "231\n",
      "232\n",
      "233\n",
      "234\n",
      "235\n",
      "236\n",
      "237\n",
      "238\n",
      "239\n",
      "240\n",
      "241\n",
      "242\n",
      "243\n",
      "244\n",
      "245\n",
      "246\n",
      "247\n",
      "248\n",
      "249\n",
      "250\n",
      "251\n",
      "252\n",
      "253\n",
      "254\n",
      "255\n",
      "256\n",
      "257\n",
      "258\n",
      "259\n",
      "260\n",
      "261\n",
      "262\n",
      "263\n",
      "264\n",
      "265\n",
      "266\n",
      "267\n",
      "268\n",
      "269\n",
      "270\n",
      "271\n",
      "272\n",
      "273\n",
      "274\n",
      "275\n",
      "276\n",
      "277\n",
      "278\n",
      "279\n",
      "280\n",
      "281\n",
      "282\n",
      "283\n",
      "284\n",
      "285\n",
      "286\n",
      "287\n",
      "288\n",
      "289\n",
      "290\n",
      "291\n",
      "292\n",
      "293\n",
      "294\n",
      "295\n",
      "296\n",
      "297\n",
      "298\n",
      "299\n",
      "300\n",
      "301\n",
      "302\n",
      "303\n",
      "304\n",
      "305\n",
      "306\n",
      "307\n",
      "308\n",
      "309\n",
      "310\n",
      "311\n",
      "312\n",
      "313\n",
      "314\n",
      "315\n",
      "316\n",
      "317\n",
      "318\n",
      "319\n",
      "320\n",
      "321\n",
      "322\n",
      "323\n",
      "324\n",
      "325\n",
      "326\n",
      "327\n",
      "328\n",
      "329\n",
      "330\n",
      "331\n",
      "332\n",
      "333\n",
      "334\n",
      "335\n",
      "336\n",
      "337\n",
      "338\n",
      "339\n",
      "340\n",
      "341\n",
      "342\n",
      "343\n",
      "344\n",
      "345\n",
      "346\n",
      "347\n",
      "348\n",
      "349\n",
      "350\n",
      "351\n",
      "352\n",
      "353\n",
      "354\n",
      "355\n",
      "356\n",
      "357\n",
      "358\n",
      "359\n",
      "360\n",
      "361\n",
      "362\n",
      "363\n",
      "364\n",
      "365\n"
     ]
    }
   ],
   "source": [
    "N = 5\n",
    "N_ = int(N/2)\n",
    "\n",
    "key = 0\n",
    "targetlist = []\n",
    "traininglist = []\n",
    "training_difflist = []\n",
    "\n",
    "# fgrid = open('US_data/BigUS/grid3d.npy', 'ab+')\n",
    "\n",
    "for day in range(1,366):\n",
    "    print(day)\n",
    "    df_BUS_fs_1 = df_BUS_fs[df_BUS_fs['day'] == day]\n",
    "    df_BUS_fs_1 = df_BUS_fs_1.reset_index(drop = True)\n",
    "    \n",
    "    df_small_fs_1 = df_small_fs[df_small_fs['day'] == day]\n",
    "    df_small_fs_1 = df_small_fs_1.reset_index(drop = True)\n",
    "    \n",
    "    for idx, rowval in df_small_fs_1.iterrows(): ### iterate over each row\n",
    "        featarr = np.ones((5, 5))\n",
    "        feat_diffdict = {}\n",
    "        idx_ = 0\n",
    "        for colname in df_small_fs_1: ###iterate over every column\n",
    "#             print(colname)\n",
    "            \n",
    "            if colname == 'cmaq_id' or colname == 'pm_x' or colname == 'pm_y' or colname == 'day':\n",
    "                continue\n",
    "            elif colname == 'pm25_value':\n",
    "                targetval = rowval['pm25_value']\n",
    "            else:\n",
    "                idx_ = idx_ + 1\n",
    "                temparr = np.ones((5, 5))\n",
    "                cmaqval = rowval['cmaq_id']\n",
    "                row, col = np.where(rast_us_1 == cmaqval)\n",
    "                cmaqgrid = np.array(rast_us_1[row[0] - N_:row[0]+(N_+1), col[0]- N_:col[0]+(N_+1)])\n",
    "                \n",
    "                if cmaqgrid.shape[0] == 5 and cmaqgrid.shape[1] == 5:\n",
    "#                     print(cmaqgrid.shape)\n",
    "                    for i in range(5): ## Add values element-wise \n",
    "                        for j in range(5):\n",
    "                            if i == 2 and j == 2: ##where the hell are you putting these values? Like when?\n",
    "#                                 continue\n",
    "#                                 print(rowval[colname])\n",
    "                                temparr[i,j] = rowval[colname]                               \n",
    "    \n",
    "                            else:\n",
    "                                match_cmaq = cmaqgrid[i,j]\n",
    "                                if match_cmaq == 0: ## compare this to 0 || previously: if np.isnan(match_cmaq): \n",
    "                                    temparr[i,j] = match_cmaq\n",
    "                                    \n",
    "                                else:\n",
    "                                    locval_df = df_BUS_fs_1[df_BUS_fs_1['cmaq_id'] == match_cmaq]\n",
    "                                    locval = locval_df[colname]\n",
    "                                    temparr[i,j] = locval\n",
    "                                    \n",
    "                else:\n",
    "                    continue\n",
    "                \n",
    "                    \n",
    "                \n",
    "            featarr = np.dstack((featarr,temparr))\n",
    "            feat_diffdict[idx_] = temparr \n",
    "        \n",
    "        if featarr.shape[0] == 5 and featarr.shape[1] == 5 and featarr.shape[2] == 22:\n",
    "#             print(featarr.shape)\n",
    "            featarr = np.delete(featarr, (0), axis = 2) ##delete first\n",
    "            featarr = np.delete(featarr, (20), axis = 2) ##delete 20th which is extra\n",
    "            \n",
    "            targetlist.append(targetval)\n",
    "            \n",
    "#             print(\"Counter value is:\", idx_)\n",
    "            feat_diffarr = np.stack((feat_diffdict[1], feat_diffdict[2], feat_diffdict[3], feat_diffdict[4], feat_diffdict[5], \n",
    "                                     feat_diffdict[6], feat_diffdict[7], feat_diffdict[8], feat_diffdict[9], feat_diffdict[10], \n",
    "                                     feat_diffdict[11], feat_diffdict[12], feat_diffdict[13], feat_diffdict[14], feat_diffdict[15], \n",
    "                                     feat_diffdict[16], feat_diffdict[17], feat_diffdict[18], feat_diffdict[19], feat_diffdict[20]))\n",
    "\n",
    "#             print(\"Putting in training list\")\n",
    "#             print(featarr.shape, feat_diffarr.shape)\n",
    "#             print(\"----------------------------\")\n",
    "            traininglist.append(featarr)\n",
    "            training_difflist.append(feat_diffarr)\n"
   ]
  },
  {
   "cell_type": "code",
   "execution_count": 287,
   "metadata": {},
   "outputs": [
    {
     "ename": "KeyboardInterrupt",
     "evalue": "",
     "output_type": "error",
     "traceback": [
      "\u001b[0;31m---------------------------------------------------------------------------\u001b[0m",
      "\u001b[0;31mKeyboardInterrupt\u001b[0m                         Traceback (most recent call last)",
      "\u001b[0;32m<ipython-input-287-7a4c12311aa3>\u001b[0m in \u001b[0;36m<module>\u001b[0;34m\u001b[0m\n\u001b[1;32m     35\u001b[0m                             \u001b[0mtemparr\u001b[0m\u001b[0;34m[\u001b[0m\u001b[0mi\u001b[0m\u001b[0;34m,\u001b[0m\u001b[0mj\u001b[0m\u001b[0;34m]\u001b[0m \u001b[0;34m=\u001b[0m \u001b[0mmatch_cmaq\u001b[0m\u001b[0;34m\u001b[0m\u001b[0;34m\u001b[0m\u001b[0m\n\u001b[1;32m     36\u001b[0m                         \u001b[0;32melse\u001b[0m\u001b[0;34m:\u001b[0m\u001b[0;34m\u001b[0m\u001b[0;34m\u001b[0m\u001b[0m\n\u001b[0;32m---> 37\u001b[0;31m                             \u001b[0mlocval_df\u001b[0m \u001b[0;34m=\u001b[0m \u001b[0mdf_BUS_fs_1\u001b[0m\u001b[0;34m[\u001b[0m\u001b[0mdf_BUS_fs_1\u001b[0m\u001b[0;34m[\u001b[0m\u001b[0;34m'cmaq_id'\u001b[0m\u001b[0;34m]\u001b[0m \u001b[0;34m==\u001b[0m \u001b[0mmatch_cmaq\u001b[0m\u001b[0;34m]\u001b[0m\u001b[0;34m\u001b[0m\u001b[0;34m\u001b[0m\u001b[0m\n\u001b[0m\u001b[1;32m     38\u001b[0m                             \u001b[0mlocval\u001b[0m \u001b[0;34m=\u001b[0m \u001b[0mlocval_df\u001b[0m\u001b[0;34m[\u001b[0m\u001b[0mcolname\u001b[0m\u001b[0;34m]\u001b[0m\u001b[0;34m\u001b[0m\u001b[0;34m\u001b[0m\u001b[0m\n\u001b[1;32m     39\u001b[0m                             \u001b[0mtemparr\u001b[0m\u001b[0;34m[\u001b[0m\u001b[0mi\u001b[0m\u001b[0;34m,\u001b[0m\u001b[0mj\u001b[0m\u001b[0;34m]\u001b[0m \u001b[0;34m=\u001b[0m \u001b[0mlocval\u001b[0m\u001b[0;34m\u001b[0m\u001b[0;34m\u001b[0m\u001b[0m\n",
      "\u001b[0;32m~/anaconda3/lib/python3.8/site-packages/pandas/core/ops/common.py\u001b[0m in \u001b[0;36mnew_method\u001b[0;34m(self, other)\u001b[0m\n\u001b[1;32m     68\u001b[0m         \u001b[0mother\u001b[0m \u001b[0;34m=\u001b[0m \u001b[0mitem_from_zerodim\u001b[0m\u001b[0;34m(\u001b[0m\u001b[0mother\u001b[0m\u001b[0;34m)\u001b[0m\u001b[0;34m\u001b[0m\u001b[0;34m\u001b[0m\u001b[0m\n\u001b[1;32m     69\u001b[0m \u001b[0;34m\u001b[0m\u001b[0m\n\u001b[0;32m---> 70\u001b[0;31m         \u001b[0;32mreturn\u001b[0m \u001b[0mmethod\u001b[0m\u001b[0;34m(\u001b[0m\u001b[0mself\u001b[0m\u001b[0;34m,\u001b[0m \u001b[0mother\u001b[0m\u001b[0;34m)\u001b[0m\u001b[0;34m\u001b[0m\u001b[0;34m\u001b[0m\u001b[0m\n\u001b[0m\u001b[1;32m     71\u001b[0m \u001b[0;34m\u001b[0m\u001b[0m\n\u001b[1;32m     72\u001b[0m     \u001b[0;32mreturn\u001b[0m \u001b[0mnew_method\u001b[0m\u001b[0;34m\u001b[0m\u001b[0;34m\u001b[0m\u001b[0m\n",
      "\u001b[0;32m~/anaconda3/lib/python3.8/site-packages/pandas/core/arraylike.py\u001b[0m in \u001b[0;36m__eq__\u001b[0;34m(self, other)\u001b[0m\n\u001b[1;32m     38\u001b[0m     \u001b[0;34m@\u001b[0m\u001b[0munpack_zerodim_and_defer\u001b[0m\u001b[0;34m(\u001b[0m\u001b[0;34m\"__eq__\"\u001b[0m\u001b[0;34m)\u001b[0m\u001b[0;34m\u001b[0m\u001b[0;34m\u001b[0m\u001b[0m\n\u001b[1;32m     39\u001b[0m     \u001b[0;32mdef\u001b[0m \u001b[0m__eq__\u001b[0m\u001b[0;34m(\u001b[0m\u001b[0mself\u001b[0m\u001b[0;34m,\u001b[0m \u001b[0mother\u001b[0m\u001b[0;34m)\u001b[0m\u001b[0;34m:\u001b[0m\u001b[0;34m\u001b[0m\u001b[0;34m\u001b[0m\u001b[0m\n\u001b[0;32m---> 40\u001b[0;31m         \u001b[0;32mreturn\u001b[0m \u001b[0mself\u001b[0m\u001b[0;34m.\u001b[0m\u001b[0m_cmp_method\u001b[0m\u001b[0;34m(\u001b[0m\u001b[0mother\u001b[0m\u001b[0;34m,\u001b[0m \u001b[0moperator\u001b[0m\u001b[0;34m.\u001b[0m\u001b[0meq\u001b[0m\u001b[0;34m)\u001b[0m\u001b[0;34m\u001b[0m\u001b[0;34m\u001b[0m\u001b[0m\n\u001b[0m\u001b[1;32m     41\u001b[0m \u001b[0;34m\u001b[0m\u001b[0m\n\u001b[1;32m     42\u001b[0m     \u001b[0;34m@\u001b[0m\u001b[0munpack_zerodim_and_defer\u001b[0m\u001b[0;34m(\u001b[0m\u001b[0;34m\"__ne__\"\u001b[0m\u001b[0;34m)\u001b[0m\u001b[0;34m\u001b[0m\u001b[0;34m\u001b[0m\u001b[0m\n",
      "\u001b[0;32m~/anaconda3/lib/python3.8/site-packages/pandas/core/series.py\u001b[0m in \u001b[0;36m_cmp_method\u001b[0;34m(self, other, op)\u001b[0m\n\u001b[1;32m   5621\u001b[0m \u001b[0;34m\u001b[0m\u001b[0m\n\u001b[1;32m   5622\u001b[0m         \u001b[0;32mwith\u001b[0m \u001b[0mnp\u001b[0m\u001b[0;34m.\u001b[0m\u001b[0merrstate\u001b[0m\u001b[0;34m(\u001b[0m\u001b[0mall\u001b[0m\u001b[0;34m=\u001b[0m\u001b[0;34m\"ignore\"\u001b[0m\u001b[0;34m)\u001b[0m\u001b[0;34m:\u001b[0m\u001b[0;34m\u001b[0m\u001b[0;34m\u001b[0m\u001b[0m\n\u001b[0;32m-> 5623\u001b[0;31m             \u001b[0mres_values\u001b[0m \u001b[0;34m=\u001b[0m \u001b[0mops\u001b[0m\u001b[0;34m.\u001b[0m\u001b[0mcomparison_op\u001b[0m\u001b[0;34m(\u001b[0m\u001b[0mlvalues\u001b[0m\u001b[0;34m,\u001b[0m \u001b[0mrvalues\u001b[0m\u001b[0;34m,\u001b[0m \u001b[0mop\u001b[0m\u001b[0;34m)\u001b[0m\u001b[0;34m\u001b[0m\u001b[0;34m\u001b[0m\u001b[0m\n\u001b[0m\u001b[1;32m   5624\u001b[0m \u001b[0;34m\u001b[0m\u001b[0m\n\u001b[1;32m   5625\u001b[0m         \u001b[0;32mreturn\u001b[0m \u001b[0mself\u001b[0m\u001b[0;34m.\u001b[0m\u001b[0m_construct_result\u001b[0m\u001b[0;34m(\u001b[0m\u001b[0mres_values\u001b[0m\u001b[0;34m,\u001b[0m \u001b[0mname\u001b[0m\u001b[0;34m=\u001b[0m\u001b[0mres_name\u001b[0m\u001b[0;34m)\u001b[0m\u001b[0;34m\u001b[0m\u001b[0;34m\u001b[0m\u001b[0m\n",
      "\u001b[0;32m~/anaconda3/lib/python3.8/site-packages/pandas/core/ops/array_ops.py\u001b[0m in \u001b[0;36mcomparison_op\u001b[0;34m(left, right, op)\u001b[0m\n\u001b[1;32m    276\u001b[0m             \u001b[0mres_values\u001b[0m \u001b[0;34m=\u001b[0m \u001b[0mnp\u001b[0m\u001b[0;34m.\u001b[0m\u001b[0mzeros\u001b[0m\u001b[0;34m(\u001b[0m\u001b[0mlvalues\u001b[0m\u001b[0;34m.\u001b[0m\u001b[0mshape\u001b[0m\u001b[0;34m,\u001b[0m \u001b[0mdtype\u001b[0m\u001b[0;34m=\u001b[0m\u001b[0mbool\u001b[0m\u001b[0;34m)\u001b[0m\u001b[0;34m\u001b[0m\u001b[0;34m\u001b[0m\u001b[0m\n\u001b[1;32m    277\u001b[0m \u001b[0;34m\u001b[0m\u001b[0m\n\u001b[0;32m--> 278\u001b[0;31m     \u001b[0;32melif\u001b[0m \u001b[0mis_numeric_v_string_like\u001b[0m\u001b[0;34m(\u001b[0m\u001b[0mlvalues\u001b[0m\u001b[0;34m,\u001b[0m \u001b[0mrvalues\u001b[0m\u001b[0;34m)\u001b[0m\u001b[0;34m:\u001b[0m\u001b[0;34m\u001b[0m\u001b[0;34m\u001b[0m\u001b[0m\n\u001b[0m\u001b[1;32m    279\u001b[0m         \u001b[0;31m# GH#36377 going through the numexpr path would incorrectly raise\u001b[0m\u001b[0;34m\u001b[0m\u001b[0;34m\u001b[0m\u001b[0;34m\u001b[0m\u001b[0m\n\u001b[1;32m    280\u001b[0m         \u001b[0;32mreturn\u001b[0m \u001b[0minvalid_comparison\u001b[0m\u001b[0;34m(\u001b[0m\u001b[0mlvalues\u001b[0m\u001b[0;34m,\u001b[0m \u001b[0mrvalues\u001b[0m\u001b[0;34m,\u001b[0m \u001b[0mop\u001b[0m\u001b[0;34m)\u001b[0m\u001b[0;34m\u001b[0m\u001b[0;34m\u001b[0m\u001b[0m\n",
      "\u001b[0;32m~/anaconda3/lib/python3.8/site-packages/pandas/core/dtypes/common.py\u001b[0m in \u001b[0;36mis_numeric_v_string_like\u001b[0;34m(a, b)\u001b[0m\n\u001b[1;32m   1040\u001b[0m \u001b[0;34m\u001b[0m\u001b[0m\n\u001b[1;32m   1041\u001b[0m \u001b[0;31m# This exists to silence numpy deprecation warnings, see GH#29553\u001b[0m\u001b[0;34m\u001b[0m\u001b[0;34m\u001b[0m\u001b[0;34m\u001b[0m\u001b[0m\n\u001b[0;32m-> 1042\u001b[0;31m \u001b[0;32mdef\u001b[0m \u001b[0mis_numeric_v_string_like\u001b[0m\u001b[0;34m(\u001b[0m\u001b[0ma\u001b[0m\u001b[0;34m:\u001b[0m \u001b[0mArrayLike\u001b[0m\u001b[0;34m,\u001b[0m \u001b[0mb\u001b[0m\u001b[0;34m)\u001b[0m\u001b[0;34m:\u001b[0m\u001b[0;34m\u001b[0m\u001b[0;34m\u001b[0m\u001b[0m\n\u001b[0m\u001b[1;32m   1043\u001b[0m     \"\"\"\n\u001b[1;32m   1044\u001b[0m     \u001b[0mCheck\u001b[0m \u001b[0;32mif\u001b[0m \u001b[0mwe\u001b[0m \u001b[0mare\u001b[0m \u001b[0mcomparing\u001b[0m \u001b[0ma\u001b[0m \u001b[0mstring\u001b[0m\u001b[0;34m-\u001b[0m\u001b[0mlike\u001b[0m \u001b[0mobject\u001b[0m \u001b[0mto\u001b[0m \u001b[0ma\u001b[0m \u001b[0mnumeric\u001b[0m \u001b[0mndarray\u001b[0m\u001b[0;34m.\u001b[0m\u001b[0;34m\u001b[0m\u001b[0;34m\u001b[0m\u001b[0m\n",
      "\u001b[0;31mKeyboardInterrupt\u001b[0m: "
     ]
    }
   ],
   "source": [
    "# N = 5\n",
    "# N_ = int(N/2)\n",
    "\n",
    "# key = 0\n",
    "# targetlist = []\n",
    "# traininglist = []\n",
    "\n",
    "# # fgrid = open('US_data/BigUS/grid3d.npy', 'ab+')\n",
    "\n",
    "\n",
    "# for idx, rowval in df_small_fs_1.iterrows(): ### iterate over each row\n",
    "#     featarr = np.ones((5, 5))\n",
    "#     for colname in df_small_fs_1: ###iterate over every column\n",
    "#         if colname == 'cmaq_id' or colname == 'pm_x' or colname == 'pm_y':\n",
    "# #             print(colname)\n",
    "#             continue\n",
    "#         elif colname == 'pm25_value':\n",
    "# #             print(colname)\n",
    "#             targetlist.append(rowval['pm25_value'])\n",
    "#         else:\n",
    "# #             print(colname)\n",
    "# #             print(temparr.shape)\n",
    "#             temparr = np.ones((5, 5))\n",
    "#             cmaqval = rowval['cmaq_id']\n",
    "#             row, col = np.where(rast_us_1 == cmaqval)\n",
    "#             cmaqgrid = np.array(rast_us_1[row[0] - N_:row[0]+(N_+1), col[0]- N_:col[0]+(N_+1)])\n",
    "#             temparr[2,2] = rowval[colname]\n",
    "#             for i in range(5): ## Add values element-wise \n",
    "#                 for j in range(5):\n",
    "#                     if i == 2 and j == 2:\n",
    "#                         continue\n",
    "#                     else:\n",
    "#                         match_cmaq = cmaqgrid[i,j]\n",
    "#                         if match_cmaq == 0: ## compare this to 0 || previously: if np.isnan(match_cmaq): \n",
    "#                             temparr[i,j] = match_cmaq\n",
    "#                         else:\n",
    "#                             locval_df = df_BUS_fs_1[df_BUS_fs_1['cmaq_id'] == match_cmaq]\n",
    "#                             locval = locval_df[colname]\n",
    "#                             temparr[i,j] = locval\n",
    "#         featarr = np.dstack((featarr,temparr))\n",
    "#     featarr = np.delete(featarr, (0), axis = 2)\n",
    "#     traininglist.append(featarr)\n"
   ]
  },
  {
   "cell_type": "code",
   "execution_count": 83,
   "metadata": {},
   "outputs": [
    {
     "data": {
      "text/plain": [
       "(79918, 79918, 79918)"
      ]
     },
     "execution_count": 83,
     "metadata": {},
     "output_type": "execute_result"
    }
   ],
   "source": [
    "len(traininglist), len(training_difflist), len(targetlist) "
   ]
  },
  {
   "cell_type": "code",
   "execution_count": 84,
   "metadata": {},
   "outputs": [],
   "source": [
    "#### convert list to numpy array\n",
    "\n",
    "trainingArr = np.array(traininglist)\n",
    "targetArr = np.array(targetlist)\n",
    "training_diffArr = np.array(training_difflist)"
   ]
  },
  {
   "cell_type": "code",
   "execution_count": 57,
   "metadata": {},
   "outputs": [],
   "source": [
    "targetArr = targetArr[0:80186]"
   ]
  },
  {
   "cell_type": "code",
   "execution_count": 85,
   "metadata": {},
   "outputs": [
    {
     "data": {
      "text/plain": [
       "((79918, 5, 5, 20), (79918,), (79918, 20, 5, 5))"
      ]
     },
     "execution_count": 85,
     "metadata": {},
     "output_type": "execute_result"
    }
   ],
   "source": [
    "trainingArr.shape, targetArr.shape, training_diffArr.shape"
   ]
  },
  {
   "cell_type": "code",
   "execution_count": null,
   "metadata": {},
   "outputs": [],
   "source": [
    "################################### Reshaping to create a pandas dataframe ###################################"
   ]
  },
  {
   "cell_type": "code",
   "execution_count": 27,
   "metadata": {},
   "outputs": [
    {
     "name": "stdout",
     "output_type": "stream",
     "text": [
      "(80186, 5, 5, 20)\n",
      "(2004650, 20)\n"
     ]
    }
   ],
   "source": [
    "print(trainingArr.shape)\n",
    "train_dfArr = trainingArr.reshape(-1,20, order='F')\n",
    "print(train_dfArr.shape)"
   ]
  },
  {
   "cell_type": "code",
   "execution_count": 28,
   "metadata": {},
   "outputs": [
    {
     "data": {
      "text/plain": [
       "Index(['elev', 'forest_cover', 'pd', 'local', 'limi', 'high', 'is',\n",
       "       'nldas_pevapsfc', 'nldas_pressfc', 'nldas_cape', 'nldas_ugrd10m',\n",
       "       'nldas_vgrd10m', 'nldas_tmp2m', 'nldas_rh2m', 'nldas_dlwrfsfc',\n",
       "       'nldas_dswrfsfc', 'nldas_pcpsfc', 'nldas_fpcsfc', 'aod_value',\n",
       "       'emissi11_pm25', 'day', 'pm_x', 'pm_y', 'cmaq_id', 'pm25_value'],\n",
       "      dtype='object')"
      ]
     },
     "execution_count": 28,
     "metadata": {},
     "output_type": "execute_result"
    }
   ],
   "source": [
    "df_small_fs.columns"
   ]
  },
  {
   "cell_type": "code",
   "execution_count": 29,
   "metadata": {},
   "outputs": [],
   "source": [
    "grid_df = pd.DataFrame(data = train_dfArr, index = None, columns = ['elev', 'forest_cover', 'pd', 'local', 'limi', 'high', 'is', \n",
    "                                                           'nldas_pevapsfc', 'nldas_pressfc', 'nldas_cape', 'nldas_ugrd10m',\n",
    "                                                           'nldas_vgrd10m', 'nldas_tmp2m', 'nldas_rh2m', 'nldas_dlwrfsfc',\n",
    "                                                           'nldas_dswrfsfc', 'nldas_pcpsfc', 'nldas_fpcsfc', 'aod_value',\n",
    "                                                           'emissi11_pm25']) "
   ]
  },
  {
   "cell_type": "code",
   "execution_count": 30,
   "metadata": {},
   "outputs": [
    {
     "data": {
      "text/plain": [
       "(2004650, 20)"
      ]
     },
     "execution_count": 30,
     "metadata": {},
     "output_type": "execute_result"
    }
   ],
   "source": [
    "grid_df.shape"
   ]
  },
  {
   "cell_type": "code",
   "execution_count": 32,
   "metadata": {},
   "outputs": [
    {
     "name": "stdout",
     "output_type": "stream",
     "text": [
      "               elev  forest_cover            pd         local          limi  \\\n",
      "count  2.004650e+06  2.004650e+06  2.004650e+06  2.004650e+06  2.004650e+06   \n",
      "mean   4.609987e+02  3.921185e-01  2.794951e+02  3.051623e+02  4.446357e+01   \n",
      "std    5.642131e+02  3.782478e-01  1.092741e+03  6.623297e+02  2.234448e+02   \n",
      "min   -8.315280e+01  0.000000e+00  0.000000e+00  0.000000e+00  0.000000e+00   \n",
      "25%    7.621400e+01  8.912660e-03  3.420626e+00  0.000000e+00  0.000000e+00   \n",
      "50%    2.436170e+02  2.782370e-01  1.833832e+01  0.000000e+00  0.000000e+00   \n",
      "75%    5.953160e+02  7.750230e-01  9.643406e+01  1.735071e+02  0.000000e+00   \n",
      "max    3.933090e+03  1.000000e+00  5.066681e+04  1.060903e+04  3.531385e+03   \n",
      "\n",
      "               high            is  nldas_pevapsfc  nldas_pressfc  \\\n",
      "count  2.004650e+06  2.004650e+06    2.004650e+06   2.004650e+06   \n",
      "mean   4.987763e+01  6.986086e+00    5.427993e-01   9.032790e+04   \n",
      "std    2.230696e+02  1.527625e+01    2.741385e-01   2.369440e+04   \n",
      "min    0.000000e+00  0.000000e+00   -2.336290e-01   0.000000e+00   \n",
      "25%    0.000000e+00  1.101928e-02    3.516430e-01   9.174190e+04   \n",
      "50%    0.000000e+00  3.939394e-01    5.619290e-01   9.822750e+04   \n",
      "75%    0.000000e+00  3.308378e+00    7.380860e-01   1.002400e+05   \n",
      "max    3.246050e+03  9.018806e+01    1.365740e+00   1.042450e+05   \n",
      "\n",
      "         nldas_cape  nldas_ugrd10m  nldas_vgrd10m   nldas_tmp2m    nldas_rh2m  \\\n",
      "count  2.004650e+06   2.004650e+06   2.004650e+06  2.004650e+06  2.004650e+06   \n",
      "mean   2.290005e+02   1.073893e+00   1.719347e-01  2.760482e+02  4.203314e+01   \n",
      "std    6.284304e+02   2.590955e+00   3.075577e+00  7.068226e+01  1.960605e+01   \n",
      "min    0.000000e+00  -1.310140e+01  -1.669710e+01  0.000000e+00  0.000000e+00   \n",
      "25%    0.000000e+00  -4.528570e-01  -1.710000e+00  2.858460e+02  2.920870e+01   \n",
      "50%    0.000000e+00   8.671430e-01   0.000000e+00  2.934440e+02  4.355460e+01   \n",
      "75%    2.243200e+01   2.655710e+00   1.937140e+00  3.001690e+02  5.659110e+01   \n",
      "max    5.394490e+03   1.630860e+01   1.357860e+01  3.173590e+02  9.979140e+01   \n",
      "\n",
      "       nldas_dlwrfsfc  nldas_dswrfsfc  nldas_pcpsfc  nldas_fpcsfc  \\\n",
      "count    2.004650e+06    2.004650e+06  2.004650e+06  2.004650e+06   \n",
      "mean     3.085909e+02    5.780796e+02  8.233115e-03  1.336341e-02   \n",
      "std      1.003839e+02    2.125891e+02  8.627398e-02  7.544603e-02   \n",
      "min      0.000000e+00    0.000000e+00  0.000000e+00  0.000000e+00   \n",
      "25%      2.702030e+02    4.639530e+02  0.000000e+00  0.000000e+00   \n",
      "50%      3.191760e+02    6.236340e+02  0.000000e+00  0.000000e+00   \n",
      "75%      3.671360e+02    7.379610e+02  0.000000e+00  0.000000e+00   \n",
      "max      5.286160e+02    1.104720e+03  6.316000e+00  1.000000e+00   \n",
      "\n",
      "          aod_value  emissi11_pm25  \n",
      "count  2.004650e+06   2.004650e+06  \n",
      "mean   1.010854e-01   2.202599e-01  \n",
      "std    1.282939e-01   8.819979e+00  \n",
      "min   -5.000000e-02   0.000000e+00  \n",
      "25%    2.168667e-02   0.000000e+00  \n",
      "50%    6.390833e-02   0.000000e+00  \n",
      "75%    1.320000e-01   0.000000e+00  \n",
      "max    3.453000e+00   1.009285e+03  \n"
     ]
    }
   ],
   "source": [
    "print(grid_df.describe())"
   ]
  },
  {
   "cell_type": "code",
   "execution_count": 86,
   "metadata": {},
   "outputs": [],
   "source": [
    "ftrain = open('US_data/BigUS/training_V2_Noutliers.npy','wb')\n",
    "np.save(ftrain, trainingArr)\n",
    "\n",
    "fdtrain = open('US_data/BigUS/training_diff_V2_Noutliers.npy','wb')\n",
    "np.save(fdtrain, training_diffArr)\n",
    "\n",
    "ftest = open('US_data/BigUS/target_V2_Noutliers.npy','wb')\n",
    "np.save(ftest, targetArr)"
   ]
  },
  {
   "cell_type": "code",
   "execution_count": 24,
   "metadata": {},
   "outputs": [],
   "source": [
    "#### Loading training and target dataset\n",
    "with open('US_data/BigUS/training_22feat.npy', 'rb') as f1:\n",
    "    train_np = np.load(f1)"
   ]
  },
  {
   "cell_type": "code",
   "execution_count": 25,
   "metadata": {},
   "outputs": [
    {
     "data": {
      "text/plain": [
       "(80186, 5, 5, 22)"
      ]
     },
     "execution_count": 25,
     "metadata": {},
     "output_type": "execute_result"
    }
   ],
   "source": [
    "train_np.shape"
   ]
  },
  {
   "cell_type": "code",
   "execution_count": 74,
   "metadata": {},
   "outputs": [
    {
     "data": {
      "text/plain": [
       "array([99.1 , 52.9 , 33.7 , 64.3 , 14.2 ,  7.5 ,  3.3 ,  3.6 ,  3.  ,\n",
       "        7.5 ,  9.6 ,  3.  , 10.3 ,  4.6 ,  0.7 ,  7.5 ,  8.2 ,  2.8 ,\n",
       "        4.3 ,  3.8 ,  6.6 , 10.3 ,  7.05,  3.6 ,  5.9 ,  6.6 ,  6.  ,\n",
       "        4.  ,  5.8 ,  6.6 ,  5.4 ,  4.8 ,  4.7 ,  5.6 ,  8.6 ,  3.2 ,\n",
       "        5.9 ,  6.1 ,  2.  ,  5.3 ,  3.9 ,  7.8 ,  7.6 ,  4.2 ,  3.2 ,\n",
       "        5.4 ])"
      ]
     },
     "execution_count": 74,
     "metadata": {},
     "output_type": "execute_result"
    }
   ],
   "source": [
    "targetArr"
   ]
  },
  {
   "cell_type": "code",
   "execution_count": 87,
   "metadata": {},
   "outputs": [],
   "source": [
    "###### train-test split ######\n",
    "\n",
    "X_train_pm25, X_test_pm25, y_train_pm25, y_test_pm25 = train_test_split(trainingArr, targetArr, test_size = 0.20, random_state = 42)"
   ]
  },
  {
   "cell_type": "code",
   "execution_count": 88,
   "metadata": {},
   "outputs": [],
   "source": [
    "X_train_pm25[np.isnan(X_train_pm25)] = 0\n",
    "X_test_pm25[np.isnan(X_test_pm25)] = 0\n",
    "y_train_pm25[np.isnan(y_train_pm25)] = 0\n",
    "y_test_pm25[np.isnan(y_test_pm25)] = 0"
   ]
  },
  {
   "cell_type": "code",
   "execution_count": 89,
   "metadata": {},
   "outputs": [
    {
     "data": {
      "text/plain": [
       "((63934, 5, 5, 20), (15984, 5, 5, 20), (63934,), (15984,))"
      ]
     },
     "execution_count": 89,
     "metadata": {},
     "output_type": "execute_result"
    }
   ],
   "source": [
    "X_train_pm25.shape, X_test_pm25.shape, y_train_pm25.shape, y_test_pm25.shape"
   ]
  },
  {
   "cell_type": "code",
   "execution_count": 28,
   "metadata": {},
   "outputs": [],
   "source": [
    "###################### Running the CNN model ######################"
   ]
  },
  {
   "cell_type": "code",
   "execution_count": 1,
   "metadata": {},
   "outputs": [],
   "source": [
    "from keras.models import Sequential, load_model, Model\n",
    "from keras.layers import Input, Dense, Activation, Conv2D, Dropout, Flatten\n",
    "from keras import optimizers, utils, initializers, regularizers\n",
    "import keras.backend as K\n",
    "import random\n",
    "import os\n",
    "\n",
    "fold = 10\n",
    "epochs = 3000\n",
    "tr_batch_size = 64148\n",
    "ev_batch_size = 10000\n",
    "Input_width = 5\n",
    "Input_height = 5\n",
    "num_channels = 20\n",
    "noise_std = 0.1\n",
    "\n",
    "n_conv = 64\n",
    "n_hidden = 128\n",
    "\n",
    "SEED_NUM = 30000\n",
    "\n",
    "modelPM25 = Sequential([\n",
    "Conv2D(n_conv, (3,3), kernel_initializer = initializers.TruncatedNormal(mean=0.0, stddev=0.1, seed=SEED_NUM), bias_initializer=initializers.Constant(0.1), input_shape = (Input_width, Input_height, num_channels), padding='same'),\n",
    "Activation('relu'),\n",
    "Flatten(),\n",
    "Dropout(0.5, seed = SEED_NUM),\n",
    "Dense(n_hidden, activation = 'elu', kernel_initializer = initializers.TruncatedNormal(mean = 0.0, stddev = 0.1, seed = SEED_NUM), bias_initializer=initializers.Constant(0.1)),\n",
    "Dense(1, activation='linear')\n",
    "])\n",
    "\n",
    "nadam = optimizers.Nadam(learning_rate = 0.01, beta_1 = 0.9, beta_2 = 0.999, epsilon = None, schedule_decay = 0.004)\n",
    "\n",
    "modelPM25.compile(optimizer=nadam, loss='mse', metrics=['mae'])"
   ]
  },
  {
   "cell_type": "code",
   "execution_count": 2,
   "metadata": {},
   "outputs": [
    {
     "ename": "NameError",
     "evalue": "name 'X_train_pm25' is not defined",
     "output_type": "error",
     "traceback": [
      "\u001b[0;31m---------------------------------------------------------------------------\u001b[0m",
      "\u001b[0;31mNameError\u001b[0m                                 Traceback (most recent call last)",
      "\u001b[0;32m<ipython-input-2-e6e8348b5f6b>\u001b[0m in \u001b[0;36m<module>\u001b[0;34m\u001b[0m\n\u001b[0;32m----> 1\u001b[0;31m \u001b[0mmodelPM25\u001b[0m\u001b[0;34m.\u001b[0m\u001b[0mfit\u001b[0m\u001b[0;34m(\u001b[0m\u001b[0mX_train_pm25\u001b[0m\u001b[0;34m,\u001b[0m \u001b[0my_train_pm25\u001b[0m\u001b[0;34m,\u001b[0m \u001b[0mepochs\u001b[0m \u001b[0;34m=\u001b[0m \u001b[0mepochs\u001b[0m\u001b[0;34m,\u001b[0m \u001b[0mbatch_size\u001b[0m \u001b[0;34m=\u001b[0m \u001b[0mtr_batch_size\u001b[0m\u001b[0;34m,\u001b[0m \u001b[0mverbose\u001b[0m \u001b[0;34m=\u001b[0m \u001b[0;36m1\u001b[0m\u001b[0;34m)\u001b[0m\u001b[0;34m\u001b[0m\u001b[0;34m\u001b[0m\u001b[0m\n\u001b[0m",
      "\u001b[0;31mNameError\u001b[0m: name 'X_train_pm25' is not defined"
     ]
    }
   ],
   "source": [
    "modelPM25.fit(X_train_pm25, y_train_pm25, epochs = epochs, batch_size = tr_batch_size, verbose = 1)"
   ]
  },
  {
   "cell_type": "code",
   "execution_count": 114,
   "metadata": {},
   "outputs": [
    {
     "name": "stdout",
     "output_type": "stream",
     "text": [
      "16038/16038 [==============================] - 8s 508us/step\n"
     ]
    }
   ],
   "source": [
    "#### predicting on the test dataset\n",
    "pred_pm25 = modelPM25.predict(X_test_pm25, batch_size = 1).reshape(len(X_test_pm25),)"
   ]
  },
  {
   "cell_type": "code",
   "execution_count": 115,
   "metadata": {},
   "outputs": [
    {
     "name": "stdout",
     "output_type": "stream",
     "text": [
      "61.89424890592478\n"
     ]
    }
   ],
   "source": [
    "#### Finding R2 value\n",
    "val_r2 = pearsonr(y_test_pm25, pred_pm25)\n",
    "val_r2 = (val_r2[0])**2\n",
    "print(val_r2*100)"
   ]
  },
  {
   "cell_type": "code",
   "execution_count": 116,
   "metadata": {},
   "outputs": [
    {
     "name": "stdout",
     "output_type": "stream",
     "text": [
      "4.1273686962766405\n"
     ]
    }
   ],
   "source": [
    "#### Finding RMSE value\n",
    "val_mse = sqrt(mean_squared_error(y_test_pm25, pred_pm25))\n",
    "print(val_mse)"
   ]
  },
  {
   "cell_type": "code",
   "execution_count": 117,
   "metadata": {},
   "outputs": [
    {
     "data": {
      "text/plain": [
       "(0.0, 100.0)"
      ]
     },
     "execution_count": 117,
     "metadata": {},
     "output_type": "execute_result"
    },
    {
     "data": {
      "image/png": "[encoded data removed]",
      "text/plain": [
       "<Figure size 720x576 with 1 Axes>"
      ]
     },
     "metadata": {},
     "output_type": "display_data"
    }
   ],
   "source": [
    "plt.figure(figsize=(10,8))\n",
    "\n",
    "sns.set(font_scale = 0.9)\n",
    "sns.set_style(\"whitegrid\", {'axes.grid' : False})\n",
    "\n",
    "sns.regplot(y_test_pm25, pred_pm25, color = 'maroon',  scatter_kws = {'s':40, 'alpha':0.2})\n",
    "plt.plot([0, 100], [0, 100], ls=\"--\", c=\".3\")\n",
    "plt.xlabel('Observed Output', size= 17)\n",
    "plt.ylabel('Predicted Output', size= 17)\n",
    "\n",
    "\n",
    "plt.xlim(0, 100)\n",
    "plt.ylim(0, 100)"
   ]
  },
  {
   "cell_type": "code",
   "execution_count": null,
   "metadata": {},
   "outputs": [],
   "source": [
    "####### Test Results\n",
    "### lr = 0.002, r2 = 1.42, rmse = 6.44\n",
    "### lr = 0.01, r2 = 1.96, rmse = 6.44"
   ]
  },
  {
   "cell_type": "code",
   "execution_count": 41,
   "metadata": {},
   "outputs": [],
   "source": [
    "val_r2 = 1 - (np.sum(np.square(y_test_pm25 - pred_pm25)) / np.sum(np.square(y_test_pm25 - np.mean(y_test_pm25))))"
   ]
  },
  {
   "cell_type": "code",
   "execution_count": 42,
   "metadata": {},
   "outputs": [
    {
     "data": {
      "text/plain": [
       "-6345.5568016204725"
      ]
     },
     "execution_count": 42,
     "metadata": {},
     "output_type": "execute_result"
    }
   ],
   "source": [
    "val_r2"
   ]
  },
  {
   "cell_type": "code",
   "execution_count": null,
   "metadata": {},
   "outputs": [],
   "source": [
    "def addAtPos(mat1, mat2, xypos):\n",
    "    \"\"\"\n",
    "    Add two matrices of different sizes in place, offset by xy coordinates\n",
    "    Usage:\n",
    "      - mat1: base matrix\n",
    "      - mat2: add this matrix to mat1\n",
    "      - xypos: tuple (x,y) containing coordinates\n",
    "    \"\"\"\n",
    "    x, y = xypos\n",
    "    ysize, xsize = mat2.shape\n",
    "    xmax, ymax = (x + xsize), (y + ysize)\n",
    "    mat1[y:ymax, x:xmax] += mat2\n",
    "    return mat1"
   ]
  },
  {
   "cell_type": "code",
   "execution_count": 119,
   "metadata": {},
   "outputs": [
    {
     "data": {
      "text/plain": [
       "3"
      ]
     },
     "execution_count": 119,
     "metadata": {},
     "output_type": "execute_result"
    }
   ],
   "source": [
    "arr1 = np.array([[1, 2], [3, 4], [5,6]])\n",
    "arr2 = np.zeros((5,5))\n",
    "\n",
    "arr1.shape[0]"
   ]
  },
  {
   "cell_type": "code",
   "execution_count": null,
   "metadata": {},
   "outputs": [],
   "source": [
    "#### can we remove outliers, PM 2.5 > 40\n",
    "#### dilute concentration gradient (how? Yang mentioned some steps)\n",
    "#### because of the mismatch b/w point measurments on the ground and the grid cell, we will underpredict.\n",
    "#### should mean be used instead of zero padding.\n",
    "#### "
   ]
  }
 ],
 "metadata": {
  "kernelspec": {
   "display_name": "Python 3",
   "language": "python",
   "name": "python3"
  },
  "language_info": {
   "codemirror_mode": {
    "name": "ipython",
    "version": 3
   },
   "file_extension": ".py",
   "mimetype": "text/x-python",
   "name": "python",
   "nbconvert_exporter": "python",
   "pygments_lexer": "ipython3",
   "version": "3.8.3"
  }
 },
 "nbformat": 4,
 "nbformat_minor": 4
}
