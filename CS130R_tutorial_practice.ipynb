{
 "cells": [
  {
   "cell_type": "code",
   "execution_count": 10,
   "metadata": {},
   "outputs": [
    {
     "name": "stdout",
     "output_type": "stream",
     "text": [
      "2\n"
     ]
    }
   ],
   "source": [
    "##Week 6: Strings\n",
    "# We could program a function to find the first index that a particular character occurs in a string:\n",
    "\n",
    "def Find(text, character):\n",
    "    index = 0\n",
    "    for c in text:\n",
    "        if c == character:\n",
    "            return index\n",
    "        index += 1\n",
    "\n",
    "print(Find('banana', 'n')) #prints 2"
   ]
  },
  {
   "cell_type": "code",
   "execution_count": 11,
   "metadata": {},
   "outputs": [
    {
     "name": "stdout",
     "output_type": "stream",
     "text": [
      "2\n",
      "0\n",
      "-1\n"
     ]
    }
   ],
   "source": [
    "# Python already has a function to do this in its standard library (i.e. the creators of Python already wrote this function for you). \n",
    "# The provided string find function works like this:\n",
    "\n",
    "nPosition = 'banana'.find('n')\n",
    "print(nPosition) #prints 2\n",
    "\n",
    "hPosition = 'hello world'.find('h')\n",
    "print(hPosition) #prints 0\n",
    "\n",
    "dPosition = 'hello world'.find('x')\n",
    "print(dPosition) #prints -1\n"
   ]
  },
  {
   "cell_type": "code",
   "execution_count": 20,
   "metadata": {},
   "outputs": [
    {
     "name": "stdout",
     "output_type": "stream",
     "text": [
      "   tHe lAZy brown dog   \n",
      "10\n",
      "10\n",
      "False\n",
      "   THE LAZY BROWN DOG   \n",
      "   the lazy brown dog   \n",
      "   tHe lAZy gray dog   \n",
      "tHe lAZy brown dog\n"
     ]
    }
   ],
   "source": [
    "# A list of string methods in python.\n",
    "\n",
    "text = '   tHe lAZy brown dog   '\n",
    "tt = '33'\n",
    "\n",
    "print(text)\n",
    "\n",
    "print(text.find('y'))\n",
    "\n",
    "print(text.index('y'))\n",
    "\n",
    "print(text.isdigit())\n",
    "\n",
    "print(text.upper())\n",
    "\n",
    "print(text.lower())\n",
    "\n",
    "print(text.replace('brown', 'gray'))\n",
    "\n",
    "print(text.strip())"
   ]
  },
  {
   "cell_type": "code",
   "execution_count": 4,
   "metadata": {},
   "outputs": [
    {
     "name": "stdout",
     "output_type": "stream",
     "text": [
      "h\n",
      "e\n",
      "l\n",
      "llo\n",
      "lo\n",
      "l\n",
      "hello\n",
      "hello\n",
      "lo world\n"
     ]
    }
   ],
   "source": [
    "# Strings are ordered collections, and we can index them to get a certain character of the string. \n",
    "# We do this using the indexing/subscript operator []. \n",
    "\n",
    "string = 'hello world'\n",
    "\n",
    "print(string[0]) #prints h\n",
    "print(string[1]) #prints e\n",
    "print(string[2]) #prints l\n",
    "\n",
    "# It is also very common to want to extract a substring from an original string. We can do this using string slicing.\n",
    "\n",
    "print(string[2:5]) # llo\n",
    "print(string[3:5]) # lo\n",
    "print(string[2:3]) # l\n",
    "print(string[0:5]) # hello\n",
    "print(string[:5])  # hello\n",
    "print(string[3:])  # lo world\n",
    "\n",
    "# Similar to the range function, you can also set the step size as a third argument of slices:\n",
    "\n",
    "print(string[::2]) # hlowrd\n",
    "print(string[1:7:2]) # el\n",
    "print(string[:7:3]) # hlw\n",
    "print(string[::-1]) # dlrow olleh\n",
    "print(string[::-2])  # drwolh\n",
    "\n",
    "# Additionally, slices allow you to index from the end of the string by using negative numbers as indices:\n",
    "\n",
    "print(string[-4:-2]) # or\n",
    "print(string[4:-2]) # o wor\n",
    "print(string[:-3])  # hello wo\n"
   ]
  },
  {
   "cell_type": "code",
   "execution_count": 5,
   "metadata": {},
   "outputs": [
    {
     "name": "stdout",
     "output_type": "stream",
     "text": [
      "True\n",
      "False\n",
      "18\n"
     ]
    }
   ],
   "source": [
    "# The membership operator and the length function. These functions apply generically to all collections.\n",
    "\n",
    "text = 'the lazy brown dog'\n",
    "\n",
    "print('lazy' in text)\n",
    "print('xxx' in text)\n",
    "\n",
    "l = len(text)\n",
    "print(l)\n"
   ]
  },
  {
   "cell_type": "code",
   "execution_count": 6,
   "metadata": {},
   "outputs": [
    {
     "name": "stdout",
     "output_type": "stream",
     "text": [
      "hello world\n",
      "heXXo worXd\n"
     ]
    }
   ],
   "source": [
    "# You should notice that using a string method never changes the original string, but instead returns a modified copy of the original string:\n",
    "# This is because strings are immutable objects; that is, they cannot be modified. \n",
    "# A variable set to a string object can be reset to a different string object, but the string object itself can never be changed. \n",
    "\n",
    "original = 'hello world'\n",
    "new = original.replace('l', 'X')\n",
    "\n",
    "print(original) # 'hello world'\n",
    "print(new)      # 'heXXo worXd'\n"
   ]
  },
  {
   "cell_type": "code",
   "execution_count": 1,
   "metadata": {},
   "outputs": [
    {
     "name": "stdout",
     "output_type": "stream",
     "text": [
      "['My', 'name', 'is', 'Kelly']\n"
     ]
    }
   ],
   "source": [
    "#########################Week 7############################################\n",
    "#### Q. Concatenate the 2 lists index-wise\n",
    " \n",
    "list1 = [\"M\", \"na\", \"i\", \"Ke\"] \n",
    "list2 = [\"y\", \"me\", \"s\", \"lly\"]\n",
    "list3 = list()\n",
    "for i, j in zip(list1, list2):\n",
    "    list3.append(i + j)\n",
    "print(list3)\n"
   ]
  },
  {
   "cell_type": "code",
   "execution_count": 34,
   "metadata": {},
   "outputs": [
    {
     "name": "stdout",
     "output_type": "stream",
     "text": [
      "[500, 400, 300, 200, 100]\n",
      "[400, 300, 200]\n"
     ]
    }
   ],
   "source": [
    "##### Q. Given a Python list you should be able to display Python list in the following order.\n",
    "\n",
    "aList = [100, 200, 300, 400, 500]\n",
    "aList = aList[::-1]\n",
    "print(aList)\n",
    "\n",
    "aList = aList[1:4:1]\n",
    "print(aList)"
   ]
  },
  {
   "cell_type": "code",
   "execution_count": 22,
   "metadata": {},
   "outputs": [
    {
     "name": "stdout",
     "output_type": "stream",
     "text": [
      "10 400\n",
      "20 300\n",
      "30 200\n",
      "40 100\n"
     ]
    }
   ],
   "source": [
    "##### Q. Given a two Python list. Iterate both lists simultaneously such that list1 should display item in original order and list2 in reverse order. \n",
    "\n",
    "list1 = [10, 20, 30, 40]\n",
    "list2 = [100, 200, 300, 400]\n",
    "\n",
    "for x, y in zip(list1, list2[::-1]):\n",
    "    print(x, y)"
   ]
  },
  {
   "cell_type": "code",
   "execution_count": 24,
   "metadata": {},
   "outputs": [
    {
     "name": "stdout",
     "output_type": "stream",
     "text": [
      "3\n",
      "5\n"
     ]
    }
   ],
   "source": [
    "a = 5\n",
    "b = 3\n",
    "\n",
    "a = a + b\n",
    "b = a - b\n",
    "a = a - b\n",
    "\n",
    "print(a)\n",
    "print(b)\n"
   ]
  },
  {
   "cell_type": "code",
   "execution_count": null,
   "metadata": {},
   "outputs": [],
   "source": [
    "##### Q. Given a Python list, remove all occurrence of 20 from the list\n",
    "\n",
    "list1 = [5, 20, 15, 20, 25, 50, 20]\n",
    "\n",
    "def removeValue(sampleList, val):\n",
    "   return [value for value in sampleList if value != val]\n",
    "resList = removeValue(list1, 20)\n",
    "print(resList)"
   ]
  },
  {
   "cell_type": "code",
   "execution_count": 33,
   "metadata": {},
   "outputs": [
    {
     "name": "stdout",
     "output_type": "stream",
     "text": [
      "(('John', 'Jenny'), ('Charles', 'Christy'), ('Mike', 'Monica'))\n"
     ]
    }
   ],
   "source": [
    "a = (\"John\", \"Charles\", \"Mike\")\n",
    "b = (\"Jenny\", \"Christy\", \"Monica\")\n",
    "x = list()\n",
    "x = zip(a, b)\n",
    "print(tuple(x))"
   ]
  },
  {
   "cell_type": "code",
   "execution_count": 4,
   "metadata": {},
   "outputs": [
    {
     "ename": "SyntaxError",
     "evalue": "invalid character in identifier (<ipython-input-4-518efd724835>, line 1)",
     "output_type": "error",
     "traceback": [
      "\u001b[0;36m  File \u001b[0;32m\"<ipython-input-4-518efd724835>\"\u001b[0;36m, line \u001b[0;32m1\u001b[0m\n\u001b[0;31m    fd = open(‘sample.txt’)\u001b[0m\n\u001b[0m                    ^\u001b[0m\n\u001b[0;31mSyntaxError\u001b[0m\u001b[0;31m:\u001b[0m invalid character in identifier\n"
     ]
    }
   ],
   "source": [
    "fd = open(‘sample.txt’) \n",
    "\n",
    "for ln in fd:\n",
    "    print(ln) # prints each line of the file \n",
    "\n",
    "fd.close()\n"
   ]
  },
  {
   "cell_type": "code",
   "execution_count": null,
   "metadata": {},
   "outputs": [],
   "source": []
  }
 ],
 "metadata": {
  "kernelspec": {
   "display_name": "Python 3",
   "language": "python",
   "name": "python3"
  },
  "language_info": {
   "codemirror_mode": {
    "name": "ipython",
    "version": 3
   },
   "file_extension": ".py",
   "mimetype": "text/x-python",
   "name": "python",
   "nbconvert_exporter": "python",
   "pygments_lexer": "ipython3",
   "version": "3.8.3"
  }
 },
 "nbformat": 4,
 "nbformat_minor": 4
}
