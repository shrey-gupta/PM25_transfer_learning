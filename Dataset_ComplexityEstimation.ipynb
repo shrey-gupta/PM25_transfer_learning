{
 "cells": [
  {
   "cell_type": "code",
   "execution_count": 2,
   "metadata": {},
   "outputs": [
    {
     "name": "stdout",
     "output_type": "stream",
     "text": [
      "Repositories uploaded!!\n"
     ]
    }
   ],
   "source": [
    "# from two_TrAdaBoostR2 import TwoStageTrAdaBoostR2 ##STrAdaBoost.R2\n",
    "# from TwoStageTrAdaBoostR2 import TwoStageTrAdaBoostR2 ##two-stage TrAdaBoost.R2\n",
    "\n",
    "import pandas as pd\n",
    "import sys\n",
    "import numpy as np\n",
    "from pandas import DataFrame\n",
    "from sklearn.model_selection import train_test_split\n",
    "from sklearn.tree import DecisionTreeRegressor\n",
    "from sklearn.ensemble import AdaBoostRegressor\n",
    "\n",
    "from keras.models import Sequential, load_model, Model\n",
    "from keras.layers import Input, Dense, Activation, Conv2D, Dropout, Flatten\n",
    "from keras import optimizers, utils, initializers, regularizers\n",
    "import keras.backend as K\n",
    "\n",
    "from sklearn.metrics import mean_squared_error\n",
    "from sklearn.metrics import r2_score\n",
    "from sklearn.preprocessing import StandardScaler #Importing the StandardScaler\n",
    "\n",
    "from itertools import combinations\n",
    "\n",
    "import matplotlib.pyplot as plt\n",
    "import seaborn as sns\n",
    "\n",
    "from scipy.stats.stats import pearsonr\n",
    "from math import sqrt\n",
    "\n",
    "#Geo plotting libraries\n",
    "import geopandas as gdp\n",
    "from matplotlib.colors import ListedColormap\n",
    "# import geoplot as glpt\n",
    "\n",
    "import xgboost as xgb\n",
    "from sklearn.linear_model import LinearRegression\n",
    "from sklearn.linear_model import Ridge\n",
    "from sklearn import linear_model\n",
    "from keras.models import Sequential\n",
    "from keras.callbacks import ModelCheckpoint\n",
    "from sklearn.ensemble import GradientBoostingRegressor\n",
    "\n",
    "from sklearn.model_selection import KFold\n",
    "import matplotlib.lines as mlines\n",
    "\n",
    "import statistics \n",
    "\n",
    "from scipy.stats import rv_continuous\n",
    "from scipy.stats import *\n",
    "\n",
    "from statistics import mean\n",
    "from sklearn.cluster import KMeans\n",
    "from scipy.spatial import distance\n",
    "\n",
    "\n",
    "######### Instance Transfer repositories ####################\n",
    "from adapt.instance_based import TwoStageTrAdaBoostR2\n",
    "\n",
    "print(\"Repositories uploaded!!\")"
   ]
  },
  {
   "cell_type": "code",
   "execution_count": 3,
   "metadata": {},
   "outputs": [
    {
     "name": "stdout",
     "output_type": "stream",
     "text": [
      "Second Upload Completed!!\n"
     ]
    }
   ],
   "source": [
    "from adapt.instance_based import TrAdaBoost, TrAdaBoostR2, TwoStageTrAdaBoostR2\n",
    "from sklearn.model_selection import GridSearchCV\n",
    "from adapt.instance_based import KMM\n",
    "\n",
    "print(\"Second Upload Completed!!\")"
   ]
  },
  {
   "cell_type": "code",
   "execution_count": 222,
   "metadata": {},
   "outputs": [
    {
     "name": "stdout",
     "output_type": "stream",
     "text": [
      "Concrete Data\n",
      "-------------------------------------------\n",
      "(1030, 9)\n"
     ]
    },
    {
     "data": {
      "text/plain": [
       "Index(['Cement', 'BlastFurnaceSlag', 'FlyAsh', 'Water', 'Superplasticizer',\n",
       "       'CoarseAggregate', 'FineAggregate', 'Age',\n",
       "       'ConcreteCompressiveStrength'],\n",
       "      dtype='object')"
      ]
     },
     "execution_count": 222,
     "metadata": {},
     "output_type": "execute_result"
    }
   ],
   "source": [
    "################################### Concrete ###########################################################################################################\n",
    "target_column_concrete = ['ConcreteCompressiveStrength']\n",
    "ConcreteData_df = pd.read_excel('UCI_regression/Concrete/Concrete_Data.xls') ## 'Cement' found to be correlated at 0.4 :: 100\n",
    "print(\"Concrete Data\")\n",
    "print(\"-------------------------------------------\")\n",
    "print(ConcreteData_df.shape)\n",
    "\n",
    "concrete_df_y = ConcreteData_df[target_column_concrete]\n",
    "concrete_df_X = ConcreteData_df.drop(target_column_concrete, axis = 1)\n",
    "\n",
    "ConcreteData_df.columns"
   ]
  },
  {
   "cell_type": "code",
   "execution_count": 6,
   "metadata": {},
   "outputs": [
    {
     "data": {
      "text/plain": [
       "array([6.86922769, 6.16753072, 6.09706277, 6.93037381, 6.38141958,\n",
       "       6.93411207, 6.93187261, 6.33603673, 6.8252345 ])"
      ]
     },
     "execution_count": 6,
     "metadata": {},
     "output_type": "execute_result"
    }
   ],
   "source": [
    "## Get Entropy Concrete\n",
    "entropy_concrete = entropy(ConcreteData_df)\n",
    "entropy_concrete"
   ]
  },
  {
   "cell_type": "code",
   "execution_count": 90,
   "metadata": {},
   "outputs": [
    {
     "data": {
      "text/plain": [
       "0.3703907947964364"
      ]
     },
     "execution_count": 90,
     "metadata": {},
     "output_type": "execute_result"
    }
   ],
   "source": [
    "## Get the Spearman Correlation Concrete\n",
    "corr_concrete =  ConcreteData_df.corr(method = 'spearman')['ConcreteCompressiveStrength'].abs()\n",
    "corr_concrete = corr_concrete.sort_values(ascending = True)\n",
    "corr_concrete\n",
    "\n",
    "sumval_concrete = corr_concrete.sum()/len(corr_concrete)\n",
    "sumval_concrete\n",
    "\n",
    "## 0% simple (>0.8)\n",
    "## 0% simple (>0.6)"
   ]
  },
  {
   "cell_type": "code",
   "execution_count": 11,
   "metadata": {},
   "outputs": [
    {
     "data": {
      "text/plain": [
       "0.10444626994175524"
      ]
     },
     "execution_count": 11,
     "metadata": {},
     "output_type": "execute_result"
    }
   ],
   "source": [
    "## Get the Spearman Correlation Concrete for the features\n",
    "corr_concrete =  concrete_df_X.corr(method = 'spearman')\n",
    "corr_concrete\n",
    "\n",
    "corr_concrete_lsum = np.tril(corr_concrete).sum() - np.trace(corr_concrete)\n",
    "concrete_elems = len(corr_concrete) * (len(corr_concrete) - 1) / 2\n",
    "corr_concrete_lavg = abs(corr_concrete_lsum / concrete_elems)\n",
    "corr_concrete_lavg"
   ]
  },
  {
   "cell_type": "code",
   "execution_count": 10,
   "metadata": {},
   "outputs": [
    {
     "data": {
      "text/plain": [
       "8.214899392828647"
      ]
     },
     "execution_count": 10,
     "metadata": {},
     "output_type": "execute_result"
    }
   ],
   "source": [
    "## Get the L1 parameter Concrete\n",
    "from sklearn import linear_model\n",
    "\n",
    "regr_concrete = linear_model.LinearRegression()\n",
    "regr_concrete.fit(concrete_df_X, concrete_df_y)\n",
    "predict_concrete = regr_concrete.predict(concrete_df_X)\n",
    "\n",
    "concrete_df_y_list = concrete_df_y.to_numpy()\n",
    "mandis_concrete = np.abs(concrete_df_y_list - predict_concrete)\n",
    "L1_concrete = np.sum(mandis_concrete)/len(mandis_concrete)\n",
    "L1_concrete\n"
   ]
  },
  {
   "cell_type": "code",
   "execution_count": 20,
   "metadata": {},
   "outputs": [
    {
     "data": {
      "text/html": [
       "<div>\n",
       "<style scoped>\n",
       "    .dataframe tbody tr th:only-of-type {\n",
       "        vertical-align: middle;\n",
       "    }\n",
       "\n",
       "    .dataframe tbody tr th {\n",
       "        vertical-align: top;\n",
       "    }\n",
       "\n",
       "    .dataframe thead th {\n",
       "        text-align: right;\n",
       "    }\n",
       "</style>\n",
       "<table border=\"1\" class=\"dataframe\">\n",
       "  <thead>\n",
       "    <tr style=\"text-align: right;\">\n",
       "      <th></th>\n",
       "      <th>BlastFurnaceSlag</th>\n",
       "      <th>FlyAsh</th>\n",
       "      <th>Water</th>\n",
       "      <th>Superplasticizer</th>\n",
       "      <th>CoarseAggregate</th>\n",
       "      <th>FineAggregate</th>\n",
       "      <th>Age</th>\n",
       "      <th>ConcreteCompressiveStrength</th>\n",
       "      <th>Residuals</th>\n",
       "    </tr>\n",
       "  </thead>\n",
       "  <tbody>\n",
       "    <tr>\n",
       "      <th>0</th>\n",
       "      <td>0.0</td>\n",
       "      <td>0.0</td>\n",
       "      <td>162.0</td>\n",
       "      <td>2.5</td>\n",
       "      <td>1040.0</td>\n",
       "      <td>676.0</td>\n",
       "      <td>28</td>\n",
       "      <td>79.986111</td>\n",
       "      <td>1.631719</td>\n",
       "    </tr>\n",
       "    <tr>\n",
       "      <th>1</th>\n",
       "      <td>0.0</td>\n",
       "      <td>0.0</td>\n",
       "      <td>162.0</td>\n",
       "      <td>2.5</td>\n",
       "      <td>1055.0</td>\n",
       "      <td>676.0</td>\n",
       "      <td>28</td>\n",
       "      <td>61.887366</td>\n",
       "      <td>0.378786</td>\n",
       "    </tr>\n",
       "    <tr>\n",
       "      <th>4</th>\n",
       "      <td>132.4</td>\n",
       "      <td>0.0</td>\n",
       "      <td>192.0</td>\n",
       "      <td>0.0</td>\n",
       "      <td>978.4</td>\n",
       "      <td>825.5</td>\n",
       "      <td>360</td>\n",
       "      <td>44.296075</td>\n",
       "      <td>1.038994</td>\n",
       "    </tr>\n",
       "    <tr>\n",
       "      <th>5</th>\n",
       "      <td>114.0</td>\n",
       "      <td>0.0</td>\n",
       "      <td>228.0</td>\n",
       "      <td>0.0</td>\n",
       "      <td>932.0</td>\n",
       "      <td>670.0</td>\n",
       "      <td>90</td>\n",
       "      <td>47.029847</td>\n",
       "      <td>0.857170</td>\n",
       "    </tr>\n",
       "    <tr>\n",
       "      <th>7</th>\n",
       "      <td>95.0</td>\n",
       "      <td>0.0</td>\n",
       "      <td>228.0</td>\n",
       "      <td>0.0</td>\n",
       "      <td>932.0</td>\n",
       "      <td>594.0</td>\n",
       "      <td>28</td>\n",
       "      <td>36.447770</td>\n",
       "      <td>-0.499601</td>\n",
       "    </tr>\n",
       "    <tr>\n",
       "      <th>...</th>\n",
       "      <td>...</td>\n",
       "      <td>...</td>\n",
       "      <td>...</td>\n",
       "      <td>...</td>\n",
       "      <td>...</td>\n",
       "      <td>...</td>\n",
       "      <td>...</td>\n",
       "      <td>...</td>\n",
       "      <td>...</td>\n",
       "    </tr>\n",
       "    <tr>\n",
       "      <th>1025</th>\n",
       "      <td>116.0</td>\n",
       "      <td>90.3</td>\n",
       "      <td>179.6</td>\n",
       "      <td>8.9</td>\n",
       "      <td>870.1</td>\n",
       "      <td>768.3</td>\n",
       "      <td>28</td>\n",
       "      <td>44.284354</td>\n",
       "      <td>0.610542</td>\n",
       "    </tr>\n",
       "    <tr>\n",
       "      <th>1026</th>\n",
       "      <td>0.0</td>\n",
       "      <td>115.6</td>\n",
       "      <td>196.0</td>\n",
       "      <td>10.4</td>\n",
       "      <td>817.9</td>\n",
       "      <td>813.4</td>\n",
       "      <td>28</td>\n",
       "      <td>31.178794</td>\n",
       "      <td>-0.545618</td>\n",
       "    </tr>\n",
       "    <tr>\n",
       "      <th>1027</th>\n",
       "      <td>139.4</td>\n",
       "      <td>108.6</td>\n",
       "      <td>192.7</td>\n",
       "      <td>6.1</td>\n",
       "      <td>892.4</td>\n",
       "      <td>780.0</td>\n",
       "      <td>28</td>\n",
       "      <td>23.696601</td>\n",
       "      <td>-0.108017</td>\n",
       "    </tr>\n",
       "    <tr>\n",
       "      <th>1028</th>\n",
       "      <td>186.7</td>\n",
       "      <td>0.0</td>\n",
       "      <td>175.6</td>\n",
       "      <td>11.3</td>\n",
       "      <td>989.6</td>\n",
       "      <td>788.9</td>\n",
       "      <td>28</td>\n",
       "      <td>32.768036</td>\n",
       "      <td>0.460269</td>\n",
       "    </tr>\n",
       "    <tr>\n",
       "      <th>1029</th>\n",
       "      <td>100.5</td>\n",
       "      <td>78.3</td>\n",
       "      <td>200.6</td>\n",
       "      <td>8.6</td>\n",
       "      <td>864.5</td>\n",
       "      <td>761.5</td>\n",
       "      <td>28</td>\n",
       "      <td>32.401235</td>\n",
       "      <td>-0.124507</td>\n",
       "    </tr>\n",
       "  </tbody>\n",
       "</table>\n",
       "<p>956 rows × 9 columns</p>\n",
       "</div>"
      ],
      "text/plain": [
       "      BlastFurnaceSlag  FlyAsh  Water  Superplasticizer  CoarseAggregate  \\\n",
       "0                  0.0     0.0  162.0               2.5           1040.0   \n",
       "1                  0.0     0.0  162.0               2.5           1055.0   \n",
       "4                132.4     0.0  192.0               0.0            978.4   \n",
       "5                114.0     0.0  228.0               0.0            932.0   \n",
       "7                 95.0     0.0  228.0               0.0            932.0   \n",
       "...                ...     ...    ...               ...              ...   \n",
       "1025             116.0    90.3  179.6               8.9            870.1   \n",
       "1026               0.0   115.6  196.0              10.4            817.9   \n",
       "1027             139.4   108.6  192.7               6.1            892.4   \n",
       "1028             186.7     0.0  175.6              11.3            989.6   \n",
       "1029             100.5    78.3  200.6               8.6            864.5   \n",
       "\n",
       "      FineAggregate  Age  ConcreteCompressiveStrength  Residuals  \n",
       "0             676.0   28                    79.986111   1.631719  \n",
       "1             676.0   28                    61.887366   0.378786  \n",
       "4             825.5  360                    44.296075   1.038994  \n",
       "5             670.0   90                    47.029847   0.857170  \n",
       "7             594.0   28                    36.447770  -0.499601  \n",
       "...             ...  ...                          ...        ...  \n",
       "1025          768.3   28                    44.284354   0.610542  \n",
       "1026          813.4   28                    31.178794  -0.545618  \n",
       "1027          780.0   28                    23.696601  -0.108017  \n",
       "1028          788.9   28                    32.768036   0.460269  \n",
       "1029          761.5   28                    32.401235  -0.124507  \n",
       "\n",
       "[956 rows x 9 columns]"
      ]
     },
     "execution_count": 20,
     "metadata": {},
     "output_type": "execute_result"
    }
   ],
   "source": [
    "## Collective Feature Efficiency\n",
    "from sklearn.linear_model import LinearRegression\n",
    "import statsmodels.api as sm\n",
    "\n",
    "\n",
    "target_column_concrete = ['ConcreteCompressiveStrength']\n",
    "\n",
    "Corr_y = ConcreteData_df.corr()['ConcreteCompressiveStrength'].abs().sort_values(ascending = True)\n",
    "closepair_df = ConcreteData_df[['Cement', 'ConcreteCompressiveStrength']]\n",
    "\n",
    "closepair_df_y = closepair_df[target_column_concrete]\n",
    "closepair_df_X = closepair_df.drop(target_column_concrete, axis = 1)\n",
    "\n",
    "x_const = sm.add_constant(closepair_df_X)\n",
    "linear_reg = sm.OLS(closepair_df_y, x_const).fit() \n",
    "influence_linear = linear_reg.get_influence()\n",
    "standardized_residuals = influence_linear.resid_studentized_internal\n",
    "\n",
    "ConcreteData_df = ConcreteData_df.drop(['Cement'], axis = 1)\n",
    "ConcreteData_df['Residuals'] = standardized_residuals\n",
    "\n",
    "ConcreteData_df = ConcreteData_df[abs(ConcreteData_df.Residuals)  > 0.1]\n",
    "ConcreteData_df\n",
    "\n",
    "# linear_reg_concrete = LinearRegression().fit(closepair_df_X, closepair_df_y)\n",
    "# pred_linear_concrete = linear_reg.predict(closepair_df_X)\n"
   ]
  },
  {
   "cell_type": "code",
   "execution_count": 171,
   "metadata": {},
   "outputs": [
    {
     "data": {
      "text/plain": [
       "0.20618256026520188"
      ]
     },
     "execution_count": 171,
     "metadata": {},
     "output_type": "execute_result"
    }
   ],
   "source": [
    "## Distance from Linear Function\n",
    "from sklearn.linear_model import LinearRegression\n",
    "import statsmodels.api as sm\n",
    "\n",
    "target_column_concrete = ['ConcreteCompressiveStrength']\n",
    "\n",
    "closepair_df_y = ConcreteData_df[target_column_concrete]\n",
    "closepair_df_X = ConcreteData_df.drop(target_column_concrete, axis = 1)\n",
    "\n",
    "x_const = sm.add_constant(closepair_df_X)\n",
    "linear_reg = sm.OLS(closepair_df_y, x_const).fit() \n",
    "influence_linear = linear_reg.get_influence()\n",
    "std_res = influence_linear.resid_studentized_internal\n",
    "std_res_abs = [abs(x) for x in std_res]\n",
    "\n",
    "ratio = 1\n",
    "for i in std_res_abs:\n",
    "    ratio = ratio - float(i)/len(std_res_abs)  \n",
    "    \n",
    "ratio"
   ]
  },
  {
   "cell_type": "code",
   "execution_count": 223,
   "metadata": {},
   "outputs": [
    {
     "name": "stdout",
     "output_type": "stream",
     "text": [
      "(1030, 9)\n"
     ]
    },
    {
     "data": {
      "text/plain": [
       "0.7198972540487869"
      ]
     },
     "execution_count": 223,
     "metadata": {},
     "output_type": "execute_result"
    }
   ],
   "source": [
    "## Input Distribution\n",
    "from sklearn.linear_model import LinearRegression\n",
    "import statsmodels.api as sm\n",
    "import math\n",
    "from sklearn.preprocessing import MinMaxScaler\n",
    "\n",
    "ConcreteData_df_sort = ConcreteData_df.sort_values('ConcreteCompressiveStrength')\n",
    "print(ConcreteData_df_sort.shape)\n",
    "\n",
    "target_column_concrete = ['ConcreteCompressiveStrength']\n",
    "\n",
    "ConcreteData_df_sort_X = ConcreteData_df_sort.drop(target_column_concrete, axis = 1)\n",
    "scaler = MinMaxScaler() \n",
    "scaled_values = scaler.fit_transform(ConcreteData_df_sort_X) \n",
    "ConcreteData_df_sort_X.loc[:,:] = scaled_values\n",
    "\n",
    "euclidean_pair_consec = np.linalg.norm(ConcreteData_df_sort_X.diff(axis=0).drop(0), axis=1)\n",
    "euclidean_pair_consec = [x for x in euclidean_pair_consec if math.isnan(x) == False]\n",
    "\n",
    "len(euclidean_pair_consec)\n",
    "input_dist = sum(euclidean_pair_consec)/float(ConcreteData_df_sort_X.shape[0])\n",
    "input_dist"
   ]
  },
  {
   "cell_type": "code",
   "execution_count": 46,
   "metadata": {},
   "outputs": [
    {
     "data": {
      "text/html": [
       "<div>\n",
       "<style scoped>\n",
       "    .dataframe tbody tr th:only-of-type {\n",
       "        vertical-align: middle;\n",
       "    }\n",
       "\n",
       "    .dataframe tbody tr th {\n",
       "        vertical-align: top;\n",
       "    }\n",
       "\n",
       "    .dataframe thead th {\n",
       "        text-align: right;\n",
       "    }\n",
       "</style>\n",
       "<table border=\"1\" class=\"dataframe\">\n",
       "  <thead>\n",
       "    <tr style=\"text-align: right;\">\n",
       "      <th></th>\n",
       "      <th>ConcreteCompressiveStrength</th>\n",
       "      <th>Residuals</th>\n",
       "    </tr>\n",
       "  </thead>\n",
       "  <tbody>\n",
       "    <tr>\n",
       "      <th>0</th>\n",
       "      <td>79.986111</td>\n",
       "      <td>2.131597</td>\n",
       "    </tr>\n",
       "    <tr>\n",
       "      <th>1</th>\n",
       "      <td>61.887366</td>\n",
       "      <td>1.220355</td>\n",
       "    </tr>\n",
       "    <tr>\n",
       "      <th>4</th>\n",
       "      <td>44.296075</td>\n",
       "      <td>0.334662</td>\n",
       "    </tr>\n",
       "    <tr>\n",
       "      <th>5</th>\n",
       "      <td>47.029847</td>\n",
       "      <td>0.472303</td>\n",
       "    </tr>\n",
       "    <tr>\n",
       "      <th>8</th>\n",
       "      <td>45.854291</td>\n",
       "      <td>0.413115</td>\n",
       "    </tr>\n",
       "    <tr>\n",
       "      <th>...</th>\n",
       "      <td>...</td>\n",
       "      <td>...</td>\n",
       "    </tr>\n",
       "    <tr>\n",
       "      <th>1016</th>\n",
       "      <td>15.091251</td>\n",
       "      <td>-0.779398</td>\n",
       "    </tr>\n",
       "    <tr>\n",
       "      <th>1020</th>\n",
       "      <td>42.140084</td>\n",
       "      <td>0.226111</td>\n",
       "    </tr>\n",
       "    <tr>\n",
       "      <th>1025</th>\n",
       "      <td>44.284354</td>\n",
       "      <td>0.495907</td>\n",
       "    </tr>\n",
       "    <tr>\n",
       "      <th>1027</th>\n",
       "      <td>23.696601</td>\n",
       "      <td>-0.507717</td>\n",
       "    </tr>\n",
       "    <tr>\n",
       "      <th>1029</th>\n",
       "      <td>32.401235</td>\n",
       "      <td>-0.123734</td>\n",
       "    </tr>\n",
       "  </tbody>\n",
       "</table>\n",
       "<p>679 rows × 2 columns</p>\n",
       "</div>"
      ],
      "text/plain": [
       "      ConcreteCompressiveStrength  Residuals\n",
       "0                       79.986111   2.131597\n",
       "1                       61.887366   1.220355\n",
       "4                       44.296075   0.334662\n",
       "5                       47.029847   0.472303\n",
       "8                       45.854291   0.413115\n",
       "...                           ...        ...\n",
       "1016                    15.091251  -0.779398\n",
       "1020                    42.140084   0.226111\n",
       "1025                    44.284354   0.495907\n",
       "1027                    23.696601  -0.507717\n",
       "1029                    32.401235  -0.123734\n",
       "\n",
       "[679 rows x 2 columns]"
      ]
     },
     "execution_count": 46,
     "metadata": {},
     "output_type": "execute_result"
    }
   ],
   "source": [
    "# ConcreteData_df = ConcreteData_df.drop(['Residuals'], axis = 1)\n",
    "\n",
    "target_column_concrete = ['ConcreteCompressiveStrength']\n",
    "\n",
    "Corr_y = ConcreteData_df.corr()['ConcreteCompressiveStrength'].abs().sort_values(ascending = True)\n",
    "Corr_y\n",
    "closepair_df = ConcreteData_df[['FlyAsh', 'ConcreteCompressiveStrength']]\n",
    "\n",
    "closepair_df_y = closepair_df[target_column_concrete]\n",
    "closepair_df_X = closepair_df.drop(target_column_concrete, axis = 1)\n",
    "\n",
    "x_const = sm.add_constant(closepair_df_X)\n",
    "linear_reg = sm.OLS(closepair_df_y, x_const).fit() \n",
    "influence_linear = linear_reg.get_influence()\n",
    "standardized_residuals = influence_linear.resid_studentized_internal\n",
    "\n",
    "ConcreteData_df = ConcreteData_df.drop(['FlyAsh'], axis = 1)\n",
    "ConcreteData_df['Residuals'] = standardized_residuals\n",
    "\n",
    "ConcreteData_df = ConcreteData_df[abs(ConcreteData_df.Residuals)  > 0.1]\n",
    "ConcreteData_df"
   ]
  },
  {
   "cell_type": "code",
   "execution_count": 224,
   "metadata": {},
   "outputs": [
    {
     "name": "stdout",
     "output_type": "stream",
     "text": [
      "Housing Data\n",
      "---------------------------\n",
      "(506, 14)\n"
     ]
    },
    {
     "data": {
      "text/plain": [
       "Index(['crim', 'zn', 'indus', 'chas', 'nox', 'rm', 'age', 'dis', 'rad', 'tax',\n",
       "       'ptratio', 'b', 'lstat', 'medv'],\n",
       "      dtype='object')"
      ]
     },
     "execution_count": 224,
     "metadata": {},
     "output_type": "execute_result"
    }
   ],
   "source": [
    "################################### Housing ################################################################\n",
    "HousingData_df = pd.read_csv('UCI_regression/BostonHousing/BostonHousing.csv') \n",
    "print(\"Housing Data\")\n",
    "print(\"---------------------------\")\n",
    "print(HousingData_df.shape)\n",
    "\n",
    "target_column_housing = ['medv']\n",
    "HousingData_df_y = HousingData_df[target_column_housing]\n",
    "HousingData_df_X = HousingData_df.drop(target_column_housing, axis = 1)\n",
    "\n",
    "HousingData_df.columns\n"
   ]
  },
  {
   "cell_type": "code",
   "execution_count": 14,
   "metadata": {},
   "outputs": [
    {
     "data": {
      "text/plain": [
       "array([4.86837097, 4.71732544, 6.02606388, 3.55534806, 6.20547279,\n",
       "       6.22032961, 6.12673135, 6.08397546, 5.86043414, 6.14553124,\n",
       "       6.21940643, 6.17532214, 6.07395666, 6.14828567])"
      ]
     },
     "execution_count": 14,
     "metadata": {},
     "output_type": "execute_result"
    }
   ],
   "source": [
    "## Get Entropy Housing\n",
    "entropy_housing = entropy(HousingData_df)\n",
    "entropy_housing"
   ]
  },
  {
   "cell_type": "code",
   "execution_count": 89,
   "metadata": {},
   "outputs": [
    {
     "data": {
      "text/plain": [
       "0.5292293626047331"
      ]
     },
     "execution_count": 89,
     "metadata": {},
     "output_type": "execute_result"
    }
   ],
   "source": [
    "## Get the Spearman Correlation Housing\n",
    "corr_housing =  HousingData_df.corr(method = 'spearman')['medv'].abs()\n",
    "corr_housing = corr_housing.sort_values(ascending = True)\n",
    "corr_housing\n",
    "\n",
    "sumval_housing = corr_housing.sum()/len(corr_housing)\n",
    "sumval_housing\n",
    "\n",
    "## 7.6% simple (>0.8)\n",
    "## 15.3% simple (>0.6)"
   ]
  },
  {
   "cell_type": "code",
   "execution_count": 14,
   "metadata": {},
   "outputs": [
    {
     "data": {
      "text/plain": [
       "0.053822519683534936"
      ]
     },
     "execution_count": 14,
     "metadata": {},
     "output_type": "execute_result"
    }
   ],
   "source": [
    "## Get the Spearman Correlation Housing for the features\n",
    "corr_housing =  HousingData_df_X.corr(method = 'spearman')\n",
    "corr_housing\n",
    "\n",
    "corr_housing_lsum = np.tril(corr_housing).sum() - np.trace(corr_housing)\n",
    "housing_elems = len(corr_housing) * (len(corr_housing) - 1) / 2\n",
    "corr_housing_lavg = abs(corr_housing_lsum / housing_elems)\n",
    "corr_housing_lavg"
   ]
  },
  {
   "cell_type": "code",
   "execution_count": 16,
   "metadata": {},
   "outputs": [
    {
     "data": {
      "text/plain": [
       "3.2708628109003177"
      ]
     },
     "execution_count": 16,
     "metadata": {},
     "output_type": "execute_result"
    }
   ],
   "source": [
    "## Get the L1 parameter Housing\n",
    "from sklearn import linear_model\n",
    "\n",
    "regr_housing = linear_model.LinearRegression()\n",
    "regr_housing.fit(HousingData_df_X, HousingData_df_y)\n",
    "predict_housing = regr_housing.predict(HousingData_df_X)\n",
    "\n",
    "housing_df_y_list = HousingData_df_y.to_numpy()\n",
    "mandis_housing = np.abs(housing_df_y_list - predict_housing)\n",
    "L1_housing = np.sum(mandis_housing)/len(mandis_housing)\n",
    "L1_housing"
   ]
  },
  {
   "cell_type": "code",
   "execution_count": 107,
   "metadata": {},
   "outputs": [],
   "source": [
    "## Collective Feature Efficiency\n",
    "from sklearn.linear_model import LinearRegression\n",
    "import statsmodels.api as sm\n",
    "\n",
    "HousingData_df = HousingData_df.drop(['Residuals'], axis = 1)\n",
    "\n",
    "target_column_housing = ['medv']\n",
    "\n",
    "Corr_y = HousingData_df.corr()['medv'].abs().sort_values(ascending = True)\n",
    "Corr_y\n",
    "closepair_df = HousingData_df[['dis', 'medv']]\n",
    "\n",
    "closepair_df_y = closepair_df[target_column_housing]\n",
    "closepair_df_X = closepair_df.drop(target_column_housing, axis = 1)\n",
    "\n",
    "x_const = sm.add_constant(closepair_df_X)\n",
    "linear_reg = sm.OLS(closepair_df_y, x_const).fit() \n",
    "influence_linear = linear_reg.get_influence()\n",
    "standardized_residuals = influence_linear.resid_studentized_internal\n",
    "\n",
    "HousingData_df = HousingData_df.drop(['dis'], axis = 1)\n",
    "HousingData_df['Residuals'] = standardized_residuals\n",
    "\n",
    "HousingData_df = HousingData_df[abs(HousingData_df.Residuals)  > 0.1]\n",
    "HousingData_df"
   ]
  },
  {
   "cell_type": "code",
   "execution_count": 174,
   "metadata": {},
   "outputs": [
    {
     "data": {
      "text/plain": [
       "0.29908986791567527"
      ]
     },
     "execution_count": 174,
     "metadata": {},
     "output_type": "execute_result"
    }
   ],
   "source": [
    "## Distance from Linear Function\n",
    "from sklearn.linear_model import LinearRegression\n",
    "import statsmodels.api as sm\n",
    "\n",
    "target_column_housing = ['medv']\n",
    "\n",
    "closepair_df_y = HousingData_df[target_column_housing]\n",
    "closepair_df_X = HousingData_df.drop(target_column_housing, axis = 1)\n",
    "\n",
    "x_const = sm.add_constant(closepair_df_X)\n",
    "linear_reg = sm.OLS(closepair_df_y, x_const).fit() \n",
    "influence_linear = linear_reg.get_influence()\n",
    "std_res = influence_linear.resid_studentized_internal\n",
    "std_res_abs = [abs(x) for x in std_res]\n",
    "\n",
    "ratio = 1\n",
    "for i in std_res_abs:\n",
    "    ratio = ratio - float(i)/len(std_res_abs)  \n",
    "    \n",
    "ratio"
   ]
  },
  {
   "cell_type": "code",
   "execution_count": 225,
   "metadata": {},
   "outputs": [
    {
     "name": "stdout",
     "output_type": "stream",
     "text": [
      "(506, 14)\n"
     ]
    },
    {
     "data": {
      "text/plain": [
       "0.9021480317169385"
      ]
     },
     "execution_count": 225,
     "metadata": {},
     "output_type": "execute_result"
    }
   ],
   "source": [
    "## Input Distribution\n",
    "from sklearn.linear_model import LinearRegression\n",
    "import statsmodels.api as sm\n",
    "import math\n",
    "from sklearn.preprocessing import MinMaxScaler\n",
    "\n",
    "HousingData_df_sort = HousingData_df.sort_values('medv')\n",
    "print(HousingData_df_sort.shape)\n",
    "\n",
    "target_column_housing = ['medv']\n",
    "\n",
    "HousingData_df_sort_X = HousingData_df_sort.drop(target_column_housing, axis = 1)\n",
    "scaler = MinMaxScaler() \n",
    "scaled_values = scaler.fit_transform(HousingData_df_sort_X) \n",
    "HousingData_df_sort_X.loc[:,:] = scaled_values\n",
    "\n",
    "euclidean_pair_consec = np.linalg.norm(HousingData_df_sort_X.diff(axis=0).drop(0), axis=1)\n",
    "euclidean_pair_consec = [x for x in euclidean_pair_consec if math.isnan(x) == False]\n",
    "\n",
    "len(euclidean_pair_consec)\n",
    "input_dist = sum(euclidean_pair_consec)/float(HousingData_df_sort_X.shape[0])\n",
    "input_dist"
   ]
  },
  {
   "cell_type": "code",
   "execution_count": 226,
   "metadata": {},
   "outputs": [
    {
     "name": "stdout",
     "output_type": "stream",
     "text": [
      "Automobile Data\n",
      "---------------------------\n",
      "The shape of the Input data is:  (392, 8)\n"
     ]
    },
    {
     "data": {
      "text/plain": [
       "Index(['mpg', 'cylinders', 'displacement', 'horsepower', 'weight',\n",
       "       'acceleration', 'year', 'origin'],\n",
       "      dtype='object')"
      ]
     },
     "execution_count": 226,
     "metadata": {},
     "output_type": "execute_result"
    }
   ],
   "source": [
    "######################################################## Automobile ################################################################\n",
    "print(\"Automobile Data\")\n",
    "print(\"---------------------------\")\n",
    "dropcol_initial_auto = ['name']\n",
    "AutoData_df = pd.read_csv('UCI_regression/MPG/Auto.csv') ## horsepower column has correlation 0.4 :: [46 - 230] :: 30\n",
    "AutoData_df = AutoData_df.drop(dropcol_initial_auto, axis = 1)\n",
    "print(\"The shape of the Input data is: \", AutoData_df.shape)\n",
    "\n",
    "target_column_auto = ['mpg']\n",
    "\n",
    "AutoData_df_y = AutoData_df[target_column_auto]\n",
    "AutoData_df_X = AutoData_df.drop(target_column_auto, axis = 1)\n",
    "\n",
    "AutoData_df.columns"
   ]
  },
  {
   "cell_type": "code",
   "execution_count": 19,
   "metadata": {},
   "outputs": [
    {
     "data": {
      "text/plain": [
       "array([5.91655392, 5.92424156, 5.83322921, 5.9085298 , 5.93161924,\n",
       "       5.95554068, 5.97008906, 5.85263873])"
      ]
     },
     "execution_count": 19,
     "metadata": {},
     "output_type": "execute_result"
    }
   ],
   "source": [
    "## Get Entropy Auto\n",
    "entropy_auto = entropy(AutoData_df)\n",
    "entropy_auto"
   ]
  },
  {
   "cell_type": "code",
   "execution_count": 88,
   "metadata": {},
   "outputs": [
    {
     "data": {
      "text/plain": [
       "0.7505589879419527"
      ]
     },
     "execution_count": 88,
     "metadata": {},
     "output_type": "execute_result"
    }
   ],
   "source": [
    "## Get the Spearman Correlation Auto\n",
    "corr_auto =  AutoData_df.corr(method = 'spearman')['mpg'].abs()\n",
    "corr_auto = corr_auto.sort_values(ascending = True)\n",
    "corr_auto\n",
    "\n",
    "sumval_auto = corr_auto.sum()/len(corr_auto)\n",
    "sumval_auto\n",
    "\n",
    "## 57% simple (>0.8)\n",
    "## 57% simple (>0.6)"
   ]
  },
  {
   "cell_type": "code",
   "execution_count": 16,
   "metadata": {},
   "outputs": [
    {
     "data": {
      "text/plain": [
       "0.008094763976858784"
      ]
     },
     "execution_count": 16,
     "metadata": {},
     "output_type": "execute_result"
    }
   ],
   "source": [
    "## Get the Spearman Correlation Auto for the features\n",
    "corr_auto =  AutoData_df_X.corr(method = 'spearman')\n",
    "corr_auto\n",
    "\n",
    "corr_auto_lsum = np.tril(corr_auto).sum() - np.trace(corr_auto)\n",
    "auto_elems = len(corr_auto) * (len(corr_auto) - 1) / 2\n",
    "corr_auto_lavg = abs(corr_auto_lsum / auto_elems)\n",
    "corr_auto_lavg"
   ]
  },
  {
   "cell_type": "code",
   "execution_count": 23,
   "metadata": {},
   "outputs": [
    {
     "data": {
      "text/plain": [
       "2.4993098325008716"
      ]
     },
     "execution_count": 23,
     "metadata": {},
     "output_type": "execute_result"
    }
   ],
   "source": [
    "## Get the L1 parameter Auto\n",
    "from sklearn import linear_model\n",
    "\n",
    "regr_auto = linear_model.LinearRegression()\n",
    "regr_auto.fit(AutoData_df_X, AutoData_df_y)\n",
    "predict_auto = regr_auto.predict(AutoData_df_X)\n",
    "\n",
    "AutoData_df_y_list = AutoData_df_y.to_numpy()\n",
    "mandis_auto = np.abs(AutoData_df_y_list - predict_auto)\n",
    "L1_auto = np.sum(mandis_auto)/len(mandis_auto)\n",
    "L1_auto"
   ]
  },
  {
   "cell_type": "code",
   "execution_count": 67,
   "metadata": {},
   "outputs": [
    {
     "data": {
      "text/html": [
       "<div>\n",
       "<style scoped>\n",
       "    .dataframe tbody tr th:only-of-type {\n",
       "        vertical-align: middle;\n",
       "    }\n",
       "\n",
       "    .dataframe tbody tr th {\n",
       "        vertical-align: top;\n",
       "    }\n",
       "\n",
       "    .dataframe thead th {\n",
       "        text-align: right;\n",
       "    }\n",
       "</style>\n",
       "<table border=\"1\" class=\"dataframe\">\n",
       "  <thead>\n",
       "    <tr style=\"text-align: right;\">\n",
       "      <th></th>\n",
       "      <th>mpg</th>\n",
       "      <th>Residuals</th>\n",
       "    </tr>\n",
       "  </thead>\n",
       "  <tbody>\n",
       "    <tr>\n",
       "      <th>0</th>\n",
       "      <td>18.0</td>\n",
       "      <td>-0.230596</td>\n",
       "    </tr>\n",
       "    <tr>\n",
       "      <th>1</th>\n",
       "      <td>15.0</td>\n",
       "      <td>-0.529800</td>\n",
       "    </tr>\n",
       "    <tr>\n",
       "      <th>5</th>\n",
       "      <td>15.0</td>\n",
       "      <td>-0.317425</td>\n",
       "    </tr>\n",
       "    <tr>\n",
       "      <th>9</th>\n",
       "      <td>15.0</td>\n",
       "      <td>-0.103325</td>\n",
       "    </tr>\n",
       "    <tr>\n",
       "      <th>10</th>\n",
       "      <td>15.0</td>\n",
       "      <td>-0.317425</td>\n",
       "    </tr>\n",
       "    <tr>\n",
       "      <th>...</th>\n",
       "      <td>...</td>\n",
       "      <td>...</td>\n",
       "    </tr>\n",
       "    <tr>\n",
       "      <th>381</th>\n",
       "      <td>38.0</td>\n",
       "      <td>1.517670</td>\n",
       "    </tr>\n",
       "    <tr>\n",
       "      <th>385</th>\n",
       "      <td>36.0</td>\n",
       "      <td>1.842228</td>\n",
       "    </tr>\n",
       "    <tr>\n",
       "      <th>386</th>\n",
       "      <td>27.0</td>\n",
       "      <td>0.123902</td>\n",
       "    </tr>\n",
       "    <tr>\n",
       "      <th>388</th>\n",
       "      <td>44.0</td>\n",
       "      <td>1.204596</td>\n",
       "    </tr>\n",
       "    <tr>\n",
       "      <th>391</th>\n",
       "      <td>31.0</td>\n",
       "      <td>0.318467</td>\n",
       "    </tr>\n",
       "  </tbody>\n",
       "</table>\n",
       "<p>199 rows × 2 columns</p>\n",
       "</div>"
      ],
      "text/plain": [
       "      mpg  Residuals\n",
       "0    18.0  -0.230596\n",
       "1    15.0  -0.529800\n",
       "5    15.0  -0.317425\n",
       "9    15.0  -0.103325\n",
       "10   15.0  -0.317425\n",
       "..    ...        ...\n",
       "381  38.0   1.517670\n",
       "385  36.0   1.842228\n",
       "386  27.0   0.123902\n",
       "388  44.0   1.204596\n",
       "391  31.0   0.318467\n",
       "\n",
       "[199 rows x 2 columns]"
      ]
     },
     "execution_count": 67,
     "metadata": {},
     "output_type": "execute_result"
    }
   ],
   "source": [
    "## Collective Feature Efficiency\n",
    "from sklearn.linear_model import LinearRegression\n",
    "import statsmodels.api as sm\n",
    "\n",
    "# AutoData_df = AutoData_df.drop(['Residuals'], axis = 1)\n",
    "\n",
    "target_column_auto = ['mpg']\n",
    "\n",
    "Corr_y = AutoData_df.corr()['mpg'].abs().sort_values(ascending = True)\n",
    "Corr_y\n",
    "closepair_df = AutoData_df[['acceleration', 'mpg']]\n",
    "\n",
    "closepair_df_y = closepair_df[target_column_auto]\n",
    "closepair_df_X = closepair_df.drop(target_column_auto, axis = 1)\n",
    "\n",
    "x_const = sm.add_constant(closepair_df_X)\n",
    "linear_reg = sm.OLS(closepair_df_y, x_const).fit() \n",
    "influence_linear = linear_reg.get_influence()\n",
    "standardized_residuals = influence_linear.resid_studentized_internal\n",
    "\n",
    "AutoData_df = AutoData_df.drop(['acceleration'], axis = 1)\n",
    "AutoData_df['Residuals'] = standardized_residuals\n",
    "\n",
    "AutoData_df = AutoData_df[abs(AutoData_df.Residuals)  > 0.1]\n",
    "AutoData_df\n"
   ]
  },
  {
   "cell_type": "code",
   "execution_count": 176,
   "metadata": {},
   "outputs": [
    {
     "data": {
      "text/plain": [
       "0.24043937249727487"
      ]
     },
     "execution_count": 176,
     "metadata": {},
     "output_type": "execute_result"
    }
   ],
   "source": [
    "## Distance from Linear Function\n",
    "from sklearn.linear_model import LinearRegression\n",
    "import statsmodels.api as sm\n",
    "\n",
    "target_column_auto = ['mpg']\n",
    "\n",
    "closepair_df_y = AutoData_df[target_column_auto]\n",
    "closepair_df_X = AutoData_df.drop(target_column_auto, axis = 1)\n",
    "\n",
    "x_const = sm.add_constant(closepair_df_X)\n",
    "linear_reg = sm.OLS(closepair_df_y, x_const).fit() \n",
    "influence_linear = linear_reg.get_influence()\n",
    "std_res = influence_linear.resid_studentized_internal\n",
    "std_res_abs = [abs(x) for x in std_res]\n",
    "\n",
    "ratio = 1\n",
    "for i in std_res_abs:\n",
    "    ratio = ratio - float(i)/len(std_res_abs)  \n",
    "    \n",
    "ratio"
   ]
  },
  {
   "cell_type": "code",
   "execution_count": 227,
   "metadata": {},
   "outputs": [
    {
     "name": "stdout",
     "output_type": "stream",
     "text": [
      "(392, 8)\n"
     ]
    },
    {
     "data": {
      "text/plain": [
       "0.5897347838735368"
      ]
     },
     "execution_count": 227,
     "metadata": {},
     "output_type": "execute_result"
    }
   ],
   "source": [
    "## Input Distribution\n",
    "from sklearn.linear_model import LinearRegression\n",
    "import statsmodels.api as sm\n",
    "import math\n",
    "from sklearn.preprocessing import MinMaxScaler\n",
    "\n",
    "AutoData_df_sort = AutoData_df.sort_values('mpg')\n",
    "print(AutoData_df_sort.shape)\n",
    "\n",
    "target_column_auto = ['mpg']\n",
    "\n",
    "AutoData_df_sort_X = AutoData_df_sort.drop(target_column_auto, axis = 1)\n",
    "scaler = MinMaxScaler() \n",
    "scaled_values = scaler.fit_transform(AutoData_df_sort_X) \n",
    "AutoData_df_sort_X.loc[:,:] = scaled_values\n",
    "\n",
    "euclidean_pair_consec = np.linalg.norm(AutoData_df_sort_X.diff(axis=0).drop(0), axis=1)\n",
    "euclidean_pair_consec = [x for x in euclidean_pair_consec if math.isnan(x) == False]\n",
    "\n",
    "len(euclidean_pair_consec)\n",
    "input_dist = sum(euclidean_pair_consec)/float(AutoData_df_sort_X.shape[0])\n",
    "input_dist"
   ]
  },
  {
   "cell_type": "code",
   "execution_count": 101,
   "metadata": {},
   "outputs": [
    {
     "name": "stdout",
     "output_type": "stream",
     "text": [
      "Ailerons Data\n",
      "-------------------------------------------\n"
     ]
    },
    {
     "data": {
      "text/plain": [
       "(7154, 41)"
      ]
     },
     "execution_count": 101,
     "metadata": {},
     "output_type": "execute_result"
    }
   ],
   "source": [
    "################################################################ Ailerons ###############################################\n",
    "print(\"Ailerons Data\")\n",
    "print(\"-------------------------------------------\")\n",
    "\n",
    "\n",
    "target_ailerons = ['goal']\n",
    "colnames_ailerons = ['climbRate', 'Sgz', 'p', 'q', 'curPitch', 'curRoll', 'absRoll', 'diffClb', 'diffRollRate', 'diffDiffClb', 'SeTime1',\n",
    "            'SeTime2', 'SeTime3', 'SeTime4', 'SeTime5', 'SeTime6', 'SeTime7', 'SeTime8', 'SeTime9', 'SeTime10', 'SeTime11', 'SeTime12', \n",
    "            'SeTime13', 'SeTime14', 'diffSeTime1', 'diffSeTime2', 'diffSeTime3', 'diffSeTime4', 'diffSeTime5', 'diffSeTime6', 'diffSeTime7',\n",
    "            'diffSeTime8', 'diffSeTime9', 'diffSeTime10', 'diffSeTime11', 'diffSeTime12', 'diffSeTime13', 'diffSeTime14', 'alpha', 'Se', 'goal']\n",
    "AileronsData_train_df = pd.read_csv('UCI_regression/Ailerons/ailerons.data', header = None, names = colnames_ailerons) \n",
    "# print(AileronsData_df_train.shape)\n",
    "\n",
    "AileronsData_test_df = pd.read_csv('UCI_regression/Ailerons/ailerons.test', header = None, names = colnames_ailerons) \n",
    "# print(AileronsData_df_test.shape)\n",
    "\n",
    "AileronsData_train_df_y = AileronsData_train_df[target_ailerons]\n",
    "AileronsData_train_df_X = AileronsData_train_df.drop(target_ailerons, axis = 1)\n",
    "\n",
    "AileronsData_train_df.shape"
   ]
  },
  {
   "cell_type": "code",
   "execution_count": 27,
   "metadata": {},
   "outputs": [
    {
     "name": "stderr",
     "output_type": "stream",
     "text": [
      "/Users/shrey/anaconda3/lib/python3.8/site-packages/scipy/stats/_distn_infrastructure.py:2664: RuntimeWarning: divide by zero encountered in true_divide\n",
      "  pk = 1.0*pk / np.sum(pk, axis=axis, keepdims=True)\n",
      "/Users/shrey/anaconda3/lib/python3.8/site-packages/scipy/stats/_distn_infrastructure.py:2664: RuntimeWarning: invalid value encountered in true_divide\n",
      "  pk = 1.0*pk / np.sum(pk, axis=axis, keepdims=True)\n"
     ]
    },
    {
     "data": {
      "text/plain": [
       "array([      -inf,       -inf,       -inf,       -inf,       -inf,\n",
       "             -inf, 8.80691841,       -inf,       -inf,       -inf,\n",
       "       8.8315046 , 8.83126288, 8.83126288, 8.83121856, 8.83121697,\n",
       "       8.83117994, 8.83117394, 8.83118849, 8.83119159, 8.83106317,\n",
       "       8.83106452, 8.83094737, 8.83095125, 8.83092714,       -inf,\n",
       "              nan,       -inf, 0.        ,       -inf, 0.50040242,\n",
       "             -inf,        nan,       -inf,       -inf,       -inf,\n",
       "             -inf,       -inf, 0.69314718, 8.83117899, 8.83092714,\n",
       "       8.7747889 ])"
      ]
     },
     "execution_count": 27,
     "metadata": {},
     "output_type": "execute_result"
    }
   ],
   "source": [
    "## Get Entropy Ailerons\n",
    "entropy_ailerons = entropy(AileronsData_train_df)\n",
    "entropy_ailerons"
   ]
  },
  {
   "cell_type": "code",
   "execution_count": 87,
   "metadata": {},
   "outputs": [
    {
     "data": {
      "text/plain": [
       "0.3217586099480845"
      ]
     },
     "execution_count": 87,
     "metadata": {},
     "output_type": "execute_result"
    }
   ],
   "source": [
    "## Get the Spearman Correlation Ailerons\n",
    "corr_ailerons =  AileronsData_train_df.corr(method = 'spearman')['goal'].abs()\n",
    "corr_ailerons = corr_ailerons.sort_values(ascending = True)\n",
    "corr_ailerons = corr_ailerons[:-1]\n",
    "corr_ailerons\n",
    "\n",
    "sumval_ailerons = corr_ailerons.sum()/len(corr_ailerons)\n",
    "sumval_ailerons\n",
    "\n",
    "\n",
    "## 0% simple (>0.8)\n",
    "## 0% simple (>0.6)"
   ]
  },
  {
   "cell_type": "code",
   "execution_count": 37,
   "metadata": {},
   "outputs": [
    {
     "data": {
      "text/plain": [
       "0.15845264476831053"
      ]
     },
     "execution_count": 37,
     "metadata": {},
     "output_type": "execute_result"
    }
   ],
   "source": [
    "## Get the Spearman Correlation Ailerons for the features\n",
    "AileronsData_train_df_X = AileronsData_train_df_X.drop(['diffSeTime2'], axis = 1)\n",
    "corr_ailerons =  AileronsData_train_df_X.corr(method = 'spearman')\n",
    "corr_ailerons\n",
    "\n",
    "corr_ailerons_lsum = np.tril(corr_ailerons).sum() - np.trace(corr_ailerons)\n",
    "\n",
    "ailerons_elems = len(corr_ailerons) * (len(corr_ailerons) - 1) / 2\n",
    "corr_ailerons_lavg = abs(corr_ailerons_lsum / ailerons_elems)\n",
    "corr_ailerons_lavg"
   ]
  },
  {
   "cell_type": "code",
   "execution_count": 35,
   "metadata": {},
   "outputs": [
    {
     "data": {
      "text/plain": [
       "0.00012685091380807255"
      ]
     },
     "execution_count": 35,
     "metadata": {},
     "output_type": "execute_result"
    }
   ],
   "source": [
    "from sklearn import linear_model\n",
    "\n",
    "regr_ailerons = linear_model.LinearRegression()\n",
    "regr_ailerons.fit(AileronsData_train_df_X, AileronsData_train_df_y)\n",
    "predict_ailerons = regr_ailerons.predict(AileronsData_train_df_X)\n",
    "\n",
    "AileronsData_train_df_y_list = AileronsData_train_df_y.to_numpy()\n",
    "mandis_ailerons = np.abs(AileronsData_train_df_y_list - predict_ailerons)\n",
    "L1_ailerons = np.sum(mandis_ailerons)/len(mandis_ailerons)\n",
    "L1_ailerons\n"
   ]
  },
  {
   "cell_type": "code",
   "execution_count": 98,
   "metadata": {},
   "outputs": [
    {
     "data": {
      "text/plain": [
       "goal           1.0\n",
       "diffSeTime2    NaN\n",
       "diffSeTime4    NaN\n",
       "diffSeTime6    NaN\n",
       "Name: goal, dtype: float64"
      ]
     },
     "execution_count": 98,
     "metadata": {},
     "output_type": "execute_result"
    }
   ],
   "source": [
    "## Collective Feature Efficiency\n",
    "from sklearn.linear_model import LinearRegression\n",
    "import statsmodels.api as sm\n",
    "\n",
    "target_column_ailerons = ['goal']\n",
    "\n",
    "AileronsData_train_df = AileronsData_train_df.drop(['Residuals'], axis = 1)\n",
    "Corr_y = AileronsData_train_df.corr()['goal'].abs().sort_values(ascending = True)\n",
    "Corr_y\n",
    "\n",
    "# closepair_df = AileronsData_train_df[['diffSeTime12', 'goal']]\n",
    "# closepair_df_y = closepair_df[target_column_ailerons]\n",
    "# closepair_df_X = closepair_df.drop(target_column_ailerons, axis = 1)\n",
    "\n",
    "# x_const = sm.add_constant(closepair_df_X)\n",
    "# linear_reg = sm.OLS(closepair_df_y, x_const).fit() \n",
    "# influence_linear = linear_reg.get_influence()\n",
    "# standardized_residuals = influence_linear.resid_studentized_internal\n",
    "\n",
    "# AileronsData_train_df = AileronsData_train_df.drop(['diffSeTime12'], axis = 1)\n",
    "# AileronsData_train_df['Residuals'] = standardized_residuals\n",
    "\n",
    "# AileronsData_train_df = AileronsData_train_df[abs(AileronsData_train_df.Residuals)  > 0.1]\n",
    "# AileronsData_train_df"
   ]
  },
  {
   "cell_type": "code",
   "execution_count": 99,
   "metadata": {},
   "outputs": [
    {
     "data": {
      "text/plain": [
       "0.47330164942689407"
      ]
     },
     "execution_count": 99,
     "metadata": {},
     "output_type": "execute_result"
    }
   ],
   "source": [
    "res = (795 + 586 + 17 + 26 + 62 + 0 + 22 + 0 + 23 + 0 + 29 + 0 + 30 + 0 + 37 + 0 + 171 + 375 + 358 + 284 + 223 + 151 + 110 + 37 + 20 + 16 + 3 + 6 + 1 + 3\n",
    "      + 0 + 0 + 1 + 0 + 0 + 0 + 0 + 0 + 0 + 0)/float(7154)\n",
    "res"
   ]
  },
  {
   "cell_type": "code",
   "execution_count": 108,
   "metadata": {},
   "outputs": [
    {
     "data": {
      "text/plain": [
       "0.2668927403644471"
      ]
     },
     "execution_count": 108,
     "metadata": {},
     "output_type": "execute_result"
    }
   ],
   "source": [
    "## Distance from Linear Function\n",
    "from sklearn.linear_model import LinearRegression\n",
    "import statsmodels.api as sm\n",
    "import math\n",
    "\n",
    "target_column_ailerons = ['goal']\n",
    "\n",
    "closepair_df_y = AileronsData_train_df[target_column_ailerons]\n",
    "closepair_df_X = AileronsData_train_df.drop(target_column_ailerons, axis = 1)\n",
    "\n",
    "x_const = sm.add_constant(closepair_df_X)\n",
    "linear_reg = sm.OLS(closepair_df_y, x_const).fit() \n",
    "influence_linear = linear_reg.get_influence()\n",
    "std_res = influence_linear.resid_studentized_internal\n",
    "std_res_abs = [abs(x) for x in std_res]\n",
    "# print(std_res)\n",
    "\n",
    "ratio = 1\n",
    "for i in std_res_abs:\n",
    "    if math.isnan(i) is False:\n",
    "        ratio = ratio - float(i)/len(std_res_abs)  \n",
    "    \n",
    "ratio"
   ]
  },
  {
   "cell_type": "code",
   "execution_count": 110,
   "metadata": {},
   "outputs": [
    {
     "name": "stdout",
     "output_type": "stream",
     "text": [
      "(7154, 41)\n"
     ]
    },
    {
     "data": {
      "text/plain": [
       "0.6868697527730712"
      ]
     },
     "execution_count": 110,
     "metadata": {},
     "output_type": "execute_result"
    }
   ],
   "source": [
    "## Input Distribution\n",
    "from sklearn.linear_model import LinearRegression\n",
    "import statsmodels.api as sm\n",
    "import math\n",
    "from sklearn.preprocessing import MinMaxScaler\n",
    "\n",
    "AileronsData_train_df_sort = AileronsData_train_df.sort_values('goal')\n",
    "print(AileronsData_train_df_sort.shape)\n",
    "\n",
    "target_column_ailerons = ['goal']\n",
    "\n",
    "AileronsData_train_df_sort_X = AileronsData_train_df_sort.drop(target_column_ailerons, axis = 1)\n",
    "scaler = MinMaxScaler() \n",
    "scaled_values = scaler.fit_transform(AileronsData_train_df_sort_X) \n",
    "AileronsData_train_df_sort_X.loc[:,:] = scaled_values\n",
    "\n",
    "euclidean_pair_consec = np.linalg.norm(AileronsData_train_df_sort_X.diff(axis=0).drop(0), axis=1)\n",
    "euclidean_pair_consec = [x for x in euclidean_pair_consec if math.isnan(x) == False]\n",
    "\n",
    "input_dist = sum(euclidean_pair_consec)/float(AileronsData_train_df_sort_X.shape[0])\n",
    "input_dist"
   ]
  },
  {
   "cell_type": "code",
   "execution_count": 6,
   "metadata": {},
   "outputs": [
    {
     "name": "stdout",
     "output_type": "stream",
     "text": [
      "Elevators\n",
      "---------------------------\n",
      "Elevators Data\n",
      "(8752, 19)\n",
      "(7847, 19)\n"
     ]
    },
    {
     "data": {
      "text/html": [
       "<div>\n",
       "<style scoped>\n",
       "    .dataframe tbody tr th:only-of-type {\n",
       "        vertical-align: middle;\n",
       "    }\n",
       "\n",
       "    .dataframe tbody tr th {\n",
       "        vertical-align: top;\n",
       "    }\n",
       "\n",
       "    .dataframe thead th {\n",
       "        text-align: right;\n",
       "    }\n",
       "</style>\n",
       "<table border=\"1\" class=\"dataframe\">\n",
       "  <thead>\n",
       "    <tr style=\"text-align: right;\">\n",
       "      <th></th>\n",
       "      <th>climbRate</th>\n",
       "      <th>Sgz</th>\n",
       "      <th>p</th>\n",
       "      <th>q</th>\n",
       "      <th>curRoll</th>\n",
       "      <th>absRoll</th>\n",
       "      <th>diffClb</th>\n",
       "      <th>diffRollRate</th>\n",
       "      <th>diffDiffClb</th>\n",
       "      <th>SaTime1</th>\n",
       "      <th>SaTime2</th>\n",
       "      <th>SaTime3</th>\n",
       "      <th>SaTime4</th>\n",
       "      <th>diffSaTime1</th>\n",
       "      <th>diffSaTime2</th>\n",
       "      <th>diffSaTime3</th>\n",
       "      <th>diffSaTime4</th>\n",
       "      <th>Sa</th>\n",
       "      <th>Goal</th>\n",
       "    </tr>\n",
       "  </thead>\n",
       "  <tbody>\n",
       "    <tr>\n",
       "      <th>0</th>\n",
       "      <td>118</td>\n",
       "      <td>-55</td>\n",
       "      <td>-0.28</td>\n",
       "      <td>-0.08</td>\n",
       "      <td>-0.2</td>\n",
       "      <td>-11</td>\n",
       "      <td>11</td>\n",
       "      <td>0.005</td>\n",
       "      <td>-0.2</td>\n",
       "      <td>-0.0010</td>\n",
       "      <td>-0.0010</td>\n",
       "      <td>-0.0010</td>\n",
       "      <td>-0.0010</td>\n",
       "      <td>0.0000</td>\n",
       "      <td>0.0</td>\n",
       "      <td>0.0</td>\n",
       "      <td>0.0</td>\n",
       "      <td>-0.0010</td>\n",
       "      <td>0.031</td>\n",
       "    </tr>\n",
       "    <tr>\n",
       "      <th>1</th>\n",
       "      <td>390</td>\n",
       "      <td>-45</td>\n",
       "      <td>-0.06</td>\n",
       "      <td>-0.07</td>\n",
       "      <td>-0.6</td>\n",
       "      <td>-12</td>\n",
       "      <td>11</td>\n",
       "      <td>0.010</td>\n",
       "      <td>-0.2</td>\n",
       "      <td>-0.0008</td>\n",
       "      <td>-0.0008</td>\n",
       "      <td>-0.0008</td>\n",
       "      <td>-0.0008</td>\n",
       "      <td>0.0000</td>\n",
       "      <td>0.0</td>\n",
       "      <td>0.0</td>\n",
       "      <td>0.0</td>\n",
       "      <td>-0.0008</td>\n",
       "      <td>0.034</td>\n",
       "    </tr>\n",
       "    <tr>\n",
       "      <th>2</th>\n",
       "      <td>68</td>\n",
       "      <td>6</td>\n",
       "      <td>0.11</td>\n",
       "      <td>0.15</td>\n",
       "      <td>0.6</td>\n",
       "      <td>-10</td>\n",
       "      <td>-9</td>\n",
       "      <td>-0.003</td>\n",
       "      <td>-0.2</td>\n",
       "      <td>-0.0011</td>\n",
       "      <td>-0.0010</td>\n",
       "      <td>-0.0010</td>\n",
       "      <td>-0.0010</td>\n",
       "      <td>-0.0002</td>\n",
       "      <td>0.0</td>\n",
       "      <td>0.0</td>\n",
       "      <td>0.0</td>\n",
       "      <td>-0.0010</td>\n",
       "      <td>0.033</td>\n",
       "    </tr>\n",
       "    <tr>\n",
       "      <th>3</th>\n",
       "      <td>-358</td>\n",
       "      <td>-12</td>\n",
       "      <td>-0.20</td>\n",
       "      <td>0.13</td>\n",
       "      <td>-0.3</td>\n",
       "      <td>-11</td>\n",
       "      <td>-7</td>\n",
       "      <td>0.001</td>\n",
       "      <td>-0.1</td>\n",
       "      <td>-0.0010</td>\n",
       "      <td>-0.0010</td>\n",
       "      <td>-0.0010</td>\n",
       "      <td>-0.0010</td>\n",
       "      <td>0.0000</td>\n",
       "      <td>0.0</td>\n",
       "      <td>0.0</td>\n",
       "      <td>0.0</td>\n",
       "      <td>-0.0010</td>\n",
       "      <td>0.032</td>\n",
       "    </tr>\n",
       "    <tr>\n",
       "      <th>4</th>\n",
       "      <td>-411</td>\n",
       "      <td>-19</td>\n",
       "      <td>-0.18</td>\n",
       "      <td>0.02</td>\n",
       "      <td>-0.5</td>\n",
       "      <td>-11</td>\n",
       "      <td>-3</td>\n",
       "      <td>0.002</td>\n",
       "      <td>1.2</td>\n",
       "      <td>-0.0010</td>\n",
       "      <td>-0.0010</td>\n",
       "      <td>-0.0010</td>\n",
       "      <td>-0.0010</td>\n",
       "      <td>0.0000</td>\n",
       "      <td>0.0</td>\n",
       "      <td>0.0</td>\n",
       "      <td>0.0</td>\n",
       "      <td>-0.0010</td>\n",
       "      <td>0.030</td>\n",
       "    </tr>\n",
       "    <tr>\n",
       "      <th>...</th>\n",
       "      <td>...</td>\n",
       "      <td>...</td>\n",
       "      <td>...</td>\n",
       "      <td>...</td>\n",
       "      <td>...</td>\n",
       "      <td>...</td>\n",
       "      <td>...</td>\n",
       "      <td>...</td>\n",
       "      <td>...</td>\n",
       "      <td>...</td>\n",
       "      <td>...</td>\n",
       "      <td>...</td>\n",
       "      <td>...</td>\n",
       "      <td>...</td>\n",
       "      <td>...</td>\n",
       "      <td>...</td>\n",
       "      <td>...</td>\n",
       "      <td>...</td>\n",
       "      <td>...</td>\n",
       "    </tr>\n",
       "    <tr>\n",
       "      <th>8747</th>\n",
       "      <td>45</td>\n",
       "      <td>20</td>\n",
       "      <td>-0.02</td>\n",
       "      <td>0.07</td>\n",
       "      <td>-0.7</td>\n",
       "      <td>-9</td>\n",
       "      <td>-2</td>\n",
       "      <td>0.001</td>\n",
       "      <td>-1.5</td>\n",
       "      <td>-0.0005</td>\n",
       "      <td>-0.0005</td>\n",
       "      <td>-0.0005</td>\n",
       "      <td>-0.0005</td>\n",
       "      <td>0.0000</td>\n",
       "      <td>0.0</td>\n",
       "      <td>0.0</td>\n",
       "      <td>0.0</td>\n",
       "      <td>-0.0005</td>\n",
       "      <td>0.017</td>\n",
       "    </tr>\n",
       "    <tr>\n",
       "      <th>8748</th>\n",
       "      <td>55</td>\n",
       "      <td>23</td>\n",
       "      <td>0.19</td>\n",
       "      <td>0.02</td>\n",
       "      <td>-0.3</td>\n",
       "      <td>-8</td>\n",
       "      <td>1</td>\n",
       "      <td>0.004</td>\n",
       "      <td>-0.1</td>\n",
       "      <td>-0.0004</td>\n",
       "      <td>-0.0004</td>\n",
       "      <td>-0.0004</td>\n",
       "      <td>-0.0004</td>\n",
       "      <td>0.0000</td>\n",
       "      <td>0.0</td>\n",
       "      <td>0.0</td>\n",
       "      <td>0.0</td>\n",
       "      <td>-0.0004</td>\n",
       "      <td>0.018</td>\n",
       "    </tr>\n",
       "    <tr>\n",
       "      <th>8749</th>\n",
       "      <td>-107</td>\n",
       "      <td>21</td>\n",
       "      <td>-0.17</td>\n",
       "      <td>0.04</td>\n",
       "      <td>0.0</td>\n",
       "      <td>-8</td>\n",
       "      <td>-3</td>\n",
       "      <td>-0.004</td>\n",
       "      <td>0.0</td>\n",
       "      <td>-0.0005</td>\n",
       "      <td>-0.0006</td>\n",
       "      <td>-0.0006</td>\n",
       "      <td>-0.0006</td>\n",
       "      <td>0.0000</td>\n",
       "      <td>0.0</td>\n",
       "      <td>0.0</td>\n",
       "      <td>0.0</td>\n",
       "      <td>-0.0006</td>\n",
       "      <td>0.017</td>\n",
       "    </tr>\n",
       "    <tr>\n",
       "      <th>8750</th>\n",
       "      <td>105</td>\n",
       "      <td>19</td>\n",
       "      <td>-0.10</td>\n",
       "      <td>-0.03</td>\n",
       "      <td>-0.7</td>\n",
       "      <td>-9</td>\n",
       "      <td>5</td>\n",
       "      <td>0.002</td>\n",
       "      <td>-0.1</td>\n",
       "      <td>-0.0005</td>\n",
       "      <td>-0.0005</td>\n",
       "      <td>-0.0005</td>\n",
       "      <td>-0.0005</td>\n",
       "      <td>0.0000</td>\n",
       "      <td>0.0</td>\n",
       "      <td>0.0</td>\n",
       "      <td>0.0</td>\n",
       "      <td>-0.0005</td>\n",
       "      <td>0.018</td>\n",
       "    </tr>\n",
       "    <tr>\n",
       "      <th>8751</th>\n",
       "      <td>129</td>\n",
       "      <td>22</td>\n",
       "      <td>-0.08</td>\n",
       "      <td>0.03</td>\n",
       "      <td>-0.8</td>\n",
       "      <td>-9</td>\n",
       "      <td>-3</td>\n",
       "      <td>0.002</td>\n",
       "      <td>0.4</td>\n",
       "      <td>-0.0005</td>\n",
       "      <td>-0.0005</td>\n",
       "      <td>-0.0005</td>\n",
       "      <td>-0.0005</td>\n",
       "      <td>0.0000</td>\n",
       "      <td>0.0</td>\n",
       "      <td>0.0</td>\n",
       "      <td>0.0</td>\n",
       "      <td>-0.0005</td>\n",
       "      <td>0.017</td>\n",
       "    </tr>\n",
       "  </tbody>\n",
       "</table>\n",
       "<p>8752 rows × 19 columns</p>\n",
       "</div>"
      ],
      "text/plain": [
       "      climbRate  Sgz     p     q  curRoll  absRoll  diffClb  diffRollRate  \\\n",
       "0           118  -55 -0.28 -0.08     -0.2      -11       11         0.005   \n",
       "1           390  -45 -0.06 -0.07     -0.6      -12       11         0.010   \n",
       "2            68    6  0.11  0.15      0.6      -10       -9        -0.003   \n",
       "3          -358  -12 -0.20  0.13     -0.3      -11       -7         0.001   \n",
       "4          -411  -19 -0.18  0.02     -0.5      -11       -3         0.002   \n",
       "...         ...  ...   ...   ...      ...      ...      ...           ...   \n",
       "8747         45   20 -0.02  0.07     -0.7       -9       -2         0.001   \n",
       "8748         55   23  0.19  0.02     -0.3       -8        1         0.004   \n",
       "8749       -107   21 -0.17  0.04      0.0       -8       -3        -0.004   \n",
       "8750        105   19 -0.10 -0.03     -0.7       -9        5         0.002   \n",
       "8751        129   22 -0.08  0.03     -0.8       -9       -3         0.002   \n",
       "\n",
       "      diffDiffClb  SaTime1  SaTime2  SaTime3  SaTime4  diffSaTime1  \\\n",
       "0            -0.2  -0.0010  -0.0010  -0.0010  -0.0010       0.0000   \n",
       "1            -0.2  -0.0008  -0.0008  -0.0008  -0.0008       0.0000   \n",
       "2            -0.2  -0.0011  -0.0010  -0.0010  -0.0010      -0.0002   \n",
       "3            -0.1  -0.0010  -0.0010  -0.0010  -0.0010       0.0000   \n",
       "4             1.2  -0.0010  -0.0010  -0.0010  -0.0010       0.0000   \n",
       "...           ...      ...      ...      ...      ...          ...   \n",
       "8747         -1.5  -0.0005  -0.0005  -0.0005  -0.0005       0.0000   \n",
       "8748         -0.1  -0.0004  -0.0004  -0.0004  -0.0004       0.0000   \n",
       "8749          0.0  -0.0005  -0.0006  -0.0006  -0.0006       0.0000   \n",
       "8750         -0.1  -0.0005  -0.0005  -0.0005  -0.0005       0.0000   \n",
       "8751          0.4  -0.0005  -0.0005  -0.0005  -0.0005       0.0000   \n",
       "\n",
       "      diffSaTime2  diffSaTime3  diffSaTime4      Sa   Goal  \n",
       "0             0.0          0.0          0.0 -0.0010  0.031  \n",
       "1             0.0          0.0          0.0 -0.0008  0.034  \n",
       "2             0.0          0.0          0.0 -0.0010  0.033  \n",
       "3             0.0          0.0          0.0 -0.0010  0.032  \n",
       "4             0.0          0.0          0.0 -0.0010  0.030  \n",
       "...           ...          ...          ...     ...    ...  \n",
       "8747          0.0          0.0          0.0 -0.0005  0.017  \n",
       "8748          0.0          0.0          0.0 -0.0004  0.018  \n",
       "8749          0.0          0.0          0.0 -0.0006  0.017  \n",
       "8750          0.0          0.0          0.0 -0.0005  0.018  \n",
       "8751          0.0          0.0          0.0 -0.0005  0.017  \n",
       "\n",
       "[8752 rows x 19 columns]"
      ]
     },
     "execution_count": 6,
     "metadata": {},
     "output_type": "execute_result"
    }
   ],
   "source": [
    "####################################### Elevators #########################################################\n",
    "print(\"Elevators\")\n",
    "print(\"---------------------------\")\n",
    "\n",
    "target_elevators = ['Goal']\n",
    "colnames_elevators = ['climbRate', 'Sgz', 'p', 'q', 'curRoll', 'absRoll', 'diffClb', 'diffRollRate', 'diffDiffClb', 'SaTime1', 'SaTime2', \n",
    "                      'SaTime3', 'SaTime4', 'diffSaTime1', 'diffSaTime2', 'diffSaTime3', 'diffSaTime4', 'Sa', 'Goal']\n",
    "Elevators_train_df = pd.read_csv('UCI_regression/Elevators/elevators.data', header = None, names = colnames_elevators)\n",
    "print(\"Elevators Data\")\n",
    "print(Elevators_train_df.shape)\n",
    "\n",
    "Elevators_test_df = pd.read_csv('UCI_regression/Elevators/elevators.test', header = None, names = colnames_elevators)\n",
    "print(Elevators_test_df.shape)\n",
    "\n",
    "Elevators_train_df.dropna()\n",
    "Elevators_train_df\n",
    "# Elevators_train_df_y = Elevators_train_df[target_elevators]\n",
    "# Elevators_train_df_X = Elevators_train_df.drop(target_elevators, axis = 1)\n",
    "\n",
    "# Elevators_train_df.columns"
   ]
  },
  {
   "cell_type": "code",
   "execution_count": 23,
   "metadata": {},
   "outputs": [
    {
     "name": "stderr",
     "output_type": "stream",
     "text": [
      "/Users/shrey/anaconda3/lib/python3.8/site-packages/scipy/stats/_distn_infrastructure.py:2664: RuntimeWarning: invalid value encountered in true_divide\n",
      "  pk = 1.0*pk / np.sum(pk, axis=axis, keepdims=True)\n"
     ]
    },
    {
     "data": {
      "text/plain": [
       "array([      -inf,       -inf,       -inf,       -inf,       -inf,\n",
       "       9.00731186,       -inf,       -inf,       -inf, 8.9453694 ,\n",
       "       8.9433354 , 8.94332638, 8.94199044,       -inf, 0.        ,\n",
       "             -inf,        nan, 8.94198058, 9.03414541])"
      ]
     },
     "execution_count": 23,
     "metadata": {},
     "output_type": "execute_result"
    }
   ],
   "source": [
    "## Get Entropy Elevators\n",
    "entropy_elevators = entropy(Elevators_train_df)\n",
    "entropy_elevators"
   ]
  },
  {
   "cell_type": "code",
   "execution_count": 39,
   "metadata": {},
   "outputs": [
    {
     "data": {
      "text/plain": [
       "0.287034664255778"
      ]
     },
     "execution_count": 39,
     "metadata": {},
     "output_type": "execute_result"
    }
   ],
   "source": [
    "## Get the Spearman Correlation\n",
    "corr_elevators =  Elevators_train_df.corr(method = 'spearman')['Goal'].abs()\n",
    "corr_elevators = corr_elevators.sort_values(ascending = True)\n",
    "corr_elevators = corr_elevators[:-1]\n",
    "corr_elevators\n",
    "\n",
    "sumval_elevators = corr_elevators.sum()/len(corr_elevators)\n",
    "sumval_elevators\n",
    "\n",
    "## 0% simple (>0.8)\n",
    "## 0% simple (>0.6)"
   ]
  },
  {
   "cell_type": "code",
   "execution_count": 44,
   "metadata": {},
   "outputs": [
    {
     "data": {
      "text/plain": [
       "0.08448968016243141"
      ]
     },
     "execution_count": 44,
     "metadata": {},
     "output_type": "execute_result"
    }
   ],
   "source": [
    "## Get the Spearman Correlation Auto for the features\n",
    "Elevators_train_df_X = Elevators_train_df_X.drop(['diffSaTime4'], axis = 1)\n",
    "corr_elevators =  Elevators_train_df_X.corr(method = 'spearman')\n",
    "corr_elevators\n",
    "\n",
    "corr_elevators_lsum = np.tril(corr_elevators).sum() - np.trace(corr_elevators)\n",
    "elevators_elems = len(corr_elevators) * (len(corr_elevators) - 1) / 2\n",
    "corr_elevators_lavg = abs(corr_elevators_lsum / elevators_elems)\n",
    "corr_elevators_lavg"
   ]
  },
  {
   "cell_type": "code",
   "execution_count": 36,
   "metadata": {},
   "outputs": [
    {
     "data": {
      "text/plain": [
       "0.001950331259306508"
      ]
     },
     "execution_count": 36,
     "metadata": {},
     "output_type": "execute_result"
    }
   ],
   "source": [
    "from sklearn import linear_model\n",
    "\n",
    "regr_elevators = linear_model.LinearRegression()\n",
    "regr_elevators.fit(Elevators_train_df_X, Elevators_train_df_y)\n",
    "predict_elevators = regr_elevators.predict(Elevators_train_df_X)\n",
    "\n",
    "Elevators_train_df_y_list = Elevators_train_df_y.to_numpy()\n",
    "mandis_elevators = np.abs(Elevators_train_df_y_list - predict_elevators)\n",
    "L1_elevators = np.sum(mandis_elevators)/len(mandis_elevators)\n",
    "L1_elevators"
   ]
  },
  {
   "cell_type": "code",
   "execution_count": 7,
   "metadata": {},
   "outputs": [
    {
     "data": {
      "text/plain": [
       "diffSaTime2     0.008155\n",
       "diffSaTime3     0.019601\n",
       "diffRollRate    0.032380\n",
       "diffSaTime1     0.045142\n",
       "Sgz             0.054617\n",
       "diffDiffClb     0.065262\n",
       "curRoll         0.074914\n",
       "p               0.075193\n",
       "diffClb         0.096297\n",
       "climbRate       0.118730\n",
       "q               0.307703\n",
       "absRoll         0.382790\n",
       "Sa              0.632127\n",
       "SaTime4         0.632143\n",
       "SaTime3         0.638642\n",
       "SaTime2         0.638655\n",
       "SaTime1         0.651617\n",
       "Goal            1.000000\n",
       "diffSaTime4          NaN\n",
       "Name: Goal, dtype: float64"
      ]
     },
     "execution_count": 7,
     "metadata": {},
     "output_type": "execute_result"
    }
   ],
   "source": [
    "## Collective Feature Efficiency\n",
    "from sklearn.linear_model import LinearRegression\n",
    "import statsmodels.api as sm\n",
    "\n",
    "# Elevators_train_df = Elevators_train_df.drop(['Residuals'], axis = 1)\n",
    "\n",
    "target_column_elevators = ['Goal']\n",
    "\n",
    "Corr_y = Elevators_train_df.corr()['Goal'].abs().sort_values(ascending = True)\n",
    "Corr_y\n",
    "# closepair_df = Elevators_train_df[['diffSaTime3', 'Goal']]\n",
    "\n",
    "# closepair_df_y = closepair_df[target_column_elevators]\n",
    "# closepair_df_X = closepair_df.drop(target_column_elevators, axis = 1)\n",
    "\n",
    "# x_const = sm.add_constant(closepair_df_X)\n",
    "# linear_reg = sm.OLS(closepair_df_y, x_const).fit() \n",
    "# influence_linear = linear_reg.get_influence()\n",
    "# standardized_residuals = influence_linear.resid_studentized_internal\n",
    "\n",
    "# Elevators_train_df = Elevators_train_df.drop(['diffSaTime3'], axis = 1)\n",
    "# Elevators_train_df['Residuals'] = standardized_residuals\n",
    "\n",
    "# Elevators_train_df = Elevators_train_df[abs(Elevators_train_df.Residuals)  > 0.1]\n",
    "# Elevators_train_df"
   ]
  },
  {
   "cell_type": "code",
   "execution_count": 390,
   "metadata": {},
   "outputs": [
    {
     "data": {
      "text/plain": [
       "0.41361974405850094"
      ]
     },
     "execution_count": 390,
     "metadata": {},
     "output_type": "execute_result"
    }
   ],
   "source": [
    "res = (975 + 193 + 0 + 78 + 1 + 777 + 491 + 370 + 284 + 201 + 101 + 40 + 37 + 22 + 45 + 5)/float(8752)\n",
    "res"
   ]
  },
  {
   "cell_type": "code",
   "execution_count": 179,
   "metadata": {},
   "outputs": [
    {
     "data": {
      "text/plain": [
       "0.326481279298307"
      ]
     },
     "execution_count": 179,
     "metadata": {},
     "output_type": "execute_result"
    }
   ],
   "source": [
    "## Distance from Linear Function\n",
    "from sklearn.linear_model import LinearRegression\n",
    "import statsmodels.api as sm\n",
    "\n",
    "target_column_elevators = ['Goal']\n",
    "\n",
    "closepair_df_y = Elevators_train_df[target_column_elevators]\n",
    "closepair_df_X = Elevators_train_df.drop(target_column_elevators, axis = 1)\n",
    "\n",
    "x_const = sm.add_constant(closepair_df_X)\n",
    "linear_reg = sm.OLS(closepair_df_y, x_const).fit() \n",
    "influence_linear = linear_reg.get_influence()\n",
    "std_res = influence_linear.resid_studentized_internal\n",
    "std_res_abs = [abs(x) for x in std_res]\n",
    "\n",
    "ratio = 1\n",
    "for i in std_res_abs:\n",
    "    ratio = ratio - float(i)/len(std_res_abs)  \n",
    "    \n",
    "ratio"
   ]
  },
  {
   "cell_type": "code",
   "execution_count": 230,
   "metadata": {},
   "outputs": [
    {
     "data": {
      "text/plain": [
       "0.5959722476620078"
      ]
     },
     "execution_count": 230,
     "metadata": {},
     "output_type": "execute_result"
    }
   ],
   "source": [
    "## Input Distribution\n",
    "from sklearn.linear_model import LinearRegression\n",
    "import statsmodels.api as sm\n",
    "import math\n",
    "from sklearn.preprocessing import MinMaxScaler\n",
    "\n",
    "Elevators_train_df_sort = Elevators_train_df.sort_values('Goal')\n",
    "print(Elevators_train_df_sort.shape)\n",
    "\n",
    "target_column_elevators = ['Goal']\n",
    "\n",
    "Elevators_train_df_sort_X = Elevators_train_df_sort.drop(target_column_elevators, axis = 1)\n",
    "scaler = MinMaxScaler() \n",
    "scaled_values = scaler.fit_transform(Elevators_train_df_sort_X) \n",
    "Elevators_train_df_sort_X.loc[:,:] = scaled_values\n",
    "\n",
    "euclidean_pair_consec = np.linalg.norm(Elevators_train_df_sort_X.diff(axis=0).drop(0), axis=1)\n",
    "euclidean_pair_consec = [x for x in euclidean_pair_consec if math.isnan(x) == False]\n",
    "\n",
    "input_dist = sum(euclidean_pair_consec)/float(Elevators_train_df_sort_X.shape[0])\n",
    "input_dist"
   ]
  },
  {
   "cell_type": "code",
   "execution_count": 241,
   "metadata": {},
   "outputs": [
    {
     "name": "stdout",
     "output_type": "stream",
     "text": [
      "Abalone Data\n",
      "---------------------------\n",
      "(4177, 9)\n"
     ]
    },
    {
     "data": {
      "text/plain": [
       "Index(['Sex', 'Length', 'Diameter', 'Height', 'Whole_weight', 'Shucked_weight',\n",
       "       'Viscera_weight', 'Shell_weight', 'Rings'],\n",
       "      dtype='object')"
      ]
     },
     "execution_count": 241,
     "metadata": {},
     "output_type": "execute_result"
    }
   ],
   "source": [
    "################################### Abalone ###########################################\n",
    "print(\"Abalone Data\")\n",
    "print(\"---------------------------\")\n",
    "\n",
    "target_var_abalone = ['Rings']\n",
    "colnames_abalone = ['Sex', 'Length', 'Diameter', 'Height', 'Whole_weight', 'Shucked_weight', 'Viscera_weight', 'Shell_weight', 'Rings']\n",
    "AbaloneData_df = pd.read_csv('UCI_regression/Abalone/abalone.data', header = None, names = colnames_abalone)\n",
    "\n",
    "gender = {'M': 1,'F': 2, 'I': 3} \n",
    "AbaloneData_df.Sex = [gender[item] for item in AbaloneData_df.Sex] \n",
    "\n",
    "print(AbaloneData_df.shape)\n",
    "\n",
    "target_column_abalone = ['Rings']\n",
    "\n",
    "AbaloneData_df_y = AbaloneData_df[target_column_abalone]\n",
    "AbaloneData_df_X = AbaloneData_df.drop(target_column_abalone, axis = 1)\n",
    "\n",
    "AbaloneData_df.columns"
   ]
  },
  {
   "cell_type": "code",
   "execution_count": 43,
   "metadata": {},
   "outputs": [
    {
     "data": {
      "text/plain": [
       "array([8.24464687, 8.30881122, 8.30506499, 8.29346748, 8.15203316,\n",
       "       8.13996549, 8.1441803 , 8.15924304, 8.28746906])"
      ]
     },
     "execution_count": 43,
     "metadata": {},
     "output_type": "execute_result"
    }
   ],
   "source": [
    "## Get Entropy Abalone\n",
    "entropy_abalone = entropy(AbaloneData_df)\n",
    "entropy_abalone"
   ]
  },
  {
   "cell_type": "code",
   "execution_count": 83,
   "metadata": {},
   "outputs": [
    {
     "data": {
      "text/plain": [
       "0.641097950716637"
      ]
     },
     "execution_count": 83,
     "metadata": {},
     "output_type": "execute_result"
    }
   ],
   "source": [
    "## Get the Spearman Correlation Abalone\n",
    "corr_abalone =  AbaloneData_df.corr(method = 'spearman')['Rings'].abs()\n",
    "corr_abalone = corr_abalone.sort_values(ascending = True)\n",
    "corr_abalone\n",
    "\n",
    "sumval_abalone = corr_abalone.sum()/len(corr_abalone)\n",
    "sumval_abalone\n",
    "\n",
    "\n",
    "## 0% simple (>0.8)\n",
    "## 75% simple (>0.6)"
   ]
  },
  {
   "cell_type": "code",
   "execution_count": 28,
   "metadata": {},
   "outputs": [
    {
     "data": {
      "text/plain": [
       "0.107982683781241"
      ]
     },
     "execution_count": 28,
     "metadata": {},
     "output_type": "execute_result"
    }
   ],
   "source": [
    "## Get the Spearman Correlation Abalone for the features\n",
    "corr_abalone =  AbaloneData_df_X.corr(method = 'spearman')\n",
    "corr_abalone\n",
    "\n",
    "corr_abalone_lsum = np.tril(corr_abalone).sum() - np.trace(corr_abalone)\n",
    "abalone_elems = len(corr_abalone) * (len(corr_abalone) - 1) / 2\n",
    "corr_abalone_lavg = abs(corr_abalone_lsum / elevators_elems)\n",
    "corr_abalone_lavg"
   ]
  },
  {
   "cell_type": "code",
   "execution_count": 45,
   "metadata": {},
   "outputs": [
    {
     "data": {
      "text/plain": [
       "1.5843987714248777"
      ]
     },
     "execution_count": 45,
     "metadata": {},
     "output_type": "execute_result"
    }
   ],
   "source": [
    "from sklearn import linear_model\n",
    "\n",
    "regr_abalone = linear_model.LinearRegression()\n",
    "regr_abalone.fit(AbaloneData_df_X, AbaloneData_df_y)\n",
    "predict_abalone = regr_abalone.predict(AbaloneData_df_X)\n",
    "\n",
    "AbaloneData_df_y_list = AbaloneData_df_y.to_numpy()\n",
    "mandis_abalone = np.abs(AbaloneData_df_y_list - predict_abalone)\n",
    "L1_abalone = np.sum(mandis_abalone)/len(mandis_abalone)\n",
    "L1_abalone"
   ]
  },
  {
   "cell_type": "code",
   "execution_count": 134,
   "metadata": {},
   "outputs": [
    {
     "data": {
      "text/html": [
       "<div>\n",
       "<style scoped>\n",
       "    .dataframe tbody tr th:only-of-type {\n",
       "        vertical-align: middle;\n",
       "    }\n",
       "\n",
       "    .dataframe tbody tr th {\n",
       "        vertical-align: top;\n",
       "    }\n",
       "\n",
       "    .dataframe thead th {\n",
       "        text-align: right;\n",
       "    }\n",
       "</style>\n",
       "<table border=\"1\" class=\"dataframe\">\n",
       "  <thead>\n",
       "    <tr style=\"text-align: right;\">\n",
       "      <th></th>\n",
       "      <th>Rings</th>\n",
       "      <th>Residuals</th>\n",
       "    </tr>\n",
       "  </thead>\n",
       "  <tbody>\n",
       "    <tr>\n",
       "      <th>0</th>\n",
       "      <td>15</td>\n",
       "      <td>1.044303</td>\n",
       "    </tr>\n",
       "    <tr>\n",
       "      <th>1</th>\n",
       "      <td>7</td>\n",
       "      <td>-1.323057</td>\n",
       "    </tr>\n",
       "    <tr>\n",
       "      <th>2</th>\n",
       "      <td>9</td>\n",
       "      <td>-0.274760</td>\n",
       "    </tr>\n",
       "    <tr>\n",
       "      <th>3</th>\n",
       "      <td>10</td>\n",
       "      <td>-0.435297</td>\n",
       "    </tr>\n",
       "    <tr>\n",
       "      <th>6</th>\n",
       "      <td>20</td>\n",
       "      <td>2.979654</td>\n",
       "    </tr>\n",
       "    <tr>\n",
       "      <th>...</th>\n",
       "      <td>...</td>\n",
       "      <td>...</td>\n",
       "    </tr>\n",
       "    <tr>\n",
       "      <th>4166</th>\n",
       "      <td>10</td>\n",
       "      <td>0.477523</td>\n",
       "    </tr>\n",
       "    <tr>\n",
       "      <th>4168</th>\n",
       "      <td>8</td>\n",
       "      <td>-0.570616</td>\n",
       "    </tr>\n",
       "    <tr>\n",
       "      <th>4171</th>\n",
       "      <td>8</td>\n",
       "      <td>-1.027137</td>\n",
       "    </tr>\n",
       "    <tr>\n",
       "      <th>4174</th>\n",
       "      <td>9</td>\n",
       "      <td>-0.731217</td>\n",
       "    </tr>\n",
       "    <tr>\n",
       "      <th>4176</th>\n",
       "      <td>12</td>\n",
       "      <td>0.156543</td>\n",
       "    </tr>\n",
       "  </tbody>\n",
       "</table>\n",
       "<p>2872 rows × 2 columns</p>\n",
       "</div>"
      ],
      "text/plain": [
       "      Rings  Residuals\n",
       "0        15   1.044303\n",
       "1         7  -1.323057\n",
       "2         9  -0.274760\n",
       "3        10  -0.435297\n",
       "6        20   2.979654\n",
       "...     ...        ...\n",
       "4166     10   0.477523\n",
       "4168      8  -0.570616\n",
       "4171      8  -1.027137\n",
       "4174      9  -0.731217\n",
       "4176     12   0.156543\n",
       "\n",
       "[2872 rows x 2 columns]"
      ]
     },
     "execution_count": 134,
     "metadata": {},
     "output_type": "execute_result"
    }
   ],
   "source": [
    "## Collective Feature Efficiency\n",
    "from sklearn.linear_model import LinearRegression\n",
    "import statsmodels.api as sm\n",
    "\n",
    "# AbaloneData_df = AbaloneData_df.drop(['Residuals'], axis = 1)\n",
    "\n",
    "target_column_abalone = ['Rings']\n",
    "\n",
    "Corr_y = AbaloneData_df.corr()['Rings'].abs().sort_values(ascending = True)\n",
    "Corr_y\n",
    "closepair_df = AbaloneData_df[['Sex', 'Rings']]\n",
    "\n",
    "closepair_df_y = closepair_df[target_column_abalone]\n",
    "closepair_df_X = closepair_df.drop(target_column_abalone, axis = 1)\n",
    "\n",
    "x_const = sm.add_constant(closepair_df_X)\n",
    "linear_reg = sm.OLS(closepair_df_y, x_const).fit() \n",
    "influence_linear = linear_reg.get_influence()\n",
    "standardized_residuals = influence_linear.resid_studentized_internal\n",
    "\n",
    "AbaloneData_df = AbaloneData_df.drop(['Sex'], axis = 1)\n",
    "AbaloneData_df['Residuals'] = standardized_residuals\n",
    "\n",
    "AbaloneData_df = AbaloneData_df[abs(AbaloneData_df.Residuals)  > 0.1]\n",
    "AbaloneData_df"
   ]
  },
  {
   "cell_type": "code",
   "execution_count": 181,
   "metadata": {},
   "outputs": [
    {
     "data": {
      "text/plain": [
       "0.27840395217504593"
      ]
     },
     "execution_count": 181,
     "metadata": {},
     "output_type": "execute_result"
    }
   ],
   "source": [
    "## Distance from Linear Function\n",
    "from sklearn.linear_model import LinearRegression\n",
    "import statsmodels.api as sm\n",
    "\n",
    "target_column_abalone = ['Rings']\n",
    "\n",
    "closepair_df_y = AbaloneData_df[target_column_abalone]\n",
    "closepair_df_X = AbaloneData_df.drop(target_column_abalone, axis = 1)\n",
    "\n",
    "x_const = sm.add_constant(closepair_df_X)\n",
    "linear_reg = sm.OLS(closepair_df_y, x_const).fit() \n",
    "influence_linear = linear_reg.get_influence()\n",
    "std_res = influence_linear.resid_studentized_internal\n",
    "std_res_abs = [abs(x) for x in std_res]\n",
    "\n",
    "ratio = 1\n",
    "for i in std_res_abs:\n",
    "    ratio = ratio - float(i)/len(std_res_abs)  \n",
    "    \n",
    "ratio"
   ]
  },
  {
   "cell_type": "code",
   "execution_count": 242,
   "metadata": {},
   "outputs": [
    {
     "name": "stdout",
     "output_type": "stream",
     "text": [
      "(4177, 9)\n"
     ]
    },
    {
     "data": {
      "text/plain": [
       "0.5193337315047654"
      ]
     },
     "execution_count": 242,
     "metadata": {},
     "output_type": "execute_result"
    }
   ],
   "source": [
    "## Input Distribution\n",
    "from sklearn.linear_model import LinearRegression\n",
    "import statsmodels.api as sm\n",
    "import math\n",
    "from sklearn.preprocessing import MinMaxScaler\n",
    "\n",
    "AbaloneData_df_sort = AbaloneData_df.sort_values('Rings')\n",
    "print(AbaloneData_df_sort.shape)\n",
    "\n",
    "target_column_abalone = ['Rings']\n",
    "\n",
    "AbaloneData_df_sort_X = AbaloneData_df_sort.drop(target_column_abalone, axis = 1)\n",
    "scaler = MinMaxScaler() \n",
    "scaled_values = scaler.fit_transform(AbaloneData_df_sort_X) \n",
    "AbaloneData_df_sort_X.loc[:,:] = scaled_values\n",
    "\n",
    "euclidean_pair_consec = np.linalg.norm(AbaloneData_df_sort_X.diff(axis=0).drop(0), axis=1)\n",
    "euclidean_pair_consec = [x for x in euclidean_pair_consec if math.isnan(x) == False]\n",
    "\n",
    "input_dist = sum(euclidean_pair_consec)/float(AbaloneData_df_sort_X.shape[0])\n",
    "input_dist"
   ]
  },
  {
   "cell_type": "code",
   "execution_count": 243,
   "metadata": {},
   "outputs": [
    {
     "name": "stdout",
     "output_type": "stream",
     "text": [
      "Kinematics Data\n",
      "---------------------------\n",
      "Kinematics Data\n",
      "(8192, 9)\n"
     ]
    },
    {
     "data": {
      "text/plain": [
       "Index(['theta1', 'theta2', 'theta3', 'theta4', 'theta5', 'theta6', 'theta7',\n",
       "       'theta8', 'y'],\n",
       "      dtype='object')"
      ]
     },
     "execution_count": 243,
     "metadata": {},
     "output_type": "execute_result"
    }
   ],
   "source": [
    "################################################## Kinematics ######################################################################\n",
    "print(\"Kinematics Data\")\n",
    "print(\"---------------------------\")\n",
    "\n",
    "target_var_Kinematics = ['y']\n",
    "colnames_Kinematics = ['theta1', 'theta2', 'theta3', 'theta4', 'theta5', 'theta6', 'theta7', 'theta8', 'y']\n",
    "KinematicsData_df = pd.read_csv('UCI_regression/Kinematics/kin8nm.data', header = None,  names = colnames_Kinematics)\n",
    "print(\"Kinematics Data\")\n",
    "print(KinematicsData_df.shape)\n",
    "\n",
    "\n",
    "target_column_kinematics = ['y']\n",
    "\n",
    "KinematicsData_df_y = KinematicsData_df[target_column_kinematics]\n",
    "KinematicsData_df_X = KinematicsData_df.drop(target_column_kinematics, axis = 1)\n",
    "\n",
    "KinematicsData_df.columns"
   ]
  },
  {
   "cell_type": "code",
   "execution_count": 141,
   "metadata": {},
   "outputs": [
    {
     "data": {
      "text/plain": [
       "array([      -inf,       -inf,       -inf,       -inf,       -inf,\n",
       "             -inf,       -inf,       -inf, 8.93905988])"
      ]
     },
     "execution_count": 141,
     "metadata": {},
     "output_type": "execute_result"
    }
   ],
   "source": [
    "## Get Entropy Kinematics\n",
    "entropy_kinematics = entropy(KinematicsData_df)\n",
    "entropy_kinematics"
   ]
  },
  {
   "cell_type": "code",
   "execution_count": 80,
   "metadata": {},
   "outputs": [
    {
     "data": {
      "text/plain": [
       "0.2675720416916285"
      ]
     },
     "execution_count": 80,
     "metadata": {},
     "output_type": "execute_result"
    }
   ],
   "source": [
    "## Get the Spearman Correlation Kinematics\n",
    "corr_kinematics =  KinematicsData_df.corr(method = 'spearman')['y'].abs()\n",
    "corr_kinematics = corr_kinematics.sort_values(ascending = True)\n",
    "corr_kinematics\n",
    "\n",
    "sumval_kinematics = corr_kinematics.sum()/len(corr_kinematics)\n",
    "sumval_kinematics\n",
    "\n",
    "\n",
    "## 0% simple (>0.8)\n",
    "## 0% simple (>0.6)"
   ]
  },
  {
   "cell_type": "code",
   "execution_count": 31,
   "metadata": {},
   "outputs": [
    {
     "data": {
      "text/plain": [
       "0.0007845271852085897"
      ]
     },
     "execution_count": 31,
     "metadata": {},
     "output_type": "execute_result"
    }
   ],
   "source": [
    "## Get the Spearman Correlation Kinematics for the features\n",
    "corr_kinematics =  KinematicsData_df_X.corr(method = 'spearman')\n",
    "corr_kinematics\n",
    "\n",
    "corr_kinematics_lsum = np.tril(corr_kinematics).sum() - np.trace(corr_kinematics)\n",
    "kinematics_elems = len(corr_kinematics) * (len(corr_kinematics) - 1) / 2\n",
    "corr_kinematics_lavg = abs(corr_kinematics_lsum / kinematics_elems)\n",
    "corr_kinematics_lavg"
   ]
  },
  {
   "cell_type": "code",
   "execution_count": 50,
   "metadata": {},
   "outputs": [
    {
     "data": {
      "text/plain": [
       "0.8078654380177874"
      ]
     },
     "execution_count": 50,
     "metadata": {},
     "output_type": "execute_result"
    }
   ],
   "source": [
    "from sklearn import linear_model\n",
    "\n",
    "regr_kinematics = linear_model.LinearRegression()\n",
    "regr_kinematics.fit(KinematicsData_df_X, KinematicsData_df_y)\n",
    "predict_kinematics = regr_kinematics.predict(KinematicsData_df_X)\n",
    "\n",
    "KinematicsData_df_y_list = KinematicsData_df_y.to_numpy()\n",
    "mandis_kinematics = np.abs(KinematicsData_df_y_list - predict_kinematics)\n",
    "L1_kinematics = np.sum(mandis_abalone)/len(mandis_kinematics)\n",
    "L1_kinematics"
   ]
  },
  {
   "cell_type": "code",
   "execution_count": 168,
   "metadata": {},
   "outputs": [
    {
     "data": {
      "text/html": [
       "<div>\n",
       "<style scoped>\n",
       "    .dataframe tbody tr th:only-of-type {\n",
       "        vertical-align: middle;\n",
       "    }\n",
       "\n",
       "    .dataframe tbody tr th {\n",
       "        vertical-align: top;\n",
       "    }\n",
       "\n",
       "    .dataframe thead th {\n",
       "        text-align: right;\n",
       "    }\n",
       "</style>\n",
       "<table border=\"1\" class=\"dataframe\">\n",
       "  <thead>\n",
       "    <tr style=\"text-align: right;\">\n",
       "      <th></th>\n",
       "      <th>y</th>\n",
       "      <th>Residuals</th>\n",
       "    </tr>\n",
       "  </thead>\n",
       "  <tbody>\n",
       "    <tr>\n",
       "      <th>0</th>\n",
       "      <td>0.536524</td>\n",
       "      <td>-0.541909</td>\n",
       "    </tr>\n",
       "    <tr>\n",
       "      <th>1</th>\n",
       "      <td>0.308014</td>\n",
       "      <td>-1.357742</td>\n",
       "    </tr>\n",
       "    <tr>\n",
       "      <th>2</th>\n",
       "      <td>0.518900</td>\n",
       "      <td>-0.779425</td>\n",
       "    </tr>\n",
       "    <tr>\n",
       "      <th>3</th>\n",
       "      <td>0.494151</td>\n",
       "      <td>-0.621121</td>\n",
       "    </tr>\n",
       "    <tr>\n",
       "      <th>4</th>\n",
       "      <td>0.470218</td>\n",
       "      <td>-0.783857</td>\n",
       "    </tr>\n",
       "    <tr>\n",
       "      <th>...</th>\n",
       "      <td>...</td>\n",
       "      <td>...</td>\n",
       "    </tr>\n",
       "    <tr>\n",
       "      <th>8185</th>\n",
       "      <td>0.574224</td>\n",
       "      <td>-0.428805</td>\n",
       "    </tr>\n",
       "    <tr>\n",
       "      <th>8186</th>\n",
       "      <td>1.020879</td>\n",
       "      <td>0.900994</td>\n",
       "    </tr>\n",
       "    <tr>\n",
       "      <th>8187</th>\n",
       "      <td>0.486093</td>\n",
       "      <td>-0.767208</td>\n",
       "    </tr>\n",
       "    <tr>\n",
       "      <th>8190</th>\n",
       "      <td>0.887959</td>\n",
       "      <td>0.559823</td>\n",
       "    </tr>\n",
       "    <tr>\n",
       "      <th>8191</th>\n",
       "      <td>0.496853</td>\n",
       "      <td>-0.756964</td>\n",
       "    </tr>\n",
       "  </tbody>\n",
       "</table>\n",
       "<p>5743 rows × 2 columns</p>\n",
       "</div>"
      ],
      "text/plain": [
       "             y  Residuals\n",
       "0     0.536524  -0.541909\n",
       "1     0.308014  -1.357742\n",
       "2     0.518900  -0.779425\n",
       "3     0.494151  -0.621121\n",
       "4     0.470218  -0.783857\n",
       "...        ...        ...\n",
       "8185  0.574224  -0.428805\n",
       "8186  1.020879   0.900994\n",
       "8187  0.486093  -0.767208\n",
       "8190  0.887959   0.559823\n",
       "8191  0.496853  -0.756964\n",
       "\n",
       "[5743 rows x 2 columns]"
      ]
     },
     "execution_count": 168,
     "metadata": {},
     "output_type": "execute_result"
    }
   ],
   "source": [
    "## Collective Feature Efficiency\n",
    "from sklearn.linear_model import LinearRegression\n",
    "import statsmodels.api as sm\n",
    "\n",
    "# KinematicsData_df = KinematicsData_df.drop(['Residuals'], axis = 1)\n",
    "\n",
    "target_column_kinematics = ['y']\n",
    "\n",
    "Corr_y = KinematicsData_df.corr()['y'].abs().sort_values(ascending = True)\n",
    "Corr_y\n",
    "closepair_df = KinematicsData_df[['theta2', 'y']]\n",
    "\n",
    "closepair_df_y = closepair_df[target_column_kinematics]\n",
    "closepair_df_X = closepair_df.drop(target_column_kinematics, axis = 1)\n",
    "\n",
    "x_const = sm.add_constant(closepair_df_X)\n",
    "linear_reg = sm.OLS(closepair_df_y, x_const).fit() \n",
    "influence_linear = linear_reg.get_influence()\n",
    "standardized_residuals = influence_linear.resid_studentized_internal\n",
    "\n",
    "KinematicsData_df = KinematicsData_df.drop(['theta2'], axis = 1)\n",
    "KinematicsData_df['Residuals'] = standardized_residuals\n",
    "\n",
    "KinematicsData_df = KinematicsData_df[abs(KinematicsData_df.Residuals)  > 0.1]\n",
    "KinematicsData_df"
   ]
  },
  {
   "cell_type": "code",
   "execution_count": 184,
   "metadata": {},
   "outputs": [
    {
     "data": {
      "text/plain": [
       "0.1968200628698036"
      ]
     },
     "execution_count": 184,
     "metadata": {},
     "output_type": "execute_result"
    }
   ],
   "source": [
    "## Distance from Linear Function\n",
    "from sklearn.linear_model import LinearRegression\n",
    "import statsmodels.api as sm\n",
    "\n",
    "target_column_kinematics = ['y']\n",
    "\n",
    "closepair_df_y = KinematicsData_df[target_column_kinematics]\n",
    "closepair_df_X = KinematicsData_df.drop(target_column_kinematics, axis = 1)\n",
    "\n",
    "\n",
    "\n",
    "x_const = sm.add_constant(closepair_df_X)\n",
    "linear_reg = sm.OLS(closepair_df_y, x_const).fit() \n",
    "influence_linear = linear_reg.get_influence()\n",
    "std_res = influence_linear.resid_studentized_internal\n",
    "std_res_abs = [abs(x) for x in std_res]\n",
    "\n",
    "ratio = 1\n",
    "for i in std_res_abs:\n",
    "    ratio = ratio - float(i)/len(std_res_abs)  \n",
    "    \n",
    "ratio"
   ]
  },
  {
   "cell_type": "code",
   "execution_count": 244,
   "metadata": {},
   "outputs": [
    {
     "name": "stdout",
     "output_type": "stream",
     "text": [
      "(8192, 9)\n"
     ]
    },
    {
     "data": {
      "text/plain": [
       "1.0855204698363523"
      ]
     },
     "execution_count": 244,
     "metadata": {},
     "output_type": "execute_result"
    }
   ],
   "source": [
    "## Input Distribution\n",
    "from sklearn.linear_model import LinearRegression\n",
    "import statsmodels.api as sm\n",
    "import math\n",
    "from sklearn.preprocessing import MinMaxScaler\n",
    "\n",
    "KinematicsData_df_sort = KinematicsData_df.sort_values('y')\n",
    "print(KinematicsData_df_sort.shape)\n",
    "\n",
    "target_column_kinematics = ['y']\n",
    "\n",
    "KinematicsData_df_sort_X = KinematicsData_df_sort.drop(target_column_kinematics, axis = 1)\n",
    "scaler = MinMaxScaler() \n",
    "scaled_values = scaler.fit_transform(KinematicsData_df_sort_X) \n",
    "KinematicsData_df_sort_X.loc[:,:] = scaled_values\n",
    "\n",
    "euclidean_pair_consec = np.linalg.norm(KinematicsData_df_sort_X.diff(axis=0).drop(0), axis=1)\n",
    "euclidean_pair_consec = [x for x in euclidean_pair_consec if math.isnan(x) == False]\n",
    "\n",
    "input_dist = sum(euclidean_pair_consec)/float(KinematicsData_df_sort_X.shape[0])\n",
    "input_dist"
   ]
  },
  {
   "cell_type": "code",
   "execution_count": 245,
   "metadata": {},
   "outputs": [
    {
     "name": "stdout",
     "output_type": "stream",
     "text": [
      "Computer Activity Data\n",
      "---------------------------\n",
      "Computer Activity Data\n",
      "(8192, 22)\n"
     ]
    },
    {
     "data": {
      "text/plain": [
       "Index(['lread', 'lwrite', 'scall', 'sread', 'swrite', 'fork', 'exec', 'rchar',\n",
       "       'wchar', 'pgout', 'ppgout', 'pgfree', 'pgscan', 'atch', 'pgin', 'ppgin',\n",
       "       'pflt', 'vflt', 'runqsz', 'freemem', 'freeswap', 'usr'],\n",
       "      dtype='object')"
      ]
     },
     "execution_count": 245,
     "metadata": {},
     "output_type": "execute_result"
    }
   ],
   "source": [
    "################################### Computer Activity ###########################################\n",
    "print(\"Computer Activity Data\")\n",
    "print(\"---------------------------\")\n",
    "\n",
    "colnames_CompAct = ['lread', 'lwrite', 'scall', 'sread', 'swrite', 'fork', 'exec', 'rchar', 'wchar', 'pgout', 'ppgout', \n",
    "                    'pgfree', 'pgscan', 'atch', 'pgin', 'ppgin', 'pflt', 'vflt', 'runqsz', 'freemem', 'freeswap', 'usr' ]\n",
    "CompActData_df = pd.read_csv('UCI_regression/ComputerActivity/cpu_act.data', header = None, names = colnames_CompAct)\n",
    "print(\"Computer Activity Data\")\n",
    "print(CompActData_df.shape)\n",
    "\n",
    "target_column_compact = ['usr']\n",
    "\n",
    "CompActData_df_y = CompActData_df[target_column_compact]\n",
    "CompActData_df_X = CompActData_df.drop(target_column_compact, axis = 1)\n",
    "\n",
    "CompActData_df.columns"
   ]
  },
  {
   "cell_type": "code",
   "execution_count": 52,
   "metadata": {},
   "outputs": [
    {
     "data": {
      "text/plain": [
       "array([7.91639895, 7.6747772 , 8.75804375, 8.6847287 , 8.66940032,\n",
       "       8.37481187, 8.11147714, 8.4466664 , 8.36579607, 7.57650099,\n",
       "       7.41326948, 7.28712951, 6.90685981, 7.00746933, 8.10300314,\n",
       "       8.03916635, 8.55754906, 8.56220271, 6.09652214, 8.25778507,\n",
       "       8.94376416, 8.96897518])"
      ]
     },
     "execution_count": 52,
     "metadata": {},
     "output_type": "execute_result"
    }
   ],
   "source": [
    "## Get Entropy Computer Activity\n",
    "entropy_compact = entropy(CompActData_df)\n",
    "entropy_compact"
   ]
  },
  {
   "cell_type": "code",
   "execution_count": 79,
   "metadata": {},
   "outputs": [
    {
     "data": {
      "text/plain": [
       "0.5646829639745752"
      ]
     },
     "execution_count": 79,
     "metadata": {},
     "output_type": "execute_result"
    }
   ],
   "source": [
    "## Get the Spearman Correlation Computer Activity\n",
    "corr_compact =  CompActData_df.corr(method = 'spearman')['usr'].abs()\n",
    "corr_compact = corr_compact.sort_values(ascending = True)\n",
    "\n",
    "sumval_compact = corr_compact.sum()/len(corr_compact)\n",
    "sumval_compact\n",
    "\n",
    "## 4.7% simple (>0.8)\n",
    "## 38% simple (>0.6)"
   ]
  },
  {
   "cell_type": "code",
   "execution_count": 33,
   "metadata": {},
   "outputs": [
    {
     "data": {
      "text/plain": [
       "0.2617228838728001"
      ]
     },
     "execution_count": 33,
     "metadata": {},
     "output_type": "execute_result"
    }
   ],
   "source": [
    "## Get the Spearman Correlation Computer Activity for the features\n",
    "corr_compact =  CompActData_df_X.corr(method = 'spearman')\n",
    "corr_compact\n",
    "\n",
    "corr_compact_lsum = np.tril(corr_compact).sum() - np.trace(corr_compact)\n",
    "compact_elems = len(corr_compact) * (len(corr_compact) - 1) / 2\n",
    "corr_compact_lavg = abs(corr_compact_lsum / compact_elems)\n",
    "corr_compact_lavg"
   ]
  },
  {
   "cell_type": "code",
   "execution_count": 308,
   "metadata": {},
   "outputs": [
    {
     "data": {
      "text/html": [
       "<div>\n",
       "<style scoped>\n",
       "    .dataframe tbody tr th:only-of-type {\n",
       "        vertical-align: middle;\n",
       "    }\n",
       "\n",
       "    .dataframe tbody tr th {\n",
       "        vertical-align: top;\n",
       "    }\n",
       "\n",
       "    .dataframe thead th {\n",
       "        text-align: right;\n",
       "    }\n",
       "</style>\n",
       "<table border=\"1\" class=\"dataframe\">\n",
       "  <thead>\n",
       "    <tr style=\"text-align: right;\">\n",
       "      <th></th>\n",
       "      <th>usr</th>\n",
       "      <th>Residuals</th>\n",
       "    </tr>\n",
       "  </thead>\n",
       "  <tbody>\n",
       "    <tr>\n",
       "      <th>5</th>\n",
       "      <td>92</td>\n",
       "      <td>0.307268</td>\n",
       "    </tr>\n",
       "    <tr>\n",
       "      <th>11</th>\n",
       "      <td>93</td>\n",
       "      <td>0.355359</td>\n",
       "    </tr>\n",
       "    <tr>\n",
       "      <th>13</th>\n",
       "      <td>92</td>\n",
       "      <td>0.309355</td>\n",
       "    </tr>\n",
       "    <tr>\n",
       "      <th>14</th>\n",
       "      <td>0</td>\n",
       "      <td>-2.619889</td>\n",
       "    </tr>\n",
       "    <tr>\n",
       "      <th>15</th>\n",
       "      <td>94</td>\n",
       "      <td>0.539232</td>\n",
       "    </tr>\n",
       "    <tr>\n",
       "      <th>...</th>\n",
       "      <td>...</td>\n",
       "      <td>...</td>\n",
       "    </tr>\n",
       "    <tr>\n",
       "      <th>8179</th>\n",
       "      <td>98</td>\n",
       "      <td>0.512341</td>\n",
       "    </tr>\n",
       "    <tr>\n",
       "      <th>8180</th>\n",
       "      <td>92</td>\n",
       "      <td>0.298922</td>\n",
       "    </tr>\n",
       "    <tr>\n",
       "      <th>8184</th>\n",
       "      <td>96</td>\n",
       "      <td>0.443287</td>\n",
       "    </tr>\n",
       "    <tr>\n",
       "      <th>8185</th>\n",
       "      <td>93</td>\n",
       "      <td>0.353272</td>\n",
       "    </tr>\n",
       "    <tr>\n",
       "      <th>8189</th>\n",
       "      <td>92</td>\n",
       "      <td>0.303095</td>\n",
       "    </tr>\n",
       "  </tbody>\n",
       "</table>\n",
       "<p>2921 rows × 2 columns</p>\n",
       "</div>"
      ],
      "text/plain": [
       "      usr  Residuals\n",
       "5      92   0.307268\n",
       "11     93   0.355359\n",
       "13     92   0.309355\n",
       "14      0  -2.619889\n",
       "15     94   0.539232\n",
       "...   ...        ...\n",
       "8179   98   0.512341\n",
       "8180   92   0.298922\n",
       "8184   96   0.443287\n",
       "8185   93   0.353272\n",
       "8189   92   0.303095\n",
       "\n",
       "[2921 rows x 2 columns]"
      ]
     },
     "execution_count": 308,
     "metadata": {},
     "output_type": "execute_result"
    }
   ],
   "source": [
    "## Collective Feature Efficiency\n",
    "from sklearn.linear_model import LinearRegression\n",
    "import statsmodels.api as sm\n",
    "\n",
    "# CompActData_df = CompActData_df.drop(['Residuals'], axis = 1)\n",
    "\n",
    "target_column_compact = ['usr']\n",
    "\n",
    "Corr_y = CompActData_df.corr()['usr'].abs().sort_values(ascending = True)\n",
    "Corr_y\n",
    "closepair_df = CompActData_df[['lread', 'usr']]\n",
    "\n",
    "closepair_df_y = closepair_df[target_column_compact]\n",
    "closepair_df_X = closepair_df.drop(target_column_compact, axis = 1)\n",
    "\n",
    "x_const = sm.add_constant(closepair_df_X)\n",
    "linear_reg = sm.OLS(closepair_df_y, x_const).fit() \n",
    "influence_linear = linear_reg.get_influence()\n",
    "standardized_residuals = influence_linear.resid_studentized_internal\n",
    "\n",
    "CompActData_df = CompActData_df.drop(['lread'], axis = 1)\n",
    "CompActData_df['Residuals'] = standardized_residuals\n",
    "\n",
    "CompActData_df = CompActData_df[abs(CompActData_df.Residuals)  > 0.1]\n",
    "CompActData_df"
   ]
  },
  {
   "cell_type": "code",
   "execution_count": 186,
   "metadata": {},
   "outputs": [
    {
     "data": {
      "text/plain": [
       "0.36813257071016225"
      ]
     },
     "execution_count": 186,
     "metadata": {},
     "output_type": "execute_result"
    }
   ],
   "source": [
    "## Distance from Linear Function\n",
    "from sklearn.linear_model import LinearRegression\n",
    "import statsmodels.api as sm\n",
    "\n",
    "target_column_compact = ['usr']\n",
    "\n",
    "closepair_df_y = CompActData_df[target_column_compact]\n",
    "closepair_df_X = CompActData_df.drop(target_column_compact, axis = 1)\n",
    "\n",
    "x_const = sm.add_constant(closepair_df_X)\n",
    "linear_reg = sm.OLS(closepair_df_y, x_const).fit() \n",
    "influence_linear = linear_reg.get_influence()\n",
    "std_res = influence_linear.resid_studentized_internal\n",
    "std_res_abs = [abs(x) for x in std_res]\n",
    "\n",
    "ratio = 1\n",
    "for i in std_res_abs:\n",
    "    ratio = ratio - float(i)/len(std_res_abs)  \n",
    "    \n",
    "ratio"
   ]
  },
  {
   "cell_type": "code",
   "execution_count": 238,
   "metadata": {},
   "outputs": [
    {
     "name": "stdout",
     "output_type": "stream",
     "text": [
      "(8192, 22)\n"
     ]
    },
    {
     "data": {
      "text/plain": [
       "0.5863011680308041"
      ]
     },
     "execution_count": 238,
     "metadata": {},
     "output_type": "execute_result"
    }
   ],
   "source": [
    "## Input Distribution\n",
    "from sklearn.linear_model import LinearRegression\n",
    "import statsmodels.api as sm\n",
    "import math\n",
    "from sklearn.preprocessing import MinMaxScaler\n",
    "\n",
    "CompActData_df_sort = CompActData_df.sort_values('usr')\n",
    "print(CompActData_df_sort.shape)\n",
    "\n",
    "target_column_compact = ['usr']\n",
    "\n",
    "CompActData_df_sort = CompActData_df.drop(target_column_compact, axis = 1)\n",
    "scaler = MinMaxScaler() \n",
    "scaled_values = scaler.fit_transform(CompActData_df_sort) \n",
    "CompActData_df_sort.loc[:,:] = scaled_values\n",
    "\n",
    "euclidean_pair_consec = np.linalg.norm(CompActData_df_sort.diff(axis=0).drop(0), axis=1)\n",
    "euclidean_pair_consec = [x for x in euclidean_pair_consec if math.isnan(x) == False]\n",
    "\n",
    "input_dist = sum(euclidean_pair_consec)/float(CompActData_df_sort.shape[0])\n",
    "input_dist"
   ]
  },
  {
   "cell_type": "code",
   "execution_count": 309,
   "metadata": {},
   "outputs": [
    {
     "data": {
      "text/plain": [
       "0.642822265625"
      ]
     },
     "execution_count": 309,
     "metadata": {},
     "output_type": "execute_result"
    }
   ],
   "source": [
    "ans = (940 + 755 + 1044 + 553 + 373 + 289 + 198 + 303 + 532 + 75 + 48 + 51 + 20 + 14 + 32 + 3 + 5 + 14 + 6 + 9 +2)/float(8192)\n",
    "ans"
   ]
  },
  {
   "cell_type": "code",
   "execution_count": 55,
   "metadata": {},
   "outputs": [
    {
     "data": {
      "text/plain": [
       "6.047919131695916"
      ]
     },
     "execution_count": 55,
     "metadata": {},
     "output_type": "execute_result"
    }
   ],
   "source": [
    "from sklearn import linear_model\n",
    "\n",
    "regr_compact = linear_model.LinearRegression()\n",
    "regr_compact.fit(CompActData_df_X, CompActData_df_y)\n",
    "predict_compact = regr_compact.predict(CompActData_df_X)\n",
    "\n",
    "CompActData_df_y_list = CompActData_df_y.to_numpy()\n",
    "mandis_compact = np.abs(CompActData_df_y_list - predict_compact)\n",
    "L1_compact = np.sum(mandis_compact)/len(mandis_compact)\n",
    "L1_compact"
   ]
  },
  {
   "cell_type": "code",
   "execution_count": 95,
   "metadata": {},
   "outputs": [
    {
     "data": {
      "image/png": "[encoded data removed]",
      "text/plain": [
       "<Figure size 864x864 with 1 Axes>"
      ]
     },
     "metadata": {
      "needs_background": "light"
     },
     "output_type": "display_data"
    }
   ],
   "source": [
    "dict_corr_80 = {'Concrete': 0, 'Housing': 7.6, 'Automobile': 57, 'Ailerons': 0, 'Elevators': 0, 'Abalone': 0, 'Kinematics': 0, 'Computer Activity': 4.7}\n",
    "dict_corr_60 = {'Concrete': 0, 'Housing': 15.3, 'Automobile': 57, 'Ailerons': 0, 'Elevators': 0, 'Abalone': 75, 'Kinematics': 0, 'Computer Activity': 38}\n",
    "\n",
    "width = 0.5\n",
    "\n",
    "plt.figure(figsize=(12,12))\n",
    "\n",
    "plt.bar(dict_corr_80.keys(), dict_corr_80.values(), width, color='navy')\n",
    "plt.xticks(rotation=80, fontsize = 20)\n",
    "plt.yticks(np.arange(0, 120, 20), fontsize = 20)\n",
    "\n",
    "plt.xlabel(\"Datasets\", fontsize = 15)\n",
    "plt.ylabel(\"Percentage Simplicity\", fontsize = 15)\n",
    "\n",
    "plt.savefig(\"Img_Percentage_Simplicity_80\")\n",
    "plt.show()"
   ]
  },
  {
   "cell_type": "code",
   "execution_count": 96,
   "metadata": {},
   "outputs": [
    {
     "data": {
      "text/plain": [
       "<Figure size 864x864 with 0 Axes>"
      ]
     },
     "metadata": {},
     "output_type": "display_data"
    },
    {
     "data": {
      "image/png": "[encoded data removed]",
      "text/plain": [
       "<Figure size 864x864 with 1 Axes>"
      ]
     },
     "metadata": {
      "needs_background": "light"
     },
     "output_type": "display_data"
    }
   ],
   "source": [
    "plt.figure(figsize=(12,12))\n",
    "\n",
    "width = 0.5\n",
    "\n",
    "plt.figure(figsize=(12,12))\n",
    "\n",
    "plt.bar(dict_corr_60.keys(), dict_corr_60.values(), width, color='maroon')\n",
    "plt.xticks(rotation=80, fontsize = 20)\n",
    "plt.yticks(np.arange(0, 120, 20), fontsize = 20)\n",
    "\n",
    "plt.xlabel(\"Datasets\", fontsize = 15)\n",
    "plt.ylabel(\"Percentage Simplicity\", fontsize = 15)\n",
    "\n",
    "plt.savefig(\"Img_Percentage_Simplicity_60\")\n",
    "plt.show()"
   ]
  },
  {
   "cell_type": "code",
   "execution_count": 97,
   "metadata": {},
   "outputs": [
    {
     "data": {
      "image/png": "[encoded data removed]",
      "text/plain": [
       "<Figure size 864x864 with 1 Axes>"
      ]
     },
     "metadata": {
      "needs_background": "light"
     },
     "output_type": "display_data"
    }
   ],
   "source": [
    "dict_L1 = {'Concrete': 8.2148, 'Housing': 3.2708, 'Automobile': 2.4993, 'Ailerons': 0.0001, 'Elevators': 0.0019, 'Abalone': 1.5843, 'Kinematics': 0.8078, 'Computer Activity': 6.0479}\n",
    "\n",
    "width = 0.5\n",
    "\n",
    "plt.figure(figsize=(12,12))\n",
    "\n",
    "\n",
    "plt.bar(dict_L1.keys(), dict_L1.values(), width, color='skyblue')\n",
    "plt.xticks(rotation=80, fontsize = 20)\n",
    "# plt.yticks(np.arange(0, 120, 20), fontsize = 20)\n",
    "\n",
    "plt.xlabel(\"Datasets\", fontsize = 15)\n",
    "plt.ylabel(\"L1 value\", fontsize = 15)\n",
    "\n",
    "plt.savefig(\"Img_L1_Value\")\n",
    "plt.show()"
   ]
  },
  {
   "cell_type": "code",
   "execution_count": 98,
   "metadata": {},
   "outputs": [
    {
     "data": {
      "image/png": "[encoded data removed]",
      "text/plain": [
       "<Figure size 864x864 with 1 Axes>"
      ]
     },
     "metadata": {
      "needs_background": "light"
     },
     "output_type": "display_data"
    }
   ],
   "source": [
    "dict_corr_avg = {'Concrete': 0.3703, 'Housing': 0.5292, 'Automobile': 0.7505, 'Ailerons': 0.3217, 'Elevators': 0.2870, 'Abalone': 0.6410, 'Kinematics': 0.2675, 'Computer Activity': 0.5646 }\n",
    "\n",
    "width = 0.5\n",
    "\n",
    "plt.figure(figsize=(12,12))\n",
    "\n",
    "\n",
    "plt.bar(dict_corr_avg.keys(), dict_corr_avg.values(), width, color='goldenrod')\n",
    "plt.xticks(rotation=80, fontsize = 20)\n",
    "# plt.yticks(np.arange(0, 120, 20), fontsize = 20)\n",
    "\n",
    "plt.xlabel(\"Datasets\", fontsize = 15)\n",
    "plt.ylabel(\"Average Correaltion\", fontsize = 15)\n",
    "\n",
    "plt.savefig(\"Img_Avg_Correlation\")\n",
    "plt.show()"
   ]
  },
  {
   "cell_type": "code",
   "execution_count": 47,
   "metadata": {},
   "outputs": [
    {
     "data": {
      "image/png": "[encoded data removed]",
      "text/plain": [
       "<Figure size 864x864 with 1 Axes>"
      ]
     },
     "metadata": {
      "needs_background": "light"
     },
     "output_type": "display_data"
    }
   ],
   "source": [
    "dict_corr_avg = {'Concrete': 0.1044, 'Housing': 0.05382, 'Automobile': 0.0080, 'Elevators': 0.0844, 'Abalone': 0.1079, \n",
    "                 'Kinematics': 0.00078, 'Computer Activity': 0.2617}\n",
    "\n",
    "\n",
    "# 'Ailerons': 0.3217, , 'US Dataset': 0.1067\n",
    "\n",
    "# 'Italian AQ': 0.0720, 'Beijing AQ': 0.0131,\n",
    "\n",
    "width = 0.5\n",
    "\n",
    "plt.figure(figsize=(12,12))\n",
    "\n",
    "\n",
    "plt.bar(dict_corr_avg.keys(), dict_corr_avg.values(), width, color='maroon')\n",
    "plt.xticks(rotation=30, fontsize = 20)\n",
    "# plt.yticks(np.arange(0, 120, 20), fontsize = 20)\n",
    "\n",
    "# plt.xlabel(\"Datasets\", fontsize = 12)\n",
    "plt.ylabel(\"Average Correaltion\", fontsize = 15)\n",
    "\n",
    "plt.savefig(\"Img_Avg_Correlation\")\n",
    "plt.show()"
   ]
  },
  {
   "cell_type": "code",
   "execution_count": 89,
   "metadata": {},
   "outputs": [
    {
     "name": "stdout",
     "output_type": "stream",
     "text": [
      "[0.0029805120366832253, 0.030569354222392053, 0.20565533053114254, 0.3225066870462362, 0.3989300726022163, 0.4123041650745128, 1.0]\n"
     ]
    },
    {
     "data": {
      "image/png": "[encoded data removed]",
      "text/plain": [
       "<Figure size 432x288 with 1 Axes>"
      ]
     },
     "metadata": {
      "needs_background": "light"
     },
     "output_type": "display_data"
    }
   ],
   "source": [
    "from matplotlib import pyplot as plt\n",
    "import numpy as np\n",
    "\n",
    "clist = [0.00078, 0.0080, 0.05382, 0.0844, 0.1044, 0.1079, 0.2617]\n",
    "clist_norm = [float(i)/max(clist) for i in clist]\n",
    "print(clist_norm)\n",
    "# a = [1,2,5,6,9,11,15,17,18]\n",
    "\n",
    "# plt.hlines(0,0,1)  # Draw a horizontal line\n",
    "# plt.xlim(0,1)\n",
    "# plt.ylim(0,0.5)\n",
    "\n",
    "# y = np.ones(np.shape(clist_norm))   # Make all y values the same\n",
    "# plt.plot(clist_norm, y,'|', ms = 40, linewidth = 40.0)  # Plot a line at each location specified in a\n",
    "# plt.axis('off')\n",
    "# plt.show()\n",
    "\n",
    "\n",
    "plt.figure()\n",
    "# a = [1,2,5,6,9,11,15,17,18]\n",
    "plt.vlines(1,0,1)  # Draw a vertical line\n",
    "clabels = ['Kinematics', 'Automobile', 'Housing', 'Elevators', 'Concrete', 'Abalone', 'C.Activity']\n",
    "# plt.yticks(ticks = clist_norm, )\n",
    "plt.eventplot(clist_norm, orientation='vertical', colors='b', linewidths = 1.5)\n",
    "# plt.annotate('Kinematics', # this is the text\n",
    "#                  (1.0,0.00078), # this is the point to label\n",
    "#                  #textcoords=\"offset points\", # how to position the text\n",
    "#                  #xytext=(0,10), # distance from text to points (x,y)\n",
    "#                  ha='right')\n",
    "plt.axis('off')\n",
    "plt.savefig(\"complexity_line_plot\")\n",
    "plt.show()"
   ]
  },
  {
   "cell_type": "code",
   "execution_count": null,
   "metadata": {},
   "outputs": [],
   "source": [
    "Complex: Concrete, Housing, CompAct, Kinematics\n",
    "Simple: Ailerons, Elevators, Auto"
   ]
  },
  {
   "cell_type": "code",
   "execution_count": 47,
   "metadata": {},
   "outputs": [],
   "source": [
    "import networkx as nx\n",
    "\n",
    "G = nx.DiGraph()\n",
    "G.add_edge(\"x\", \"a\", capacity=3.0)\n",
    "G.add_edge(\"x\", \"b\", capacity=1.0)\n",
    "G.add_edge(\"a\", \"c\", capacity=3.0)\n",
    "G.add_edge(\"b\", \"c\", capacity=5.0)\n",
    "G.add_edge(\"b\", \"d\", capacity=4.0)\n",
    "G.add_edge(\"d\", \"e\", capacity=2.0)\n",
    "G.add_edge(\"c\", \"y\", capacity=2.0)\n",
    "G.add_edge(\"e\", \"y\", capacity=3.0)"
   ]
  },
  {
   "cell_type": "code",
   "execution_count": 48,
   "metadata": {},
   "outputs": [],
   "source": [
    "cut_value, partition = nx.minimum_cut(G, \"x\", \"y\")"
   ]
  },
  {
   "cell_type": "code",
   "execution_count": 49,
   "metadata": {},
   "outputs": [
    {
     "data": {
      "text/plain": [
       "({'a', 'c', 'x'}, {'b', 'd', 'e', 'y'})"
      ]
     },
     "execution_count": 49,
     "metadata": {},
     "output_type": "execute_result"
    }
   ],
   "source": [
    "partition"
   ]
  },
  {
   "cell_type": "code",
   "execution_count": 4,
   "metadata": {},
   "outputs": [],
   "source": [
    "######################Library import ###########################################\n",
    "from two_TrAdaBoostR2 import TwoStageTrAdaBoostR2 ###Import this for STrAdaBoost.R2\n",
    "# from TwoStageTrAdaBoostR2 import TwoStageTrAdaBoostR2 ###Import this for two-stage TrAdaBoost.R2\n",
    "\n",
    "import pandas as pd\n",
    "import sys\n",
    "import numpy as np\n",
    "from pandas import DataFrame\n",
    "from sklearn.model_selection import train_test_split\n",
    "from sklearn.tree import DecisionTreeRegressor\n",
    "from sklearn.ensemble import AdaBoostRegressor\n",
    "\n",
    "from keras.models import Sequential, load_model, Model\n",
    "from keras.layers import Input, Dense, Activation, Conv2D, Dropout, Flatten\n",
    "from keras import optimizers, utils, initializers, regularizers\n",
    "import keras.backend as K\n",
    "\n",
    "from sklearn.metrics import mean_squared_error\n",
    "from sklearn.metrics import r2_score\n",
    "from sklearn.preprocessing import StandardScaler #Importing the StandardScaler\n",
    "\n",
    "from itertools import combinations\n",
    "\n",
    "import matplotlib.pyplot as plt\n",
    "import seaborn as sns\n",
    "\n",
    "from scipy.stats.stats import pearsonr\n",
    "from math import sqrt\n",
    "\n",
    "#Geo plotting libraries\n",
    "import geopandas as gdp\n",
    "from matplotlib.colors import ListedColormap\n",
    "# import geoplot as glpt\n",
    "\n",
    "import xgboost as xgb\n",
    "from sklearn.linear_model import LinearRegression\n",
    "from sklearn.linear_model import Ridge\n",
    "from sklearn import linear_model\n",
    "from keras.models import Sequential\n",
    "from keras.callbacks import ModelCheckpoint\n",
    "from sklearn.ensemble import GradientBoostingRegressor\n",
    "\n",
    "from sklearn.model_selection import KFold\n",
    "import matplotlib.lines as mlines"
   ]
  },
  {
   "cell_type": "code",
   "execution_count": null,
   "metadata": {},
   "outputs": [],
   "source": [
    "'Concrete': 0.1044, 'Housing': 0.05382, 'Automobile': 0.0080, 'Ailerons': 0.3217, 'Elevators': 0.0844, 'Abalone': 0.1079, \n",
    "                 'Kinematics': 0.00078, 'Computer Activity': 0.2617 "
   ]
  },
  {
   "cell_type": "code",
   "execution_count": 90,
   "metadata": {},
   "outputs": [
    {
     "data": {
      "image/png": "[encoded data removed]",
      "text/plain": [
       "<Figure size 936x936 with 1 Axes>"
      ]
     },
     "metadata": {
      "needs_background": "light"
     },
     "output_type": "display_data"
    }
   ],
   "source": [
    "################## This is to plot the RMS Error and R2 Errors for the regression datasets###############\n",
    "\n",
    "# Adaboost_RMSE_LM = [0.26038751897237, 5.0376683815286, 8.4791655169811, 0.0033471125695071, 3.0407609461728] #, 3.9425108551414]\n",
    "# AdaboostX_RMSE_LM = [0.26023114662381, 4.378267959749, 7.919944333439, 0.0033427910557569, 3.0432585402816] #, 3.9366965210839]\n",
    "# Tradaboost_RMSE_LM = [0.22266832507436, 5.3923052799087, 8.4363662781185, 0.0043199281964726, 3.1512572784609] #, ]\n",
    "# GBR_RMSE_LM = [0.30639586904018, 6.931528128514, 8.2005217365166, 0.0042351215057175, 3.0554786083319] #, 4.0399359816106]\n",
    "# GBRX_RMSE_LM = [0.25651722138106, 6.6421644634198, 7.7948724964471, 0.0029130548672265, 3.069247399311] #, 3.1676330049544]\n",
    "# STradaboost_RMSE_LM = [0.24019505235318, 4.7747152432431, 7.6403915674999, 0.0029673107729298, 3.033956101467] #, 3.6857811572451]\n",
    "\n",
    "Adaboost_RMSE_LM = [0.84984018, 0.72677601, 1., 0.77480745, 0.96493579]\n",
    "AdaboostX_RMSE_LM = [0.84932981, 0.63164541, 0.93404762, 0.77380709, 0.96572837]\n",
    "Tradaboost_RMSE_LM = [0.7267341,  0.77793889, 0.99495242, 1., 1.]\n",
    "GBR_RMSE_LM = [1., 1., 0.96713783, 0.9803685, 0.9696062]\n",
    "GBRX_RMSE_LM = [0.83720849, 0.95825399, 0.91929713, 0.67432946, 0.97397551]\n",
    "STradaboost_RMSE_LM = [0.78393698, 0.6888402, 0.90107824, 0.68688891, 0.96277639]\n",
    "\n",
    "\n",
    "Adaboost_R2_LM = [0.22271358624651, 0.57100313354671, 0.43788078031171, 0.73176163971293, 0.14354235486685] #, 0.97026804188298]\n",
    "AdaboostX_R2_LM = [0.22297821480852, 0.61166393030941, 0.47400418460823, 0.73276743804607, 0.14185048998762] #, 0.97029209804207]\n",
    "Tradaboost_R2_LM = [0.39414930585469, 0.32140504467159, 0.4076648365164, 0.55183056227661, 0.064264917777793] #, ]\n",
    "GBR_R2_LM = [0.070113345388861, 0.65244131524098, 0.52741113186203, 0.57094634558134, 0.013838183023638] #, 0.96612489398277]\n",
    "GBRX_R2_LM = [0.25061808483802, 0.30896214561578, 0.50210487214982, 0.79740507883259, 0.042394535657282] #, 0.97682152847771]\n",
    "STradaboost_R2_LM = [0.24029499066992, 0.59803600978946, 0.51622360735125, 0.90838470486655, 0.055706541248261] #, 0.96874566723622]\n",
    "\n",
    "# Adaboost_R2_LM = [0.56504878, 0.8751793, 0.83024562, 0.80556359, 1.]\n",
    "# AdaboostX_R2_LM = [0.56572018, 0.9375003, 0.89873754, 0.80667082, 0.98821348]\n",
    "# Tradaboost_R2_LM = [1., 0.49261909, 0.77295455, 0.60748553, 0.447707]\n",
    "# GBR_R2_LM = [0.17788524, 1., 1., 0.62852924, 0.09640488]\n",
    "# GBRX_R2_LM = [0.63584556, 0.47354779, 0.95201796, 0.8778275, 0.29534513]\n",
    "# STradaboost_R2_LM = [0.60965474, 0.91661272, 0.97878785, 1., 0.38808435]\n",
    "\n",
    "\n",
    "######################################################################################################################################################\n",
    "\n",
    "# Adaboost_RMSE_MH = [0.24822159356433, 4.4410804054167, 0.51690158560036, 0.0033471526982521, 6.8975709686383] #, 2.6993846190505 ]\n",
    "# AdaboostX_RMSE_MH = [0.24843890072296, 4.3803926480635, 7.9216075940794, 0.0033440852361765, 6.9008303649283] #, 2.772286253508]\n",
    "# Tradaboost_RMSE_MH = [0.28774892734453, 5.360856013225, 7.8178471482743, 0.004323817446664, 7.9896066558025] #, 3.6570377514222]\n",
    "# GBR_RMSE_MH = [0.19760513310911, 6.5400464761932, 7.8496330309718, 0.0042404945766187, 7.9067484042877] #, 2.0654797687271]\n",
    "# GBRX_RMSE_MH = [0.16083149791428, 6.492341248115, 7.830640174917, 0.0029130548672265, 7.8103578223214] #, 2.1210128353453]\n",
    "# STradaboost_RMSE_MH = [0.22068285334649, 4.32183291862, 3.139327044971, 0.0029673107729298, 7.1043595187502] #,3.4653868980023]\n",
    "\n",
    "Adaboost_RMSE_MH = [0.86263256, 0.67905946, 0.06525211, 0.7741198, 0.86331797]\n",
    "AdaboostX_RMSE_MH = [0.86338776, 0.66978005, 1., 0.77341037, 0.86372592]\n",
    "Tradaboost_RMSE_MH = [1., 0.81969693, 0.98690159, 1., 1.]\n",
    "GBR_RMSE_MH = [0.68672761, 1., 0.99091415, 0.98072933, 0.98962925]\n",
    "GBRX_RMSE_MH = [0.55892997, 0.99270567, 0.98851655, 0.67372291, 0.97756475]\n",
    "STradaboost_RMSE_MH = [0.7669285, 0.66082603, 0.39629924, 0.68627106, 0.88920016]\n",
    "\n",
    "# RMSE_MH = np.array([Adaboost_RMSE_MH, AdaboostX_RMSE_MH, Tradaboost_RMSE_MH, GBR_RMSE_MH, GBRX_RMSE_MH, STradaboost_RMSE_MH]) \n",
    "# R2_LM = np.array([Adaboost_R2_LM, AdaboostX_R2_LM, Tradaboost_R2_LM, GBR_R2_LM, GBRX_R2_LM, STradaboost_R2_LM]) \n",
    "\n",
    "# print(RMSE_MH)\n",
    "# print(\"\\n\")\n",
    "# RMSE_MH = np.abs(RMSE_MH / RMSE_MH.max(axis=0))\n",
    "# print(RMSE_MH)\n",
    "# print(\"\\n\")\n",
    "# print(RMSE_LM.transpose())\n",
    "\n",
    "\n",
    "Adaboost_R2_MH = [0.2025168562006, 0.53419195857315, 0.40779226443498, 0.73191943931014, 0.13622418680961] #, 0.97916491957264]\n",
    "AdaboostX_R2_MH = [0.20202013885999, 0.60832340309585, 0.47817437316266, 0.73276743804607, 0.14020392063643] #, 0.96615127710936]\n",
    "Tradaboost_R2_MH = [0.088924703524272, 0.41637495514861, 0.47828155811508, 0.55183056227661, 0.037350559520466] #, 0.95498143627792]\n",
    "GBR_R2_MH = [0.42799200850992, 0.27045185288114, 0.48970352059286, 0.57105386267691, 0.096512914820321] #, 0.97493916569013]\n",
    "GBRX_R2_MH = [0.64843684209286, 0.34891021292423, 0.49760784524605, 0.79740507883259, 0.07762729100056] #, 0.97442438161888]\n",
    "STradaboost_R2_MH = [0.32360915619155, 0.56191312539345, 0.8449380519317, 0.90838470486655, 0.072739750944493] #, 0.96386044871966]\n",
    "\n",
    "\n",
    "######################################################################################################################################################\n",
    "\n",
    "# Adaboost_RMSE_LH = [0.16781600843473, 4.5686900822772, 3.9513988575627, 0.0033471125695071, 3.1338169744931] #, 2.6979886274737]\n",
    "# AdaboostX_RMSE_LH = [0.16759077896839, 3.4712586371919, 4.310478178893, 0.0033427910557569, 3.1380187981013] #, 2.6988088627822]\n",
    "# Tradaboost_RMSE_LH = [0.21785422801672, 4.2477320040385, 5.0772773637948, 0.0043199281964726, 3.0262011934292] #, 3.3799966123362]\n",
    "# GBR_RMSE_LH = [0.19506236290905, 4.2256670380595, 3.6369527534751, 0.0042351215057175, 2.86882177727] #, CPM ACTIVITY MISSING]\n",
    "# GBRX_RMSE_LH = [0.16087723874659, 3.6255693434073, 4.1314282073083, 0.0029130548672265, 2.7282202974089] #, 2.3711626466495]\n",
    "# STradaboost_RMSE_LH = [0.18562038457534, 3.5048747299387, 4.2466892458194, 0.0029673107729298, 0.18562038457534] #, 2.8878880022154]\n",
    "\n",
    "Adaboost_RMSE_LH = [0.7703133, 1., 0.77825153, 0.77480745, 0.99866099]\n",
    "AdaboostX_RMSE_LH = [0.76927944, 0.75979298, 0.84897434, 0.77380709, 1.]\n",
    "Tradaboost_RMSE_LH = [1., 0.92974834, 1., 1., 0.96436681]\n",
    "GBR_RMSE_LH = [0.8953802, 0.92491873, 0.71631949, 0.9803685, 0.91421434]\n",
    "GBRX_RMSE_LH = [0.73846278, 0.79356868, 0.81370938, 0.67432946, 0.86940853]\n",
    "STradaboost_RMSE_LH = [0.85203939, 0.7671509, 0.83641073, 0.68688891, 0.05915209]\n",
    "\n",
    "\n",
    "# RMSE_LH = np.array([Adaboost_RMSE_LH, AdaboostX_RMSE_LH, Tradaboost_RMSE_LH, GBR_RMSE_LH, GBRX_RMSE_LH, STradaboost_RMSE_LH]) \n",
    "# R2_LM = np.array([Adaboost_R2_LM, AdaboostX_R2_LM, Tradaboost_R2_LM, GBR_R2_LM, GBRX_R2_LM, STradaboost_R2_LM]) \n",
    "\n",
    "# print(RMSE_LH)\n",
    "# print(\"\\n\")\n",
    "# RMSE_LH = np.abs(RMSE_LH / RMSE_LH.max(axis=0))\n",
    "# print(RMSE_LH)\n",
    "# print(\"\\n\")\n",
    "# print(RMSE_LM.transpose())\n",
    "\n",
    "\n",
    "Adaboost_R2_LH = [0.622283848787, 0.46524886681603, 0.70153328584469, 0.73176163971293, 0.1175469169484] #, 0.97916491957264]\n",
    "AdaboostX_R2_LH = [0.62321540348897, 0.59162714947175, 0.67229581334993, 0.73276743804607, 0.11713087775234] #, 0.97914830369038]\n",
    "Tradaboost_R2_LH = [0.40326889105691, 0.49183709477584, 0.57222257093668, 0.55183056227661, 0.072840090013919] #, 0.96885937244308]\n",
    "GBR_R2_LH = [0.4481770492392, 0.51226199477099, 0.75494538096462, 0.57094634558134, 0.030740325582561] #, CPM ACTIVITY MISSING]\n",
    "GBRX_R2_LH = [0.64843684209286, 0.58024645369689, 0.70013799442279, 0.79740507883259, 0.14618440337337] #, 0.98435182139215]\n",
    "STradaboost_R2_LH = [0.52110318618814, 0.57658831335789, 0.67568321896659, 0.90838470486655, 0.087969472625386] #, 0.97884386193814]\n",
    "\n",
    "#######################################################################################################################################################\n",
    "\n",
    "#################################################### CUMULATIVE #############################################################################################\n",
    "############## ['Concrete D', 'Housing', 'Auto', 'Ailerons', 'Elevators', 'Abalone', 'Kinematics', 'CompAct'] (L + M, H) ##############\n",
    "\n",
    "# Adaboost_RMSE = [24.967402079557, 8.4791655169811, 5.0376683815286, 0.00020325265295854, 0.0033471125695071, 3.0407609461728, 0.26038751897237, 3.9425108551414]\n",
    "# AdaboostX_RMSE = [13.964770123091, 7.919944333439, 4.378267959749, 0.00017441106284697, 0.0033427910557569, 3.0432585402816, 0.26023114662381, 3.9366965210839]\n",
    "# Tradaboost_RMSE = [14.566200369473, 8.4363662781185, 5.3923052799087, 0.00021090634603080816, 0.0043199281964726, 3.1512572784609, 0.22266832507436, 4.496007445782896]\n",
    "# GBR_RMSE = [23.681786685621, 8.2005217365166, 6.931528128514, 0.00018387473306345, 0.0042351215057175, 3.0554786083319, 0.30639586904018, 4.0399359816106]\n",
    "# GBRX_RMSE = [11.269768327076, 7.7948724964471, 6.6421644634198, 0.0001611901826149, 0.0029130548672265, 3.069247399311, 0.25651722138106, 3.1676330049544]\n",
    "# STradaboost_RMSE = [13.127525218737, 7.638244897910103, 5.2392486538122665, 0.0001795412822754839, 0.0036899511808519, 3.1082756610754023, 0.23972975088922271, 3.6865219512798]\n",
    "# STradaboostAS_RMSE = [13.176714036197, 7.6403915674999, 4.7747152432431, 0.0001855532678034472, 0.0029673107729298, 3.033956101467, 0.24019505235318, 3.6857811572451]\n",
    "\n",
    "\n",
    "Adaboost_R2 = [0.42967086924117, 0.43788078031171, 0.57100313354671, 0.73176163971293, 0.14354235486685, 0.22271358624651, 0.97026804188298] #0.74849469749676,\n",
    "AdaboostX_R2 = [0.66902638848907, 0.47400418460823, 0.61166393030941, 0.73276743804607, 0.14185048998762, 0.22297821480852, 0.97029209804207] #0.81306444868016,\n",
    "Tradaboost_R2 = [0.65055250676401, 0.4076648365164, 0.32140504467159, 0.55183056227661, 0.064264917777793, 0.39414930585469, 0.9555425657957418] #0.7283795591963251,\n",
    "GBR_R2 = [0.56210100691435, 0.52741113186203, 0.65244131524098, 0.57094634558134, 0.013838183023638, 0.070113345388861, 0.96612489398277] #0.79328008730152,\n",
    "GBRX_R2 = [0.69179304767866, 0.50210487214982, 0.30896214561578, 0.79740507883259, 0.042394535657282, 0.25061808483802, 0.97682152847771] #0.84035559831767,\n",
    "STradaboost_R2 = [0.69443695471351, 0.5172617493422729, 0.540638454649814, 0.77575084511173, 0.038929530316638615, 0.27288855539318535, 0.96884785010965] #0.8142807738642427,\n",
    "STradaboostAS_R2 = [0.69205154599719, 0.51622360735125, 0.59803600978946, 0.90838470486655, 0.055706541248261, 0.24029499066992, 0.96874566723622] #0.7283795591963251,\n",
    "\n",
    "\n",
    "# RMSE_LM = np.array([Adaboost_RMSE, AdaboostX_RMSE,  Tradaboost_RMSE, GBR_RMSE, GBRX_RMSE, STradaboost_RMSE, STradaboostAS_RMSE]) \n",
    "# R2_LM = np.array([Adaboost_R2, AdaboostX_R2, Tradaboost_R2, GBR_R2, GBRX_R2, STradaboost_R2, STradaboostAS_R2]) \n",
    "\n",
    "# print(R2_LM)\n",
    "# print(\"\\n\")\n",
    "# R2_LM = np.abs(R2_LM / R2_LM.max(axis=0))\n",
    "# print(R2_LM)\n",
    "# print(\"\\n\")\n",
    "# print(RMSE_LM.transpose())\n",
    "\n",
    "Adaboost_RMSE = [1., 1., 0.72677601, 0.77480745, 0.96493579, 0.84984018, 0.87689153] #0.8667516,\n",
    "AdaboostX_RMSE = [0.55932011, 0.93404762, 0.63164541, 0.77380709, 0.96572837, 0.84932981, 0.87559831] #0.82695977,\n",
    "Tradaboost_RMSE = [0.58340873, 0.99495242, 0.77793889, 1., 1., 0.7267341, 1.] #1.,\n",
    "GBR_RMSE = [0.94850824, 0.96713783, 1., 0.9803685, 0.9696062, 1., 0.89856079] #0.8718312,\n",
    "GBRX_RMSE = [0.45137929, 0.91929713, 0.95825399, 0.67432946, 0.97397551, 0.83720849, 0.70454354] #0.76427374,\n",
    "STradaboost_RMSE = [0.52578659, 0.90082507, 0.75585766, 0.85416956, 0.98636049, 0.78241835, 0.81995459] #0.8512844,\n",
    "STradaboostAS_RMSE = [0.52775671, 0.90107824, 0.6888402, 0.68688891, 0.96277639, 0.78393698, 0.81978983] #0.87978987,\n",
    "\n",
    "\n",
    "# Adaboost_R2 = [0.61873272, 0.83024562, 0.8751793, 0.80556359, 1., 0.56504878, 0.99329101] #0.89068806,\n",
    "# AdaboostX_R2 = [0.96340839, 0.89873754, 0.9375003, 0.80667082, 0.98821348, 0.56572018, 0.99331564] #0.96752428,\n",
    "# Tradaboost_R2 = [0.93680571, 0.77295455, 0.49261909, 0.60748553, 0.447707, 1., 0.97821612] #0.8667516,\n",
    "# GBR_R2 = [0.80943418, 1., 1., 0.62852924, 0.09640488, 0.17788524, 0.98904955] #0.94398144,\n",
    "# GBRX_R2 = [0.99619273, 0.95201796, 0.47354779, 0.8778275, 0.29534513, 0.63584556, 1.] #1.,\n",
    "# STradaboost_R2 = [1., 0.98075622, 0.82863921, 0.85398933, 0.27120588, 0.69234818, 0.99183712] #0.96897168,\n",
    "# STradaboostAS_R2 = [0.99656497, 0.97878785, 0.91661272, 1., 0.38808435, 0.60965474, 0.99173251] #0.8667516,\n",
    "\n",
    "\n",
    "#######################################################################################################################################################\n",
    "\n",
    "\n",
    "# Adaboost_RMSE = list(map(sum, zip(Adaboost_RMSE_LM, Adaboost_RMSE_LH, Adaboost_RMSE_MH)))\n",
    "# Adaboost_RMSE[:] = [x / 3.0 for x in Adaboost_RMSE]\n",
    "\n",
    "# AdaboostX_RMSE = list(map(sum, zip(AdaboostX_RMSE_LM, AdaboostX_RMSE_LH, AdaboostX_RMSE_MH)))\n",
    "# AdaboostX_RMSE[:] = [x / 3.0 for x in AdaboostX_RMSE]\n",
    "                      \n",
    "# Tradaboost_RMSE = list(map(sum, zip(Tradaboost_RMSE_LM, Tradaboost_RMSE_LH, Tradaboost_RMSE_MH)))\n",
    "# Tradaboost_RMSE[:] = [x / 3.0 for x in Tradaboost_RMSE]                       \n",
    "                       \n",
    "# GBR_RMSE = list(map(sum, zip(GBR_RMSE_LM, GBR_RMSE_LH, GBR_RMSE_MH)))\n",
    "# GBR_RMSE[:] = [x / 3.0 for x in GBR_RMSE]\n",
    "                \n",
    "# GBRX_RMSE = list(map(sum, zip(GBRX_RMSE_LM, GBRX_RMSE_LH, GBRX_RMSE_MH)))\n",
    "# GBRX_RMSE[:] = [x / 3.0 for x in GBRX_RMSE]\n",
    "                 \n",
    "# STradaboost_RMSE = list(map(sum, zip(STradaboost_RMSE_LM, STradaboost_RMSE_LH, STradaboost_RMSE_MH)))\n",
    "# STradaboost_RMSE[:] = [x / 3.0 for x in STradaboost_RMSE]\n",
    "                        \n",
    "                    \n",
    "# Adaboost_R2 = list(map(sum, zip(Adaboost_R2_LM, Adaboost_R2_LH, Adaboost_R2_MH)))\n",
    "# Adaboost_R2[:] = [x / 3.0 for x in Adaboost_R2]\n",
    "                        \n",
    "# AdaboostX_R2 = list(map(sum, zip(AdaboostX_R2_LM, AdaboostX_R2_LH, AdaboostX_R2_MH)))\n",
    "# AdaboostX_R2[:] = [x / 3.0 for x in AdaboostX_R2]\n",
    "                        \n",
    "# Tradaboost_R2 = list(map(sum, zip(Tradaboost_R2_LM, Tradaboost_R2_LH, Tradaboost_R2_MH)))\n",
    "# Tradaboost_R2[:] = [x / 3.0 for x in Tradaboost_R2]\n",
    "                        \n",
    "# GBR_R2 = list(map(sum, zip(GBR_R2_LM, GBR_R2_LH, GBR_R2_MH)))\n",
    "# GBR_R2[:] = [x / 3.0 for x in GBR_R2]\n",
    "                        \n",
    "# GBRX_R2 = list(map(sum, zip(GBRX_R2_LM, GBRX_R2_LH, GBRX_R2_MH)))\n",
    "# GBRX_R2[:] = [x / 3.0 for x in GBRX_R2]\n",
    "                        \n",
    "# STradaboost_R2 = list(map(sum, zip(STradaboost_R2_LM, STradaboost_R2_LH, STradaboost_R2_MH)))\n",
    "# STradaboost_R2[:] = [x / 3.0 for x in STradaboost_R2]                        \n",
    "\n",
    "\n",
    "#xlabels = ['Kinematics', 'Auto', 'Housing', 'Elevators', 'Abalone'] #, 'C.Activity']\n",
    "# xlabels = ['Concrete', 'Housing', 'Auto', 'Ailerons', 'Elevators', 'Abalone', 'Kinematics', 'CompAct']\n",
    "xlabels_RM = ['CN_RM', 'H_RM', 'AU_RM', 'E_RM', 'AB_RM', 'KN_RM', 'CM_RM']\n",
    "xlabels_R2 = ['CN_R2', 'H_R2', 'AU_R2', 'E_R2', 'AB_R2', 'KN_R2', 'CM_R2']\n",
    "# xlabels = ['Kinematics', 'Auto', 'Housing', 'Elevators', 'Concrete', 'Abalone', 'Computer Activity', 'Ailerons']\n",
    "\n",
    "Adaboost = mlines.Line2D([], [], color = 'tomato', marker = 's', linestyle = 'None', markersize = 15, label = 'Adaboost.R2')\n",
    "AdaboostX = mlines.Line2D([], [], color = 'orange', marker = 's', linestyle = 'None', markersize = 15, label = 'Adaboost.R2X')\n",
    "Tradaboost = mlines.Line2D([], [], color = 'darkgreen', marker = 's', linestyle = 'None', markersize = 15, label = 'Two-TrAdaBoost.R2')\n",
    "GBR = mlines.Line2D([], [], color = 'maroon', marker = 's', linestyle = 'None', markersize = 15, label = 'GradBoost')\n",
    "GBRX = mlines.Line2D([], [], color = 'violet', marker = 's', linestyle = 'None', markersize = 15, label = 'GradBoostX')\n",
    "STradaboost_ = mlines.Line2D([], [], color = 'navy', marker = 's', linestyle = 'None', markersize = 15, label = 'STrAdaboost.R2*')\n",
    "STradaboost = mlines.Line2D([], [], color = '#b58500', marker = 's', linestyle = 'None', markersize = 15, label = 'STrAdaboost.R2')\n",
    "RMS = mlines.Line2D([], [], color = 'black', marker = 'o', linestyle = 'None', markersize = 15, label = 'RMS Error')\n",
    "R2 = mlines.Line2D([], [], color = 'black', marker = '*', linestyle = 'None', markersize = 15, label = 'R2 Value')\n",
    "CN = mlines.Line2D([], [], color = 'black', marker = r\"$ {CN} $\", linestyle = 'None', markersize = 15, label = 'Concrete')\n",
    "HO = mlines.Line2D([], [], color = 'black', marker = r\"$ {HO} $\", linestyle = 'None', markersize = 15, label = 'Housing')\n",
    "AU = mlines.Line2D([], [], color = 'black', marker = r\"$ {AU} $\", linestyle = 'None', markersize = 15, label = 'Automobile')\n",
    "EL = mlines.Line2D([], [], color = 'black', marker = r\"$ {EL} $\", linestyle = 'None', markersize = 15, label = 'Elevators')\n",
    "AB = mlines.Line2D([], [], color = 'black', marker = r\"$ {AB} $\", linestyle = 'None', markersize = 15, label = 'Abalone')\n",
    "KN = mlines.Line2D([], [], color = 'black', marker = r\"$ {KN} $\", linestyle = 'None', markersize = 15, label = 'Kinematics')\n",
    "CA = mlines.Line2D([], [], color = 'black', marker = r\"$ {CA} $\", linestyle = 'None', markersize = 15, label = 'Computer Activity')\n",
    "\n",
    "\n",
    "\n",
    "plt.figure(figsize=(13,13))\n",
    "plt.plot(xlabels_RM, Adaboost_RMSE, marker = 'o', color = 'tomato', linewidth = 4.0, markersize = 20, linestyle = \"None\", alpha = .7)\n",
    "plt.plot(xlabels_R2, Adaboost_R2, marker = '*', color = 'tomato', linewidth = 4.0, markersize = 20, linestyle = \"None\", alpha = .7)\n",
    "\n",
    "plt.plot(xlabels_RM, AdaboostX_RMSE, marker = 'o', color = 'orange', linewidth = 4.0, markersize = 20, linestyle = \"None\", alpha = .7)\n",
    "plt.plot(xlabels_R2, AdaboostX_R2, marker = '*', color = 'orange', linewidth = 4.0, markersize = 20, linestyle = \"None\", alpha = .7)\n",
    "\n",
    "plt.plot(xlabels_RM, Tradaboost_RMSE, marker = 'o', color = 'darkgreen', linewidth = 4.0, markersize = 20, linestyle = \"None\", alpha = .7)\n",
    "plt.plot(xlabels_R2, Tradaboost_R2, marker = '*', color = 'darkgreen', linewidth = 4.0, markersize = 20, linestyle = \"None\", alpha = .7)\n",
    "\n",
    "plt.plot(xlabels_RM, GBR_RMSE, marker = 'o', color = 'maroon', linewidth = 4.0, markersize = 20, linestyle = \"None\", alpha = .7)\n",
    "plt.plot(xlabels_R2, GBR_R2, marker = '*', color = 'maroon', linewidth = 4.0, markersize = 20, linestyle = \"None\", alpha = .7)\n",
    "\n",
    "plt.plot(xlabels_RM, GBRX_RMSE, marker = 'o', color = 'violet', linewidth = 4.0, markersize = 20, linestyle = \"None\", alpha = .7)\n",
    "plt.plot(xlabels_R2, GBRX_R2, marker = '*', color = 'violet', linewidth = 4.0, markersize = 20, linestyle = \"None\", alpha = .7)\n",
    "\n",
    "plt.plot(xlabels_RM, STradaboost_RMSE, marker = 'o', color = 'navy', linewidth = 4.0, markersize = 20, linestyle = \"None\", alpha = .7)\n",
    "plt.plot(xlabels_R2, STradaboost_R2, marker = '*', color = 'navy', linewidth = 4.0, markersize = 20, linestyle = \"None\", alpha = .7)\n",
    "\n",
    "plt.plot(xlabels_RM, STradaboostAS_RMSE, marker = 'o', color = '#b58500', markeredgewidth = 4.0, markeredgecolor ='black', linewidth = 4.0, markersize = 20, linestyle = \"None\", alpha = .7)\n",
    "plt.plot(xlabels_R2, STradaboostAS_R2, marker = '*', color = '#b58500', markeredgewidth = 4.0, markeredgecolor ='black', linewidth = 4.0, markersize = 20, linestyle = \"None\", alpha = .7)\n",
    "\n",
    "\n",
    "plt.grid(axis = 'x')\n",
    "\n",
    "\n",
    "#labels = ['Kinematics', 'Auto', 'Housing', 'Elevators', 'Abalone'] #, 'C.Activity']\n",
    "# labels = ['Concrete', 'Housing', 'Auto', 'Ailerons', 'Elevators', 'Abalone', 'Kinematics', 'CompAct']\n",
    "# labels = ['CN_RM', 'CN_R2', 'H_RM', 'H_R2', 'AU_RM', 'AU_R2', 'AI_RM', 'AI_R2', 'E_RM', 'E_R2', 'AB_RM', 'AB_R2', 'KN_RM', 'KN_R2', 'CM_RM', 'CM_R2']\n",
    "labels = ['CN_RM', 'HO_RM', 'AU_RM', 'EL_RM', 'AB_RM', 'KN_RM', 'CA_RM', 'CN_R2', 'HO_R2', 'AU_R2', 'EL_R2', 'AB_R2', 'KN_R2', 'CA_R2']\n",
    "# x_val = [0,1,2,3,4,5]\n",
    "# x_val = [0,1,2,3,4,5,6,7]\n",
    "x_val = [0, 1, 2, 3, 4, 5, 6, 7, 8, 9, 10, 11, 12, 13]\n",
    "\n",
    "plt.xticks(x_val, labels, rotation = 30, fontsize = 20)\n",
    "# plt.yticks(np.arange(3, 7, 1.0), fontsize = 15)\n",
    "\n",
    "plt.ylabel('Normalized RMS Error/R2 Score', fontsize = 25)\n",
    "# plt.xlabel('Datasets (Decreasing Order of Complexity)', fontsize = 20)\n",
    "\n",
    "plt.legend(handles= [Adaboost, AdaboostX, Tradaboost, GBR, GBRX, STradaboost_, STradaboost, RMS, R2], fontsize = 15, \n",
    "           ncol = 2, handleheight = 2.4, labelspacing = 0.05, loc='lower left') #, CN, HO, AU, EL, AB, KN, CA\n",
    "# plt.legend(handles= [Adaboost, AdaboostX, Tradaboost, GBR, GBRX, STradaboost_, STradaboost], fontsize = 15, loc='lower left')\n",
    "\n",
    "\n",
    "# plt.title('UCI Auto MPG dataset', fontsize = 28)\n",
    "plt.savefig(\"regression_plot_rmse_r2\")\n",
    "plt.show()\n",
    "\n",
    "\n",
    "# plt.figure(figsize=(13,13))\n",
    "# plt.plot(xlabels, Adaboost_R2, marker = 'o', color = 'tomato', linewidth = 4.0, markersize = 20, linestyle = \"None\", alpha = .7)\n",
    "# plt.plot(xlabels, AdaboostX_R2, marker = 'o', color = 'orange', linewidth = 4.0, markersize = 20, linestyle = \"None\", alpha = .7)\n",
    "# plt.plot(xlabels, Tradaboost_R2, marker = 'o', color = 'darkgreen', linewidth = 4.0, markersize = 20, linestyle = \"None\", alpha = .7)\n",
    "# plt.plot(xlabels, GBR_R2, marker = 'o', color = 'maroon', linewidth = 4.0, markersize = 20, linestyle = \"None\", alpha = .7)\n",
    "# plt.plot(xlabels, GBRX_R2, marker = 'o', color = 'violet', linewidth = 4.0, markersize = 20, linestyle = \"None\", alpha = .7)\n",
    "# plt.plot(xlabels, STradaboost_R2, marker = 'o', color = 'navy', linewidth = 4.0, markersize = 20, linestyle = \"None\", alpha = .7)\n",
    "# plt.plot(xlabels, STradaboostAS_R2, marker = 'o', color = '#b58500', linewidth = 4.0, markersize = 20, linestyle = \"None\", alpha = .7)\n",
    "# plt.grid(axis = 'x')\n",
    "\n",
    "# labels = ['Concrete', 'Housing', 'Auto', 'Ailerons', 'Elevators', 'Abalone', 'Kinematics', 'CompAct']\n",
    "# x_val = [0,1,2,3,4,5,6,7]\n",
    "\n",
    "# plt.xticks(x_val, labels, rotation = 30, fontsize = 30)\n",
    "# # plt.yticks(np.arange(3, 7, 1.0), fontsize = 15)\n",
    "\n",
    "# plt.ylabel('R2 Score', fontsize = 30)\n",
    "# # plt.xlabel('Datasets (Decreasing Order of Complexity)', fontsize = 20)\n",
    "\n",
    "# plt.legend(handles= [Adaboost, AdaboostX, Tradaboost, GBR, GBRX, STradaboost_, STradaboost], fontsize = 15)\n",
    "\n",
    "# # plt.title('UCI Auto MPG dataset', fontsize = 28)\n",
    "# # plt.savefig(\"ComplexityPlot_R2_Paper\")\n",
    "# plt.show()"
   ]
  },
  {
   "cell_type": "code",
   "execution_count": 11,
   "metadata": {},
   "outputs": [
    {
     "name": "stdout",
     "output_type": "stream",
     "text": [
      "(153, 19)\n",
      "(2856, 19)\n",
      "(1310, 19)\n"
     ]
    }
   ],
   "source": [
    "########################################## Shorter Individual Datasets (US) ###############################################################\n",
    "\n",
    "US_df_train = pd.read_csv('US_data/Train/Train_3.csv')\n",
    "US_train_droplist = ['cmaq_id', 'cmaq_x', 'cmaq_y', 'Latitude', 'Longitude', 'year', 'month', 'rid', 'clust']\n",
    "US_df_train = US_df_train.drop(US_train_droplist, axis = 1)\n",
    "US_df_train = US_df_train.rename(columns={\"is\": \"ISS\"})\n",
    "print(US_df_train.shape)\n",
    "\n",
    "US_df_transfer = pd.read_csv('US_data/Transfer/Transfer_3.csv')\n",
    "US_transfer_droplist = ['cmaq_id', 'cmaq_x', 'cmaq_y', 'Latitude', 'Longitude', 'year', 'month', 'rid', 'clust']\n",
    "US_df_transfer = US_df_transfer.drop(US_transfer_droplist, axis = 1)\n",
    "US_df_transfer = US_df_transfer.rename(columns={\"is\": \"ISS\"})\n",
    "print(US_df_transfer.shape)\n",
    "\n",
    "US_df_test = pd.read_csv('US_data/Test/Test_3.csv')\n",
    "US_test_droplist = ['cmaq_id', 'cmaq_x', 'cmaq_y', 'Latitude', 'Longitude', 'year', 'month', 'rid']\n",
    "US_df_test = US_df_test.drop(US_test_droplist, axis = 1)\n",
    "US_df_test = US_df_test.rename(columns={\"is\": \"ISS\"})\n",
    "print(US_df_test.shape)\n",
    "\n",
    "target_column = ['pm25_value']\n",
    "US_df_train_y = US_df_train[target_column]\n",
    "US_df_train_X = US_df_train.drop(target_column, axis = 1)\n",
    "\n",
    "US_df_transfer_y = US_df_transfer[target_column]\n",
    "US_df_transfer_X = US_df_transfer.drop(target_column, axis = 1)\n",
    "\n",
    "US_df_test_y = US_df_test[target_column]\n",
    "US_df_test_X = US_df_test.drop(target_column, axis = 1)\n",
    "\n",
    "TF_train_X = pd.concat([US_df_transfer_X, US_df_train_X], sort= False)\n",
    "TF_train_y = pd.concat([US_df_transfer_y, US_df_train_y], sort= False)\n",
    "\n",
    "np_TF_train_X = TF_train_X.to_numpy()\n",
    "np_TF_train_y = TF_train_y.to_numpy()\n",
    "\n",
    "# np_TF_train_X = US_df_train_X.to_numpy()\n",
    "# np_TF_train_y = US_df_train_y.to_numpy()\n",
    "\n",
    "np_US_df_test_X = US_df_test_X.to_numpy()\n",
    "np_US_df_test_y = US_df_test_y.to_numpy()\n",
    "\n",
    "np_TF_train_y_list = np_TF_train_y.ravel()\n",
    "np_US_df_test_y_list = np_US_df_test_y.ravel()\n",
    "\n"
   ]
  },
  {
   "cell_type": "code",
   "execution_count": 8,
   "metadata": {},
   "outputs": [
    {
     "data": {
      "text/plain": [
       "0.10676618966867393"
      ]
     },
     "execution_count": 8,
     "metadata": {},
     "output_type": "execute_result"
    }
   ],
   "source": [
    "## Get the Spearman Correlation Concrete for the features US: set 1\n",
    "\n",
    "corr_US_df_test_X =  US_df_test_X.corr(method = 'spearman')\n",
    "corr_US_df_test_X\n",
    "\n",
    "US_df_test_X_lsum = np.tril(corr_US_df_test_X).sum() - np.trace(corr_US_df_test_X)\n",
    "US_df_test_X_elems = len(corr_US_df_test_X) * (len(corr_US_df_test_X) - 1) / 2\n",
    "US_df_test_X_lavg = abs(US_df_test_X_lsum / US_df_test_X_elems)\n",
    "US_df_test_X_lavg"
   ]
  },
  {
   "cell_type": "code",
   "execution_count": 10,
   "metadata": {},
   "outputs": [
    {
     "data": {
      "text/plain": [
       "0.10710321411009029"
      ]
     },
     "execution_count": 10,
     "metadata": {},
     "output_type": "execute_result"
    }
   ],
   "source": [
    "## Get the Spearman Correlation Concrete for the features US: set 2\n",
    "\n",
    "corr_US_df_test_X =  US_df_test_X.corr(method = 'spearman')\n",
    "corr_US_df_test_X\n",
    "\n",
    "US_df_test_X_lsum = np.tril(corr_US_df_test_X).sum() - np.trace(corr_US_df_test_X)\n",
    "US_df_test_X_elems = len(corr_US_df_test_X) * (len(corr_US_df_test_X) - 1) / 2\n",
    "US_df_test_X_lavg = abs(US_df_test_X_lsum / US_df_test_X_elems)\n",
    "US_df_test_X_lavg"
   ]
  },
  {
   "cell_type": "code",
   "execution_count": 12,
   "metadata": {},
   "outputs": [
    {
     "data": {
      "text/plain": [
       "0.10564783161413803"
      ]
     },
     "execution_count": 12,
     "metadata": {},
     "output_type": "execute_result"
    }
   ],
   "source": [
    "## Get the Spearman Correlation Concrete for the features US: set 3\n",
    "\n",
    "corr_US_df_test_X =  US_df_test_X.corr(method = 'spearman')\n",
    "corr_US_df_test_X\n",
    "\n",
    "US_df_test_X_lsum = np.tril(corr_US_df_test_X).sum() - np.trace(corr_US_df_test_X)\n",
    "US_df_test_X_elems = len(corr_US_df_test_X) * (len(corr_US_df_test_X) - 1) / 2\n",
    "US_df_test_X_lavg = abs(US_df_test_X_lsum / US_df_test_X_elems)\n",
    "US_df_test_X_lavg"
   ]
  },
  {
   "cell_type": "code",
   "execution_count": 91,
   "metadata": {},
   "outputs": [
    {
     "ename": "NameError",
     "evalue": "name 'modelRF' is not defined",
     "output_type": "error",
     "traceback": [
      "\u001b[0;31m---------------------------------------------------------------------------\u001b[0m",
      "\u001b[0;31mNameError\u001b[0m                                 Traceback (most recent call last)",
      "\u001b[0;32m<ipython-input-91-e93743d2a8af>\u001b[0m in \u001b[0;36m<module>\u001b[0;34m\u001b[0m\n\u001b[0;32m----> 1\u001b[0;31m \u001b[0mimportance_idx\u001b[0m \u001b[0;34m=\u001b[0m \u001b[0mmodelRF\u001b[0m\u001b[0;34m.\u001b[0m\u001b[0mfeature_importances_\u001b[0m\u001b[0;34m.\u001b[0m\u001b[0margsort\u001b[0m\u001b[0;34m(\u001b[0m\u001b[0;34m)\u001b[0m\u001b[0;34m\u001b[0m\u001b[0;34m\u001b[0m\u001b[0m\n\u001b[0m\u001b[1;32m      2\u001b[0m \u001b[0mfig\u001b[0m\u001b[0;34m,\u001b[0m \u001b[0maxs\u001b[0m \u001b[0;34m=\u001b[0m \u001b[0mplt\u001b[0m\u001b[0;34m.\u001b[0m\u001b[0msubplots\u001b[0m\u001b[0;34m(\u001b[0m\u001b[0mfigsize\u001b[0m \u001b[0;34m=\u001b[0m \u001b[0;34m(\u001b[0m\u001b[0;36m15\u001b[0m\u001b[0;34m,\u001b[0m \u001b[0;36m15\u001b[0m\u001b[0;34m)\u001b[0m\u001b[0;34m)\u001b[0m\u001b[0;34m\u001b[0m\u001b[0;34m\u001b[0m\u001b[0m\n\u001b[1;32m      3\u001b[0m \u001b[0mimportance_idx\u001b[0m\u001b[0;34m\u001b[0m\u001b[0;34m\u001b[0m\u001b[0m\n\u001b[1;32m      4\u001b[0m \u001b[0;34m\u001b[0m\u001b[0m\n\u001b[1;32m      5\u001b[0m \u001b[0;31m# plt.bar(indices, highPower, width=width,\u001b[0m\u001b[0;34m\u001b[0m\u001b[0;34m\u001b[0m\u001b[0;34m\u001b[0m\u001b[0m\n",
      "\u001b[0;31mNameError\u001b[0m: name 'modelRF' is not defined"
     ]
    }
   ],
   "source": [
    "importance_idx = modelRF.feature_importances_.argsort()\n",
    "fig, axs = plt.subplots(figsize = (15, 15))\n",
    "importance_idx\n",
    "\n",
    "# plt.bar(indices, highPower, width=width, \n",
    "#         color='b', label='Max Power in mW')\n",
    "# plt.bar([i+0.25*width for i in indices], lowPower, \n",
    "#         width=0.5*width, color='r', alpha=0.5, label='Min Power in mW')\n",
    "\n",
    "# plt.xticks(indices+width/2., \n",
    "#            ['T{}'.format(i) for i in range(len(highPower))] )\n",
    "\n",
    "# plt.legend()\n",
    "\n",
    "# plt.show()"
   ]
  },
  {
   "cell_type": "code",
   "execution_count": null,
   "metadata": {},
   "outputs": [],
   "source": []
  }
 ],
 "metadata": {
  "kernelspec": {
   "display_name": "Python 3",
   "language": "python",
   "name": "python3"
  },
  "language_info": {
   "codemirror_mode": {
    "name": "ipython",
    "version": 3
   },
   "file_extension": ".py",
   "mimetype": "text/x-python",
   "name": "python",
   "nbconvert_exporter": "python",
   "pygments_lexer": "ipython3",
   "version": "3.8.3"
  }
 },
 "nbformat": 4,
 "nbformat_minor": 4
}
